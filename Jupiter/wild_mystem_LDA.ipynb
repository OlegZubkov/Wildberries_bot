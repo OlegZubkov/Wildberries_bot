{
 "cells": [
  {
   "cell_type": "code",
   "execution_count": 197,
   "id": "pressing-austin",
   "metadata": {},
   "outputs": [],
   "source": [
    "import pandas as pd\n",
    "import matplotlib.pyplot as plt\n",
    "import numpy as np\n",
    "\n",
    "import re\n",
    "from nltk.corpus import stopwords\n",
    "\n",
    "from pymystem3 import Mystem\n",
    "\n",
    "import string\n",
    "import time\n",
    "\n",
    "import emoji\n",
    "from tqdm import tqdm\n",
    "\n",
    "from joblib import Parallel, delayed\n",
    "\n",
    "from wordcloud import WordCloud\n",
    "import spacy"
   ]
  },
  {
   "cell_type": "code",
   "execution_count": 198,
   "id": "consistent-infrastructure",
   "metadata": {},
   "outputs": [
    {
     "data": {
      "text/html": [
       "<div>\n",
       "<style scoped>\n",
       "    .dataframe tbody tr th:only-of-type {\n",
       "        vertical-align: middle;\n",
       "    }\n",
       "\n",
       "    .dataframe tbody tr th {\n",
       "        vertical-align: top;\n",
       "    }\n",
       "\n",
       "    .dataframe thead th {\n",
       "        text-align: right;\n",
       "    }\n",
       "</style>\n",
       "<table border=\"1\" class=\"dataframe\">\n",
       "  <thead>\n",
       "    <tr style=\"text-align: right;\">\n",
       "      <th></th>\n",
       "      <th>comment</th>\n",
       "      <th>date_time</th>\n",
       "      <th>color</th>\n",
       "      <th>size</th>\n",
       "      <th>thumb_up</th>\n",
       "      <th>thumb_down</th>\n",
       "      <th>prod_eval</th>\n",
       "      <th>prod</th>\n",
       "      <th>brand</th>\n",
       "    </tr>\n",
       "  </thead>\n",
       "  <tbody>\n",
       "    <tr>\n",
       "      <th>0</th>\n",
       "      <td>Зверь машина!👌🏻👌🏻очень понравился! Спасибо</td>\n",
       "      <td>2021-05-02T17:40:11Z</td>\n",
       "      <td>фиолетовый</td>\n",
       "      <td>0</td>\n",
       "      <td>1</td>\n",
       "      <td>0</td>\n",
       "      <td>5</td>\n",
       "      <td>Миксер планетарный SPM7167 1600Вт</td>\n",
       "      <td>StarWind</td>\n",
       "    </tr>\n",
       "    <tr>\n",
       "      <th>1</th>\n",
       "      <td>Миксер очень хороший Ма ша Аллах1 советую 👍</td>\n",
       "      <td>2021-05-02T08:26:34Z</td>\n",
       "      <td>фиолетовый</td>\n",
       "      <td>0</td>\n",
       "      <td>1</td>\n",
       "      <td>3</td>\n",
       "      <td>5</td>\n",
       "      <td>Миксер планетарный SPM7167 1600Вт</td>\n",
       "      <td>StarWind</td>\n",
       "    </tr>\n",
       "    <tr>\n",
       "      <th>2</th>\n",
       "      <td>Пришло все целое. Попробовала в работе. Понрав...</td>\n",
       "      <td>2021-05-01T21:21:00Z</td>\n",
       "      <td>фиолетовый</td>\n",
       "      <td>0</td>\n",
       "      <td>0</td>\n",
       "      <td>1</td>\n",
       "      <td>5</td>\n",
       "      <td>Миксер планетарный SPM7167 1600Вт</td>\n",
       "      <td>StarWind</td>\n",
       "    </tr>\n",
       "    <tr>\n",
       "      <th>3</th>\n",
       "      <td>Очень хотела, долго выбирала и вот наконец куп...</td>\n",
       "      <td>2021-05-01T18:48:08Z</td>\n",
       "      <td>фиолетовый</td>\n",
       "      <td>0</td>\n",
       "      <td>8</td>\n",
       "      <td>0</td>\n",
       "      <td>5</td>\n",
       "      <td>Миксер планетарный SPM7167 1600Вт</td>\n",
       "      <td>StarWind</td>\n",
       "    </tr>\n",
       "    <tr>\n",
       "      <th>4</th>\n",
       "      <td>Сегодня получила миксер и сразу опробовала в д...</td>\n",
       "      <td>2021-05-01T18:37:37Z</td>\n",
       "      <td>фиолетовый</td>\n",
       "      <td>0</td>\n",
       "      <td>4</td>\n",
       "      <td>0</td>\n",
       "      <td>5</td>\n",
       "      <td>Миксер планетарный SPM7167 1600Вт</td>\n",
       "      <td>StarWind</td>\n",
       "    </tr>\n",
       "  </tbody>\n",
       "</table>\n",
       "</div>"
      ],
      "text/plain": [
       "                                             comment             date_time  \\\n",
       "0         Зверь машина!👌🏻👌🏻очень понравился! Спасибо  2021-05-02T17:40:11Z   \n",
       "1        Миксер очень хороший Ма ша Аллах1 советую 👍  2021-05-02T08:26:34Z   \n",
       "2  Пришло все целое. Попробовала в работе. Понрав...  2021-05-01T21:21:00Z   \n",
       "3  Очень хотела, долго выбирала и вот наконец куп...  2021-05-01T18:48:08Z   \n",
       "4  Сегодня получила миксер и сразу опробовала в д...  2021-05-01T18:37:37Z   \n",
       "\n",
       "        color size thumb_up thumb_down prod_eval  \\\n",
       "0  фиолетовый    0        1          0         5   \n",
       "1  фиолетовый    0        1          3         5   \n",
       "2  фиолетовый    0        0          1         5   \n",
       "3  фиолетовый    0        8          0         5   \n",
       "4  фиолетовый    0        4          0         5   \n",
       "\n",
       "                                prod     brand  \n",
       "0  Миксер планетарный SPM7167 1600Вт  StarWind  \n",
       "1  Миксер планетарный SPM7167 1600Вт  StarWind  \n",
       "2  Миксер планетарный SPM7167 1600Вт  StarWind  \n",
       "3  Миксер планетарный SPM7167 1600Вт  StarWind  \n",
       "4  Миксер планетарный SPM7167 1600Вт  StarWind  "
      ]
     },
     "execution_count": 198,
     "metadata": {},
     "output_type": "execute_result"
    }
   ],
   "source": [
    "columns = ['comment', 'date_time', 'color','size', 'thumb_up', 'thumb_down', 'prod_eval', 'prod', 'brand']\n",
    "\n",
    "df = pd.read_json('./input/file_7961412_455951711_109.jl').transpose().reset_index().drop('index', axis=1)\n",
    "df = df.set_axis(columns, axis = 'columns')\n",
    "\n",
    "df.head(5)"
   ]
  },
  {
   "cell_type": "markdown",
   "id": "marine-retro",
   "metadata": {},
   "source": [
    "# stopwords extend"
   ]
  },
  {
   "cell_type": "code",
   "execution_count": 199,
   "id": "criminal-selection",
   "metadata": {},
   "outputs": [
    {
     "name": "stdout",
     "output_type": "stream",
     "text": [
      "151\n",
      "163\n"
     ]
    }
   ],
   "source": [
    "# нужно обновить стоп-слова, добавив как миниму то, что в облаке. Сейчас использую стоп-слова NLTK, \n",
    "# но стоит сравнить с другими\n",
    "russian_stopwords = stopwords.words(\"russian\")\n",
    "print(len(russian_stopwords))\n",
    "russian_stopwords.extend(['очень', 'хороший', 'отличный', 'свой', 'отзыв', 'миксер', 'супер','это', 'спасибо', 'работа',\n",
    "                          re.sub(r'[.,?!@#~`$%^&*_+-=]', '', df['brand'][0].lower()), \n",
    "                          re.sub(r'[.,?!@#~`$%^&*_+-=]', '', df['prod'][0].lower())])\n",
    "print(len(russian_stopwords))"
   ]
  },
  {
   "cell_type": "code",
   "execution_count": 200,
   "id": "discrete-hierarchy",
   "metadata": {},
   "outputs": [
    {
     "data": {
      "text/html": [
       "<div>\n",
       "<style scoped>\n",
       "    .dataframe tbody tr th:only-of-type {\n",
       "        vertical-align: middle;\n",
       "    }\n",
       "\n",
       "    .dataframe tbody tr th {\n",
       "        vertical-align: top;\n",
       "    }\n",
       "\n",
       "    .dataframe thead th {\n",
       "        text-align: right;\n",
       "    }\n",
       "</style>\n",
       "<table border=\"1\" class=\"dataframe\">\n",
       "  <thead>\n",
       "    <tr style=\"text-align: right;\">\n",
       "      <th></th>\n",
       "      <th>comment</th>\n",
       "      <th>date_time</th>\n",
       "      <th>color</th>\n",
       "      <th>size</th>\n",
       "      <th>thumb_up</th>\n",
       "      <th>thumb_down</th>\n",
       "      <th>prod_eval</th>\n",
       "      <th>prod</th>\n",
       "      <th>brand</th>\n",
       "    </tr>\n",
       "  </thead>\n",
       "  <tbody>\n",
       "    <tr>\n",
       "      <th>0</th>\n",
       "      <td>Зверь машина!👌🏻👌🏻очень понравился! Спасибо</td>\n",
       "      <td>2021-05-02T17:40:11Z</td>\n",
       "      <td>фиолетовый</td>\n",
       "      <td>0</td>\n",
       "      <td>1</td>\n",
       "      <td>0</td>\n",
       "      <td>5</td>\n",
       "      <td>Миксер планетарный SPM7167 1600Вт</td>\n",
       "      <td>StarWind</td>\n",
       "    </tr>\n",
       "    <tr>\n",
       "      <th>1</th>\n",
       "      <td>Миксер очень хороший Ма ша Аллах1 советую 👍</td>\n",
       "      <td>2021-05-02T08:26:34Z</td>\n",
       "      <td>фиолетовый</td>\n",
       "      <td>0</td>\n",
       "      <td>1</td>\n",
       "      <td>3</td>\n",
       "      <td>5</td>\n",
       "      <td>Миксер планетарный SPM7167 1600Вт</td>\n",
       "      <td>StarWind</td>\n",
       "    </tr>\n",
       "    <tr>\n",
       "      <th>2</th>\n",
       "      <td>Пришло все целое. Попробовала в работе. Понрав...</td>\n",
       "      <td>2021-05-01T21:21:00Z</td>\n",
       "      <td>фиолетовый</td>\n",
       "      <td>0</td>\n",
       "      <td>0</td>\n",
       "      <td>1</td>\n",
       "      <td>5</td>\n",
       "      <td>Миксер планетарный SPM7167 1600Вт</td>\n",
       "      <td>StarWind</td>\n",
       "    </tr>\n",
       "    <tr>\n",
       "      <th>3</th>\n",
       "      <td>Очень хотела, долго выбирала и вот наконец куп...</td>\n",
       "      <td>2021-05-01T18:48:08Z</td>\n",
       "      <td>фиолетовый</td>\n",
       "      <td>0</td>\n",
       "      <td>8</td>\n",
       "      <td>0</td>\n",
       "      <td>5</td>\n",
       "      <td>Миксер планетарный SPM7167 1600Вт</td>\n",
       "      <td>StarWind</td>\n",
       "    </tr>\n",
       "    <tr>\n",
       "      <th>4</th>\n",
       "      <td>Сегодня получила миксер и сразу опробовала в д...</td>\n",
       "      <td>2021-05-01T18:37:37Z</td>\n",
       "      <td>фиолетовый</td>\n",
       "      <td>0</td>\n",
       "      <td>4</td>\n",
       "      <td>0</td>\n",
       "      <td>5</td>\n",
       "      <td>Миксер планетарный SPM7167 1600Вт</td>\n",
       "      <td>StarWind</td>\n",
       "    </tr>\n",
       "  </tbody>\n",
       "</table>\n",
       "</div>"
      ],
      "text/plain": [
       "                                             comment             date_time  \\\n",
       "0         Зверь машина!👌🏻👌🏻очень понравился! Спасибо  2021-05-02T17:40:11Z   \n",
       "1        Миксер очень хороший Ма ша Аллах1 советую 👍  2021-05-02T08:26:34Z   \n",
       "2  Пришло все целое. Попробовала в работе. Понрав...  2021-05-01T21:21:00Z   \n",
       "3  Очень хотела, долго выбирала и вот наконец куп...  2021-05-01T18:48:08Z   \n",
       "4  Сегодня получила миксер и сразу опробовала в д...  2021-05-01T18:37:37Z   \n",
       "\n",
       "        color size thumb_up thumb_down prod_eval  \\\n",
       "0  фиолетовый    0        1          0         5   \n",
       "1  фиолетовый    0        1          3         5   \n",
       "2  фиолетовый    0        0          1         5   \n",
       "3  фиолетовый    0        8          0         5   \n",
       "4  фиолетовый    0        4          0         5   \n",
       "\n",
       "                                prod     brand  \n",
       "0  Миксер планетарный SPM7167 1600Вт  StarWind  \n",
       "1  Миксер планетарный SPM7167 1600Вт  StarWind  \n",
       "2  Миксер планетарный SPM7167 1600Вт  StarWind  \n",
       "3  Миксер планетарный SPM7167 1600Вт  StarWind  \n",
       "4  Миксер планетарный SPM7167 1600Вт  StarWind  "
      ]
     },
     "execution_count": 200,
     "metadata": {},
     "output_type": "execute_result"
    }
   ],
   "source": [
    "df.head(5)"
   ]
  },
  {
   "cell_type": "markdown",
   "id": "sunrise-welsh",
   "metadata": {},
   "source": [
    "# очистка текста (эмодзи, стоп-слова, символы)"
   ]
  },
  {
   "cell_type": "code",
   "execution_count": 201,
   "id": "functioning-glucose",
   "metadata": {},
   "outputs": [],
   "source": [
    "### Text Normalizing function. Part of the following function was taken from this link. \n",
    "def clean_text(text):\n",
    "    \n",
    "    emoji_pattern = re.compile(\"[\"\n",
    "        u\"\\U0001F600-\\U0001F64F\"  # emoticons\n",
    "        u\"\\U0001F300-\\U0001F5FF\"  # symbols & pictographs\n",
    "        u\"\\U0001F680-\\U0001F6FF\"  # transport & map symbols\n",
    "        u\"\\U0001F1E0-\\U0001F1FF\"  # flags (iOS)\n",
    "        u\"\\U0001F1F2-\\U0001F1F4\"  # Macau flag\n",
    "        u\"\\U0001F1E6-\\U0001F1FF\"  # flags\n",
    "        u\"\\U0001F600-\\U0001F64F\"\n",
    "        u\"\\U00002702-\\U000027B0\"\n",
    "        u\"\\U000024C2-\\U0001F251\"\n",
    "        u\"\\U0001f926-\\U0001f937\"\n",
    "        u\"\\U0001F1F2\"\n",
    "        u\"\\U0001F1F4\"\n",
    "        u\"\\U0001F620\"\n",
    "        u\"\\u200d\"\n",
    "        u\"\\u2640-\\u2642\"\n",
    "        \"]+\", flags=re.UNICODE)\n",
    "\n",
    "    text = text.translate(string.punctuation)\n",
    "    text = text.lower().split()\n",
    "    text = [w for w in text if not w in russian_stopwords and len(w) >= 3]\n",
    "    text = \" \".join(text)\n",
    "\n",
    "    ## Clean the text\n",
    "    text = re.sub(r\"[,!.\\/'+-=)(]\", \" \", text)\n",
    "    text = re.sub(r\"\\'s\", \" \", text)\n",
    "    text = re.sub(r\",\", \" \", text)\n",
    "    text = re.sub(r\"\\.\", \" \", text)\n",
    "    text = re.sub(r\"!\", \" ! \", text)\n",
    "    text = re.sub(r\"\\/\", \" \", text)\n",
    "    text = re.sub(r\"\\^\", \" ^ \", text)\n",
    "    text = re.sub(r\"\\+\", \" + \", text)\n",
    "    text = re.sub(r\"\\%\", \" \", text)\n",
    "    text = re.sub(r\"\\-\", \" - \", text)\n",
    "    text = re.sub(r\"\\=\", \" = \", text)\n",
    "    text = re.sub(r\"\\|\", \" \", text)\n",
    "    text = re.sub(r\"'\", \" \", text)\n",
    "    text = re.sub(r\"(\\d+)(k)\", r\"\\g<1>000\", text)\n",
    "    text = re.sub(r\":\", \" : \", text)\n",
    "    text = re.sub(r\"\\s{2,}\", \" \", text)\n",
    "    text = emoji_pattern.sub(r'', text)\n",
    "    text = \" \".join(text.split())\n",
    "    \n",
    "\n",
    "    return text\n"
   ]
  },
  {
   "cell_type": "code",
   "execution_count": 202,
   "id": "super-writing",
   "metadata": {},
   "outputs": [],
   "source": [
    "df['cleaned_comment'] = df['comment'].map(lambda x: clean_text(x))"
   ]
  },
  {
   "cell_type": "code",
   "execution_count": 203,
   "id": "informative-giving",
   "metadata": {},
   "outputs": [
    {
     "data": {
      "text/html": [
       "<div>\n",
       "<style scoped>\n",
       "    .dataframe tbody tr th:only-of-type {\n",
       "        vertical-align: middle;\n",
       "    }\n",
       "\n",
       "    .dataframe tbody tr th {\n",
       "        vertical-align: top;\n",
       "    }\n",
       "\n",
       "    .dataframe thead th {\n",
       "        text-align: right;\n",
       "    }\n",
       "</style>\n",
       "<table border=\"1\" class=\"dataframe\">\n",
       "  <thead>\n",
       "    <tr style=\"text-align: right;\">\n",
       "      <th></th>\n",
       "      <th>comment</th>\n",
       "      <th>date_time</th>\n",
       "      <th>color</th>\n",
       "      <th>size</th>\n",
       "      <th>thumb_up</th>\n",
       "      <th>thumb_down</th>\n",
       "      <th>prod_eval</th>\n",
       "      <th>prod</th>\n",
       "      <th>brand</th>\n",
       "      <th>cleaned_comment</th>\n",
       "    </tr>\n",
       "  </thead>\n",
       "  <tbody>\n",
       "    <tr>\n",
       "      <th>0</th>\n",
       "      <td>Зверь машина!👌🏻👌🏻очень понравился! Спасибо</td>\n",
       "      <td>2021-05-02T17:40:11Z</td>\n",
       "      <td>фиолетовый</td>\n",
       "      <td>0</td>\n",
       "      <td>1</td>\n",
       "      <td>0</td>\n",
       "      <td>5</td>\n",
       "      <td>Миксер планетарный SPM7167 1600Вт</td>\n",
       "      <td>StarWind</td>\n",
       "      <td>зверь машина очень понравился</td>\n",
       "    </tr>\n",
       "    <tr>\n",
       "      <th>1</th>\n",
       "      <td>Миксер очень хороший Ма ша Аллах1 советую 👍</td>\n",
       "      <td>2021-05-02T08:26:34Z</td>\n",
       "      <td>фиолетовый</td>\n",
       "      <td>0</td>\n",
       "      <td>1</td>\n",
       "      <td>3</td>\n",
       "      <td>5</td>\n",
       "      <td>Миксер планетарный SPM7167 1600Вт</td>\n",
       "      <td>StarWind</td>\n",
       "      <td>аллах советую</td>\n",
       "    </tr>\n",
       "    <tr>\n",
       "      <th>2</th>\n",
       "      <td>Пришло все целое. Попробовала в работе. Понрав...</td>\n",
       "      <td>2021-05-01T21:21:00Z</td>\n",
       "      <td>фиолетовый</td>\n",
       "      <td>0</td>\n",
       "      <td>0</td>\n",
       "      <td>1</td>\n",
       "      <td>5</td>\n",
       "      <td>Миксер планетарный SPM7167 1600Вт</td>\n",
       "      <td>StarWind</td>\n",
       "      <td>пришло целое попробовала работе понравился шум...</td>\n",
       "    </tr>\n",
       "    <tr>\n",
       "      <th>3</th>\n",
       "      <td>Очень хотела, долго выбирала и вот наконец куп...</td>\n",
       "      <td>2021-05-01T18:48:08Z</td>\n",
       "      <td>фиолетовый</td>\n",
       "      <td>0</td>\n",
       "      <td>8</td>\n",
       "      <td>0</td>\n",
       "      <td>5</td>\n",
       "      <td>Миксер планетарный SPM7167 1600Вт</td>\n",
       "      <td>StarWind</td>\n",
       "      <td>хотела долго выбирала купила красивый цвет всё...</td>\n",
       "    </tr>\n",
       "    <tr>\n",
       "      <th>4</th>\n",
       "      <td>Сегодня получила миксер и сразу опробовала в д...</td>\n",
       "      <td>2021-05-01T18:37:37Z</td>\n",
       "      <td>фиолетовый</td>\n",
       "      <td>0</td>\n",
       "      <td>4</td>\n",
       "      <td>0</td>\n",
       "      <td>5</td>\n",
       "      <td>Миксер планетарный SPM7167 1600Вт</td>\n",
       "      <td>StarWind</td>\n",
       "      <td>сегодня получила сразу опробовала деле успела ...</td>\n",
       "    </tr>\n",
       "  </tbody>\n",
       "</table>\n",
       "</div>"
      ],
      "text/plain": [
       "                                             comment             date_time  \\\n",
       "0         Зверь машина!👌🏻👌🏻очень понравился! Спасибо  2021-05-02T17:40:11Z   \n",
       "1        Миксер очень хороший Ма ша Аллах1 советую 👍  2021-05-02T08:26:34Z   \n",
       "2  Пришло все целое. Попробовала в работе. Понрав...  2021-05-01T21:21:00Z   \n",
       "3  Очень хотела, долго выбирала и вот наконец куп...  2021-05-01T18:48:08Z   \n",
       "4  Сегодня получила миксер и сразу опробовала в д...  2021-05-01T18:37:37Z   \n",
       "\n",
       "        color size thumb_up thumb_down prod_eval  \\\n",
       "0  фиолетовый    0        1          0         5   \n",
       "1  фиолетовый    0        1          3         5   \n",
       "2  фиолетовый    0        0          1         5   \n",
       "3  фиолетовый    0        8          0         5   \n",
       "4  фиолетовый    0        4          0         5   \n",
       "\n",
       "                                prod     brand  \\\n",
       "0  Миксер планетарный SPM7167 1600Вт  StarWind   \n",
       "1  Миксер планетарный SPM7167 1600Вт  StarWind   \n",
       "2  Миксер планетарный SPM7167 1600Вт  StarWind   \n",
       "3  Миксер планетарный SPM7167 1600Вт  StarWind   \n",
       "4  Миксер планетарный SPM7167 1600Вт  StarWind   \n",
       "\n",
       "                                     cleaned_comment  \n",
       "0                      зверь машина очень понравился  \n",
       "1                                      аллах советую  \n",
       "2  пришло целое попробовала работе понравился шум...  \n",
       "3  хотела долго выбирала купила красивый цвет всё...  \n",
       "4  сегодня получила сразу опробовала деле успела ...  "
      ]
     },
     "execution_count": 203,
     "metadata": {},
     "output_type": "execute_result"
    }
   ],
   "source": [
    "df.head()"
   ]
  },
  {
   "cell_type": "markdown",
   "id": "mighty-wonder",
   "metadata": {},
   "source": [
    "# Mystem и удаление опустевших комментов"
   ]
  },
  {
   "cell_type": "code",
   "execution_count": 204,
   "id": "meaningful-flight",
   "metadata": {},
   "outputs": [
    {
     "data": {
      "text/html": [
       "<div>\n",
       "<style scoped>\n",
       "    .dataframe tbody tr th:only-of-type {\n",
       "        vertical-align: middle;\n",
       "    }\n",
       "\n",
       "    .dataframe tbody tr th {\n",
       "        vertical-align: top;\n",
       "    }\n",
       "\n",
       "    .dataframe thead th {\n",
       "        text-align: right;\n",
       "    }\n",
       "</style>\n",
       "<table border=\"1\" class=\"dataframe\">\n",
       "  <thead>\n",
       "    <tr style=\"text-align: right;\">\n",
       "      <th></th>\n",
       "      <th>comment</th>\n",
       "      <th>date_time</th>\n",
       "      <th>color</th>\n",
       "      <th>size</th>\n",
       "      <th>thumb_up</th>\n",
       "      <th>thumb_down</th>\n",
       "      <th>prod_eval</th>\n",
       "      <th>prod</th>\n",
       "      <th>brand</th>\n",
       "      <th>cleaned_comment</th>\n",
       "    </tr>\n",
       "  </thead>\n",
       "  <tbody>\n",
       "    <tr>\n",
       "      <th>71</th>\n",
       "      <td>Отличный миксер</td>\n",
       "      <td>2021-03-25T05:30:48Z</td>\n",
       "      <td>фиолетовый</td>\n",
       "      <td>0</td>\n",
       "      <td>2</td>\n",
       "      <td>1</td>\n",
       "      <td>5</td>\n",
       "      <td>Миксер планетарный SPM7167 1600Вт</td>\n",
       "      <td>StarWind</td>\n",
       "      <td></td>\n",
       "    </tr>\n",
       "    <tr>\n",
       "      <th>87</th>\n",
       "      <td>Отличный миксер</td>\n",
       "      <td>2021-03-15T06:29:58Z</td>\n",
       "      <td>фиолетовый</td>\n",
       "      <td>0</td>\n",
       "      <td>1</td>\n",
       "      <td>0</td>\n",
       "      <td>5</td>\n",
       "      <td>Миксер планетарный SPM7167 1600Вт</td>\n",
       "      <td>StarWind</td>\n",
       "      <td></td>\n",
       "    </tr>\n",
       "    <tr>\n",
       "      <th>188</th>\n",
       "      <td>Отличный миксер</td>\n",
       "      <td>2021-01-05T11:04:48Z</td>\n",
       "      <td>фиолетовый</td>\n",
       "      <td>0</td>\n",
       "      <td>1</td>\n",
       "      <td>2</td>\n",
       "      <td>5</td>\n",
       "      <td>Миксер планетарный SPM7167 1600Вт</td>\n",
       "      <td>StarWind</td>\n",
       "      <td></td>\n",
       "    </tr>\n",
       "    <tr>\n",
       "      <th>217</th>\n",
       "      <td>Супер миксер</td>\n",
       "      <td>2021-01-02T13:21:52Z</td>\n",
       "      <td>фиолетовый</td>\n",
       "      <td>0</td>\n",
       "      <td>2</td>\n",
       "      <td>1</td>\n",
       "      <td>5</td>\n",
       "      <td>Миксер планетарный SPM7167 1600Вт</td>\n",
       "      <td>StarWind</td>\n",
       "      <td></td>\n",
       "    </tr>\n",
       "    <tr>\n",
       "      <th>474</th>\n",
       "      <td>Отличный миксер</td>\n",
       "      <td>2020-11-25T06:30:41Z</td>\n",
       "      <td>фиолетовый</td>\n",
       "      <td>0</td>\n",
       "      <td>1</td>\n",
       "      <td>1</td>\n",
       "      <td>5</td>\n",
       "      <td>Миксер планетарный SPM7167 1600Вт</td>\n",
       "      <td>StarWind</td>\n",
       "      <td></td>\n",
       "    </tr>\n",
       "    <tr>\n",
       "      <th>484</th>\n",
       "      <td>😍😍😍👍👍👍</td>\n",
       "      <td>2020-11-23T09:34:17Z</td>\n",
       "      <td>фиолетовый</td>\n",
       "      <td>0</td>\n",
       "      <td>0</td>\n",
       "      <td>1</td>\n",
       "      <td>5</td>\n",
       "      <td>Миксер планетарный SPM7167 1600Вт</td>\n",
       "      <td>StarWind</td>\n",
       "      <td></td>\n",
       "    </tr>\n",
       "    <tr>\n",
       "      <th>505</th>\n",
       "      <td>Отличный миксер</td>\n",
       "      <td>2020-11-20T04:56:31Z</td>\n",
       "      <td>фиолетовый</td>\n",
       "      <td>0</td>\n",
       "      <td>3</td>\n",
       "      <td>0</td>\n",
       "      <td>5</td>\n",
       "      <td>Миксер планетарный SPM7167 1600Вт</td>\n",
       "      <td>StarWind</td>\n",
       "      <td></td>\n",
       "    </tr>\n",
       "  </tbody>\n",
       "</table>\n",
       "</div>"
      ],
      "text/plain": [
       "              comment             date_time       color size thumb_up  \\\n",
       "71    Отличный миксер  2021-03-25T05:30:48Z  фиолетовый    0        2   \n",
       "87    Отличный миксер  2021-03-15T06:29:58Z  фиолетовый    0        1   \n",
       "188  Отличный миксер   2021-01-05T11:04:48Z  фиолетовый    0        1   \n",
       "217      Супер миксер  2021-01-02T13:21:52Z  фиолетовый    0        2   \n",
       "474   Отличный миксер  2020-11-25T06:30:41Z  фиолетовый    0        1   \n",
       "484            😍😍😍👍👍👍  2020-11-23T09:34:17Z  фиолетовый    0        0   \n",
       "505   Отличный миксер  2020-11-20T04:56:31Z  фиолетовый    0        3   \n",
       "\n",
       "    thumb_down prod_eval                               prod     brand  \\\n",
       "71           1         5  Миксер планетарный SPM7167 1600Вт  StarWind   \n",
       "87           0         5  Миксер планетарный SPM7167 1600Вт  StarWind   \n",
       "188          2         5  Миксер планетарный SPM7167 1600Вт  StarWind   \n",
       "217          1         5  Миксер планетарный SPM7167 1600Вт  StarWind   \n",
       "474          1         5  Миксер планетарный SPM7167 1600Вт  StarWind   \n",
       "484          1         5  Миксер планетарный SPM7167 1600Вт  StarWind   \n",
       "505          0         5  Миксер планетарный SPM7167 1600Вт  StarWind   \n",
       "\n",
       "    cleaned_comment  \n",
       "71                   \n",
       "87                   \n",
       "188                  \n",
       "217                  \n",
       "474                  \n",
       "484                  \n",
       "505                  "
      ]
     },
     "execution_count": 204,
     "metadata": {},
     "output_type": "execute_result"
    }
   ],
   "source": [
    "df[df['cleaned_comment']=='']"
   ]
  },
  {
   "cell_type": "code",
   "execution_count": 205,
   "id": "backed-tracy",
   "metadata": {},
   "outputs": [],
   "source": [
    "df = df.drop(df[df['cleaned_comment']==''].index)"
   ]
  },
  {
   "cell_type": "code",
   "execution_count": 206,
   "id": "stunning-scholar",
   "metadata": {},
   "outputs": [],
   "source": [
    "def lemmatize(text): \n",
    "    text =  [i for i in text]\n",
    "    m = Mystem()\n",
    "    merged_text = \"|\".join(text)\n",
    "\n",
    "    doc = []\n",
    "    res = []\n",
    "    count = 0\n",
    "    lemma = m.lemmatize(merged_text)\n",
    "    for t in lemma:\n",
    "        \n",
    "        if t != '|' and count+1<len(lemma):\n",
    "            doc.append(t)\n",
    "            count+=1\n",
    "          \n",
    "        else:\n",
    "            doc = ''.join(i for i in doc)\n",
    "            res.append(doc)\n",
    "            count+=1\n",
    "            doc = []\n",
    "    return res"
   ]
  },
  {
   "cell_type": "code",
   "execution_count": 207,
   "id": "mathematical-snapshot",
   "metadata": {},
   "outputs": [],
   "source": [
    "res = lemmatize(df['cleaned_comment'])"
   ]
  },
  {
   "cell_type": "code",
   "execution_count": 208,
   "id": "split-devil",
   "metadata": {},
   "outputs": [],
   "source": [
    "df['lemma_comment'] = res"
   ]
  },
  {
   "cell_type": "code",
   "execution_count": 210,
   "id": "amazing-member",
   "metadata": {},
   "outputs": [],
   "source": [
    "df['lemma_comment'] = df['lemma_comment'].map(lambda x: clean_text(x))\n",
    "df = df.drop(df[df['lemma_comment']==''].index)"
   ]
  },
  {
   "cell_type": "code",
   "execution_count": 227,
   "id": "moving-coast",
   "metadata": {},
   "outputs": [
    {
     "data": {
      "text/html": [
       "<div>\n",
       "<style scoped>\n",
       "    .dataframe tbody tr th:only-of-type {\n",
       "        vertical-align: middle;\n",
       "    }\n",
       "\n",
       "    .dataframe tbody tr th {\n",
       "        vertical-align: top;\n",
       "    }\n",
       "\n",
       "    .dataframe thead th {\n",
       "        text-align: right;\n",
       "    }\n",
       "</style>\n",
       "<table border=\"1\" class=\"dataframe\">\n",
       "  <thead>\n",
       "    <tr style=\"text-align: right;\">\n",
       "      <th></th>\n",
       "      <th>comment</th>\n",
       "      <th>date_time</th>\n",
       "      <th>color</th>\n",
       "      <th>size</th>\n",
       "      <th>thumb_up</th>\n",
       "      <th>thumb_down</th>\n",
       "      <th>prod_eval</th>\n",
       "      <th>prod</th>\n",
       "      <th>brand</th>\n",
       "      <th>cleaned_comment</th>\n",
       "      <th>lemma_comment</th>\n",
       "    </tr>\n",
       "  </thead>\n",
       "  <tbody>\n",
       "    <tr>\n",
       "      <th>0</th>\n",
       "      <td>Зверь машина!👌🏻👌🏻очень понравился! Спасибо</td>\n",
       "      <td>2021-05-02T17:40:11Z</td>\n",
       "      <td>фиолетовый</td>\n",
       "      <td>0</td>\n",
       "      <td>1</td>\n",
       "      <td>0</td>\n",
       "      <td>5</td>\n",
       "      <td>Миксер планетарный SPM7167 1600Вт</td>\n",
       "      <td>StarWind</td>\n",
       "      <td>зверь машина очень понравился</td>\n",
       "      <td>зверь машина понравиться</td>\n",
       "    </tr>\n",
       "    <tr>\n",
       "      <th>1</th>\n",
       "      <td>Миксер очень хороший Ма ша Аллах1 советую 👍</td>\n",
       "      <td>2021-05-02T08:26:34Z</td>\n",
       "      <td>фиолетовый</td>\n",
       "      <td>0</td>\n",
       "      <td>1</td>\n",
       "      <td>3</td>\n",
       "      <td>5</td>\n",
       "      <td>Миксер планетарный SPM7167 1600Вт</td>\n",
       "      <td>StarWind</td>\n",
       "      <td>аллах советую</td>\n",
       "      <td>аллах советовать</td>\n",
       "    </tr>\n",
       "    <tr>\n",
       "      <th>2</th>\n",
       "      <td>Пришло все целое. Попробовала в работе. Понрав...</td>\n",
       "      <td>2021-05-01T21:21:00Z</td>\n",
       "      <td>фиолетовый</td>\n",
       "      <td>0</td>\n",
       "      <td>0</td>\n",
       "      <td>1</td>\n",
       "      <td>5</td>\n",
       "      <td>Миксер планетарный SPM7167 1600Вт</td>\n",
       "      <td>StarWind</td>\n",
       "      <td>пришло целое попробовала работе понравился шум...</td>\n",
       "      <td>приходить целое попробовать понравиться шумный...</td>\n",
       "    </tr>\n",
       "    <tr>\n",
       "      <th>3</th>\n",
       "      <td>Очень хотела, долго выбирала и вот наконец куп...</td>\n",
       "      <td>2021-05-01T18:48:08Z</td>\n",
       "      <td>фиолетовый</td>\n",
       "      <td>0</td>\n",
       "      <td>8</td>\n",
       "      <td>0</td>\n",
       "      <td>5</td>\n",
       "      <td>Миксер планетарный SPM7167 1600Вт</td>\n",
       "      <td>StarWind</td>\n",
       "      <td>хотела долго выбирала купила красивый цвет всё...</td>\n",
       "      <td>хотеть долго выбирать купить красивый цвет раб...</td>\n",
       "    </tr>\n",
       "    <tr>\n",
       "      <th>4</th>\n",
       "      <td>Сегодня получила миксер и сразу опробовала в д...</td>\n",
       "      <td>2021-05-01T18:37:37Z</td>\n",
       "      <td>фиолетовый</td>\n",
       "      <td>0</td>\n",
       "      <td>4</td>\n",
       "      <td>0</td>\n",
       "      <td>5</td>\n",
       "      <td>Миксер планетарный SPM7167 1600Вт</td>\n",
       "      <td>StarWind</td>\n",
       "      <td>сегодня получила сразу опробовала деле успела ...</td>\n",
       "      <td>сегодня получать сразу опробовать дело успеват...</td>\n",
       "    </tr>\n",
       "    <tr>\n",
       "      <th>...</th>\n",
       "      <td>...</td>\n",
       "      <td>...</td>\n",
       "      <td>...</td>\n",
       "      <td>...</td>\n",
       "      <td>...</td>\n",
       "      <td>...</td>\n",
       "      <td>...</td>\n",
       "      <td>...</td>\n",
       "      <td>...</td>\n",
       "      <td>...</td>\n",
       "      <td>...</td>\n",
       "    </tr>\n",
       "    <tr>\n",
       "      <th>668</th>\n",
       "      <td>Это просто супер. Немогу нарадоваться ему. Раб...</td>\n",
       "      <td>2019-09-12T06:54:51.961383438Z</td>\n",
       "      <td>фиолетовый</td>\n",
       "      <td>0</td>\n",
       "      <td>5</td>\n",
       "      <td>4</td>\n",
       "      <td>5</td>\n",
       "      <td>Миксер стационарный SPM7167 1600Вт</td>\n",
       "      <td>StarWind</td>\n",
       "      <td>просто супер немогу нарадоваться ему работает ...</td>\n",
       "      <td>просто немогать нарадоваться работать мощно ти...</td>\n",
       "    </tr>\n",
       "    <tr>\n",
       "      <th>669</th>\n",
       "      <td>18.07.2019 прибыл данный агрегат в наш дом, же...</td>\n",
       "      <td>2019-08-26T18:09:34.246907845Z</td>\n",
       "      <td>фиолетовый</td>\n",
       "      <td>0</td>\n",
       "      <td>8</td>\n",
       "      <td>0</td>\n",
       "      <td>5</td>\n",
       "      <td>Миксер стационарный SPM7167 1600Вт</td>\n",
       "      <td>StarWind</td>\n",
       "      <td>прибыл данный агрегат наш дом жена решила сраз...</td>\n",
       "      <td>прибывать данный агрегат наш дом жена решать с...</td>\n",
       "    </tr>\n",
       "    <tr>\n",
       "      <th>670</th>\n",
       "      <td>Миксер просто бомба! Пришёл в двойной упаковке...</td>\n",
       "      <td>2019-08-24T09:31:08.725139922Z</td>\n",
       "      <td>фиолетовый</td>\n",
       "      <td>0</td>\n",
       "      <td>4</td>\n",
       "      <td>0</td>\n",
       "      <td>5</td>\n",
       "      <td>Миксер стационарный SPM7167 1600Вт</td>\n",
       "      <td>StarWind</td>\n",
       "      <td>просто бомба пришёл двойной упаковке всё налич...</td>\n",
       "      <td>просто бомба приходить двойной упаковка наличи...</td>\n",
       "    </tr>\n",
       "    <tr>\n",
       "      <th>671</th>\n",
       "      <td>Вчера получила миксер,муж подарил на 30 летие ...</td>\n",
       "      <td>2019-07-06T07:34:02.483280032Z</td>\n",
       "      <td>фиолетовый</td>\n",
       "      <td>0</td>\n",
       "      <td>5</td>\n",
       "      <td>2</td>\n",
       "      <td>5</td>\n",
       "      <td>Миксер стационарный SPM7167 1600Вт</td>\n",
       "      <td>StarWind</td>\n",
       "      <td>вчера получила миксер муж подарил летие совмес...</td>\n",
       "      <td>вчера получать муж подарить летие совместный ж...</td>\n",
       "    </tr>\n",
       "    <tr>\n",
       "      <th>672</th>\n",
       "      <td>Получили миксер. Миксер новый, коробка не мята...</td>\n",
       "      <td>2019-05-19T03:37:12.825825906Z</td>\n",
       "      <td>фиолетовый</td>\n",
       "      <td>0</td>\n",
       "      <td>12</td>\n",
       "      <td>1</td>\n",
       "      <td>5</td>\n",
       "      <td>Миксер стационарный SPM7167 1600Вт</td>\n",
       "      <td>StarWind</td>\n",
       "      <td>получили миксер новый коробка мятая комплекте ...</td>\n",
       "      <td>получать новый коробка мятый комплект указыват...</td>\n",
       "    </tr>\n",
       "  </tbody>\n",
       "</table>\n",
       "<p>673 rows × 11 columns</p>\n",
       "</div>"
      ],
      "text/plain": [
       "                                               comment  \\\n",
       "0           Зверь машина!👌🏻👌🏻очень понравился! Спасибо   \n",
       "1          Миксер очень хороший Ма ша Аллах1 советую 👍   \n",
       "2    Пришло все целое. Попробовала в работе. Понрав...   \n",
       "3    Очень хотела, долго выбирала и вот наконец куп...   \n",
       "4    Сегодня получила миксер и сразу опробовала в д...   \n",
       "..                                                 ...   \n",
       "668  Это просто супер. Немогу нарадоваться ему. Раб...   \n",
       "669  18.07.2019 прибыл данный агрегат в наш дом, же...   \n",
       "670  Миксер просто бомба! Пришёл в двойной упаковке...   \n",
       "671  Вчера получила миксер,муж подарил на 30 летие ...   \n",
       "672  Получили миксер. Миксер новый, коробка не мята...   \n",
       "\n",
       "                          date_time       color size thumb_up thumb_down  \\\n",
       "0              2021-05-02T17:40:11Z  фиолетовый    0        1          0   \n",
       "1              2021-05-02T08:26:34Z  фиолетовый    0        1          3   \n",
       "2              2021-05-01T21:21:00Z  фиолетовый    0        0          1   \n",
       "3              2021-05-01T18:48:08Z  фиолетовый    0        8          0   \n",
       "4              2021-05-01T18:37:37Z  фиолетовый    0        4          0   \n",
       "..                              ...         ...  ...      ...        ...   \n",
       "668  2019-09-12T06:54:51.961383438Z  фиолетовый    0        5          4   \n",
       "669  2019-08-26T18:09:34.246907845Z  фиолетовый    0        8          0   \n",
       "670  2019-08-24T09:31:08.725139922Z  фиолетовый    0        4          0   \n",
       "671  2019-07-06T07:34:02.483280032Z  фиолетовый    0        5          2   \n",
       "672  2019-05-19T03:37:12.825825906Z  фиолетовый    0       12          1   \n",
       "\n",
       "    prod_eval                                prod     brand  \\\n",
       "0           5   Миксер планетарный SPM7167 1600Вт  StarWind   \n",
       "1           5   Миксер планетарный SPM7167 1600Вт  StarWind   \n",
       "2           5   Миксер планетарный SPM7167 1600Вт  StarWind   \n",
       "3           5   Миксер планетарный SPM7167 1600Вт  StarWind   \n",
       "4           5   Миксер планетарный SPM7167 1600Вт  StarWind   \n",
       "..        ...                                 ...       ...   \n",
       "668         5  Миксер стационарный SPM7167 1600Вт  StarWind   \n",
       "669         5  Миксер стационарный SPM7167 1600Вт  StarWind   \n",
       "670         5  Миксер стационарный SPM7167 1600Вт  StarWind   \n",
       "671         5  Миксер стационарный SPM7167 1600Вт  StarWind   \n",
       "672         5  Миксер стационарный SPM7167 1600Вт  StarWind   \n",
       "\n",
       "                                       cleaned_comment  \\\n",
       "0                        зверь машина очень понравился   \n",
       "1                                        аллах советую   \n",
       "2    пришло целое попробовала работе понравился шум...   \n",
       "3    хотела долго выбирала купила красивый цвет всё...   \n",
       "4    сегодня получила сразу опробовала деле успела ...   \n",
       "..                                                 ...   \n",
       "668  просто супер немогу нарадоваться ему работает ...   \n",
       "669  прибыл данный агрегат наш дом жена решила сраз...   \n",
       "670  просто бомба пришёл двойной упаковке всё налич...   \n",
       "671  вчера получила миксер муж подарил летие совмес...   \n",
       "672  получили миксер новый коробка мятая комплекте ...   \n",
       "\n",
       "                                         lemma_comment  \n",
       "0                             зверь машина понравиться  \n",
       "1                                     аллах советовать  \n",
       "2    приходить целое попробовать понравиться шумный...  \n",
       "3    хотеть долго выбирать купить красивый цвет раб...  \n",
       "4    сегодня получать сразу опробовать дело успеват...  \n",
       "..                                                 ...  \n",
       "668  просто немогать нарадоваться работать мощно ти...  \n",
       "669  прибывать данный агрегат наш дом жена решать с...  \n",
       "670  просто бомба приходить двойной упаковка наличи...  \n",
       "671  вчера получать муж подарить летие совместный ж...  \n",
       "672  получать новый коробка мятый комплект указыват...  \n",
       "\n",
       "[673 rows x 11 columns]"
      ]
     },
     "execution_count": 227,
     "metadata": {},
     "output_type": "execute_result"
    }
   ],
   "source": [
    "df = df.reset_index(inplace = True)\n",
    "#df = df.drop(columns = 'index')\n",
    "#df"
   ]
  },
  {
   "cell_type": "code",
   "execution_count": 228,
   "id": "comprehensive-cyprus",
   "metadata": {},
   "outputs": [],
   "source": [
    "preprocessed_comments = df['lemma_comment']"
   ]
  },
  {
   "cell_type": "markdown",
   "id": "foreign-underground",
   "metadata": {
    "heading_collapsed": true
   },
   "source": [
    "## LDA"
   ]
  },
  {
   "cell_type": "code",
   "execution_count": 70,
   "id": "adult-portrait",
   "metadata": {
    "hidden": true
   },
   "outputs": [],
   "source": [
    "from sklearn.feature_extraction.text import TfidfVectorizer, CountVectorizer"
   ]
  },
  {
   "cell_type": "code",
   "execution_count": 71,
   "id": "coordinate-object",
   "metadata": {
    "hidden": true
   },
   "outputs": [],
   "source": [
    "voc={}\n",
    "count=0\n",
    "for i in ((df['lemma_comment'])):\n",
    "  for j in i.split(' '):\n",
    "      \n",
    "      if j not in voc:\n",
    "          voc[j]=count\n",
    "          count+=1"
   ]
  },
  {
   "cell_type": "code",
   "execution_count": 72,
   "id": "continuous-seeker",
   "metadata": {
    "hidden": true
   },
   "outputs": [],
   "source": [
    "count_vect = CountVectorizer(vocabulary=voc)\n",
    "dataset = count_vect.fit_transform(df['lemma_comment'])"
   ]
  },
  {
   "cell_type": "code",
   "execution_count": 73,
   "id": "plastic-syntax",
   "metadata": {
    "hidden": true
   },
   "outputs": [
    {
     "name": "stdout",
     "output_type": "stream",
     "text": [
      "iteration: 1 of max_iter: 40\n",
      "iteration: 2 of max_iter: 40\n",
      "iteration: 3 of max_iter: 40\n",
      "iteration: 4 of max_iter: 40\n",
      "iteration: 5 of max_iter: 40\n",
      "iteration: 6 of max_iter: 40\n",
      "iteration: 7 of max_iter: 40\n",
      "iteration: 8 of max_iter: 40\n",
      "iteration: 9 of max_iter: 40\n",
      "iteration: 10 of max_iter: 40\n",
      "iteration: 11 of max_iter: 40\n",
      "iteration: 12 of max_iter: 40\n",
      "iteration: 13 of max_iter: 40\n",
      "iteration: 14 of max_iter: 40\n",
      "iteration: 15 of max_iter: 40\n",
      "iteration: 16 of max_iter: 40\n",
      "iteration: 17 of max_iter: 40\n",
      "iteration: 18 of max_iter: 40\n",
      "iteration: 19 of max_iter: 40\n",
      "iteration: 20 of max_iter: 40\n",
      "iteration: 21 of max_iter: 40\n",
      "iteration: 22 of max_iter: 40\n",
      "iteration: 23 of max_iter: 40\n",
      "iteration: 24 of max_iter: 40\n",
      "iteration: 25 of max_iter: 40\n",
      "iteration: 26 of max_iter: 40\n",
      "iteration: 27 of max_iter: 40\n",
      "iteration: 28 of max_iter: 40\n",
      "iteration: 29 of max_iter: 40\n",
      "iteration: 30 of max_iter: 40\n",
      "iteration: 31 of max_iter: 40\n",
      "iteration: 32 of max_iter: 40\n",
      "iteration: 33 of max_iter: 40\n",
      "iteration: 34 of max_iter: 40\n",
      "iteration: 35 of max_iter: 40\n",
      "iteration: 36 of max_iter: 40\n",
      "iteration: 37 of max_iter: 40\n",
      "iteration: 38 of max_iter: 40\n",
      "iteration: 39 of max_iter: 40\n",
      "iteration: 40 of max_iter: 40\n"
     ]
    },
    {
     "data": {
      "text/plain": [
       "LatentDirichletAllocation(max_iter=40, n_components=40, n_jobs=6, verbose=1)"
      ]
     },
     "execution_count": 73,
     "metadata": {},
     "output_type": "execute_result"
    }
   ],
   "source": [
    "from sklearn.decomposition import LatentDirichletAllocation as LDA\n",
    "lda = LDA(n_components = 40, max_iter=40, n_jobs=6, learning_method='batch', verbose=1)\n",
    "lda.fit(dataset)"
   ]
  },
  {
   "cell_type": "code",
   "execution_count": 74,
   "id": "technological-depth",
   "metadata": {
    "hidden": true
   },
   "outputs": [
    {
     "data": {
      "text/plain": [
       "LatentDirichletAllocation(learning_decay=0.6, max_iter=30,\n",
       "                          mean_change_tol=0.0001, n_components=60, n_jobs=6,\n",
       "                          total_samples=10000.0, verbose=1)"
      ]
     },
     "execution_count": 74,
     "metadata": {},
     "output_type": "execute_result"
    }
   ],
   "source": [
    "LDA(batch_size=128, doc_topic_prior=None,\n",
    "             evaluate_every=-1, learning_decay=0.6,\n",
    "             learning_method='batch', learning_offset=10.0,\n",
    "             max_doc_update_iter=100, max_iter=30, mean_change_tol=0.0001,\n",
    "             n_components=60, n_jobs=6,  perp_tol=0.1,\n",
    "             random_state=None, topic_word_prior=None,\n",
    "             total_samples=10000.0, verbose=1)"
   ]
  },
  {
   "cell_type": "code",
   "execution_count": 75,
   "id": "round-control",
   "metadata": {
    "hidden": true
   },
   "outputs": [],
   "source": [
    "#Let\\`s do simple interface class\n",
    "class TopicModeler(object):\n",
    "    '''\n",
    "    Inteface object for CountVectorizer + LDA simple\n",
    "    usage.\n",
    "    '''\n",
    "    def __init__(self, count_vect, lda):\n",
    "        '''\n",
    "        Args:\n",
    "             count_vect - CountVectorizer object from sklearn.\n",
    "             lda - LDA object from sklearn.\n",
    "        '''\n",
    "        self.lda = lda\n",
    "        self.count_vect = count_vect\n",
    "        self.count_vect.input = 'content'\n",
    "        \n",
    "    def __call__(self, text):\n",
    "        '''\n",
    "        Gives topics distribution for a given text\n",
    "        Args:\n",
    "             text - raw text via python string.\n",
    "        returns: numpy array - topics distribution for a given text.\n",
    "        '''\n",
    "        vectorized = self.count_vect.transform([text])\n",
    "        lda_topics = self.lda.transform(vectorized)\n",
    "        return lda_topics\n",
    "    def get_keywords(self, text, n_topics=5, n_keywords=5):\n",
    "        '''\n",
    "        For a given text gives n top keywords for each of m top texts topics.\n",
    "        Args:\n",
    "             text - raw text via python string.\n",
    "             n_topics - int how many top topics to use.\n",
    "             n_keywords - how many top words of each topic to return.\n",
    "        returns:\n",
    "                list - of m*n keywords for a given text.\n",
    "        '''\n",
    "        lda_topics = self(text)\n",
    "        lda_topics = np.squeeze(lda_topics, axis=0)\n",
    "        n_topics_indices = lda_topics.argsort()[-n_topics:][::-1]\n",
    "        \n",
    "        top_topics_words_dists = []\n",
    "        for i in n_topics_indices:\n",
    "            top_topics_words_dists.append(self.lda.components_[i])\n",
    "        \n",
    "        keywords = np.zeros(shape=(n_keywords*n_topics, self.lda.components_.shape[1]))\n",
    "        for i,topic in enumerate(top_topics_words_dists):\n",
    "            n_keywords_indices = topic.argsort()[-n_keywords:][::-1]\n",
    "            for k,j in enumerate(n_keywords_indices):\n",
    "                keywords[i * n_keywords + k, j] = 1\n",
    "        keywords = self.count_vect.inverse_transform(keywords)\n",
    "        keywords = [keyword[0] for keyword in keywords]\n",
    "        return keywords"
   ]
  },
  {
   "cell_type": "code",
   "execution_count": 76,
   "id": "cheap-passage",
   "metadata": {
    "hidden": true
   },
   "outputs": [],
   "source": [
    "#text=''.join(df['filtered_tokens_str'])\n",
    "text = ' '.join(df['comment'])\n",
    "#text"
   ]
  },
  {
   "cell_type": "code",
   "execution_count": 77,
   "id": "danish-objective",
   "metadata": {
    "hidden": true
   },
   "outputs": [],
   "source": [
    "tm = TopicModeler(count_vect, lda)"
   ]
  },
  {
   "cell_type": "markdown",
   "id": "finished-continuity",
   "metadata": {
    "heading_collapsed": true
   },
   "source": [
    "# Topics"
   ]
  },
  {
   "cell_type": "code",
   "execution_count": 90,
   "id": "incorporate-grill",
   "metadata": {
    "hidden": true
   },
   "outputs": [
    {
     "name": "stdout",
     "output_type": "stream",
     "text": [
      "['пункт', 'коробка', 'взбивать', 'насадка', 'довольный']\n"
     ]
    }
   ],
   "source": [
    "#Let`s what words it will give us for the choosen text.\n",
    "key_words = tm.get_keywords(text, n_topics=5, n_keywords=1)\n",
    "print(key_words)"
   ]
  },
  {
   "cell_type": "code",
   "execution_count": 91,
   "id": "facial-attribute",
   "metadata": {
    "hidden": true
   },
   "outputs": [],
   "source": [
    "term_doc_matrix = count_vect.transform(df['lemma_comment'])\n",
    "embeddings = lda.transform(term_doc_matrix)"
   ]
  },
  {
   "cell_type": "code",
   "execution_count": 92,
   "id": "another-rhythm",
   "metadata": {
    "hidden": true
   },
   "outputs": [],
   "source": [
    "from sklearn.manifold import TSNE\n",
    "from sklearn.cluster import DBSCAN, AffinityPropagation, SpectralClustering, KMeans"
   ]
  },
  {
   "cell_type": "code",
   "execution_count": 99,
   "id": "veterinary-madrid",
   "metadata": {
    "hidden": true
   },
   "outputs": [],
   "source": [
    "kmeans = KMeans(n_clusters=5)\n",
    "clust_labels = kmeans.fit_predict(embeddings)\n",
    "clust_centers = kmeans.cluster_centers_"
   ]
  },
  {
   "cell_type": "code",
   "execution_count": 100,
   "id": "traditional-portugal",
   "metadata": {
    "hidden": true
   },
   "outputs": [],
   "source": [
    "embeddings_to_tsne = np.concatenate((embeddings,clust_centers), axis=0)\n",
    "\n",
    "tSNE =  TSNE(n_components=2, perplexity=15)\n",
    "tsne_embeddings = tSNE.fit_transform(embeddings_to_tsne)\n",
    "tsne_embeddings, centroids_embeddings = np.split(tsne_embeddings, [len(clust_labels)], axis=0)"
   ]
  },
  {
   "cell_type": "code",
   "execution_count": null,
   "id": "accompanied-legend",
   "metadata": {
    "hidden": true
   },
   "outputs": [],
   "source": []
  },
  {
   "cell_type": "code",
   "execution_count": 101,
   "id": "shaped-andrew",
   "metadata": {
    "hidden": true
   },
   "outputs": [],
   "source": [
    "from matplotlib import cm as cm\n",
    "clust_indices = np.unique(clust_labels)"
   ]
  },
  {
   "cell_type": "code",
   "execution_count": 102,
   "id": "announced-litigation",
   "metadata": {
    "hidden": true
   },
   "outputs": [],
   "source": [
    "clusters = {clust_ind : [] for clust_ind in clust_indices}\n",
    "for emb, label in zip(tsne_embeddings, clust_labels):\n",
    "    clusters[label].append(emb)"
   ]
  },
  {
   "cell_type": "code",
   "execution_count": 103,
   "id": "split-french",
   "metadata": {
    "hidden": true
   },
   "outputs": [],
   "source": [
    "for key in clusters.keys():\n",
    "    clusters[key] = np.array(clusters[key])\n",
    "colors = cm.rainbow(np.linspace(0, 1, len(clust_indices)))"
   ]
  },
  {
   "cell_type": "code",
   "execution_count": 104,
   "id": "synthetic-daughter",
   "metadata": {
    "hidden": true
   },
   "outputs": [
    {
     "data": {
      "text/plain": [
       "673"
      ]
     },
     "execution_count": 104,
     "metadata": {},
     "output_type": "execute_result"
    }
   ],
   "source": [
    "len(clust_labels)"
   ]
  },
  {
   "cell_type": "markdown",
   "id": "amber-arbitration",
   "metadata": {
    "heading_collapsed": true
   },
   "source": [
    "#  выдача комментов"
   ]
  },
  {
   "cell_type": "code",
   "execution_count": 106,
   "id": "imposed-carbon",
   "metadata": {
    "hidden": true
   },
   "outputs": [
    {
     "name": "stdout",
     "output_type": "stream",
     "text": [
      "Очень понравился три насадки и лопатка селиконовая была в комплекте тесто замешивает хорошо делала на куличи руки чистые все насыпала и включил. Так удобно. Спасибо за скидку и быструю доставку.\n",
      "Миксер очень понравился!\n",
      "Рекомендую\n",
      "Пришёл без повреждений, полный комплект\n",
      "Отличный миксер. Упакован в две коробки. В комплекте три насадки, силиконовая лопатка, инструкция по применению на русском языке. Работает хорошо, уже проверила в деле  - сделала зефир.\n",
      "Отличный миксер, цвет красивый, сам мощный. В комплекте венчик, крюк для теста, насадка для перемешивания и лопатка. Рекомендую, как хорошего помощника на кухне.\n",
      "Товар пришел идеально упакован, все в пакетиках. Коробка не мятая. Попробовала включить, и это что-то. Он вообще не шумный, так этого боялась ))) Чаша шикарная, крепиться хорошо. Присоски к столу, просто восторг. Еле от стола оторвала. Моя мечта сбылась, я нашла то что давно искала )))\n",
      "Очень классная и мощная машина!!! Тесто для пельменей замешивает без проблем. Белки ,сливки, масляные крема все отлично взбивает. Я просто в восторге.\n",
      "Очень хороший миксер. Муж подарил на Н.Г. уже пользовалась, всё хорошо взбивает. Тихий и мощный. Рекомендую\n",
      "Отличный аппарат, работает тихо для такого прибора \n",
      "Миксер для больших объемов! Домашний майонез на стандартную порцию не сделать, маленькую порцию не взбить. Чаша тонкая. В общем, кто хочет Кенвуд, а купил в итоге это- будут разочарованы)) О покупке жалею.\n",
      "Просто чудо. Прекрасная вещь. Пока начала с пельменного теста - 5 минут и готово: чистота, красота! Все промешивает, не греется, тихий, устойчивый.\n",
      "МЕГА супер вещь за 6400 вышла. Отдала бы и больше, совсем не жаль. Со своими задачами справляется на 1000%,  только вот в чёрную пятницу цена взлетела на 1000 руб. Был 5400 с копейками, а в ночь на чёрную пятницу стал аж 6800. Потом недели 2 держалась цена. Как только акция закончилась стал аж 5300 с копейками((( ну это конечно вопрос к магазину. А производителю огромная сердечная благодарность.\n",
      "Пришёл миксер без крюка для теста. Верните пожалуйста.\n",
      "Купила. Довольна. Вблизи действительно смотрится синим, но отойдя-фиолетовый. Очень хорошо взбивает, крепится плотно к столу( за Счёт присосок). Кто говорит что гумный-взбивайте вилкой( это самый тихий агрегат). Шумит меньше ручного! Рекомендую, отличная машина. И, Да! Чуть не вернула тк не нашла крюк, но он чудно спрятан с другой стороны!\n",
      "Спасибо, миксер отличный жена довольна, пришел быстро\n",
      "Миксер супер!!! Все насадки на месте. Качество на высоте. Пришёл быстро, упакован на 5\n",
      "Машина  классная,всё в комплекте, крем взбил на \"ура\".Отметку в талоне сделали.Спасибо за быструю доставку.👍👍👍\n",
      "Долго выбирала. И очень волновалась. Шло неделю. Думала то заказ потерялся. Но нет. Пришёл мой Миксер.  Все как в описании. Проверила на пункте выдачи. Работает.  Не скажу что тихий. Шумноват.  Все в наличии.  Без царапин. И т. Д.  Спасибо.\n",
      "Почему то не могу скинуть фотки. (\n",
      "Миксер отличный! Все заявленные принадлежности в наличии. Работает не шумно, присоски крепкие. Я очень довольна. СПАСИБО!!!\n",
      "Забрала моего красавица! Это любовь! Мой ручной миксер шумит громче,чем этот. Мощный,устойчивый, красивый! Опробовала сразу на зефире. Спасибо за товар!\n",
      "Пришло всë в комплекте, крюк и силиконовая лопаточка на месте. Упаковка не нарушена. В работе ещё не пробовали.\n",
      "Получила свой планетарный миксер, радости нет предела! По комплектации все на месте, сам миксер сделан добротно, не уступает более дорогим аналогам, заявлена была доставка 26-28 декабря, приехал 25 декабря, чему я очень рада. Уже приготовила тесто на оладушки, буквально 3 минуты и тесто готово! Могу смело рекомендовать планетарный миксер Starwind. Кто размышляет над покупкой, берите, не пожалеете. Спасибо огромное производителю за качественный товар и любимому магазину за скидку! Обошёлся мне в 188 белорусских рублей.\n",
      "Чудо! Проверили на пункте, все работает, все на месте, красивенький! Купила на подарок родителям\n",
      "Миксер хороший, полная комплектация, упакован хорошо, всё на месте. Взбивет всё отлично, просто нужно привыкнуть после ручного. Чаша легко моется, большая, на семью. Благодаря присоскам не скачет, шумит умеренно, ручной был громче. Брала за 5798так что полный восторг.\n",
      "Пока не испытала, только в пв, по сравнению с ручным миксером,этот тише. Все насадки на месте, удобно что чаша с ручкой. Долго выбирала, остановилась на этом,ждала скидку,взяла за 5700\n",
      "Урааа....сбылась моя мечта. Очень долго не решалась его купить,но за такую цену это просто даром. Качество отличное,работает тихонько не шумит,взбивает все хорошо, крутится по всей чаше,очень удобная чаша с ручкой и лёгкая. Цвет вообще огонь на фото его никак не передать,в живую намного красивее,блестит и переливается,цвет хамелеон.В наборе силиконовая лопатка,и три насадки. Хочу обратить внимание, что насадка крюк находится снизу в пенопласте,будьте внимательны не выкидываыте пенопласт раньше времени))Очень благодарна этому сайту за сотрудничество.  Все легко,быстро и без всяких браков. Всем советую!\n",
      "Я безумно довольна этим миксером, все в комплекте, как ни странно крюк для теста был в чаше с остальными насадками. Что касается шума - вполне приемлемо даже на максимальной скорости, блендер работает значительно громче. У меня получилось взбить 1 белок СО до устойчивых пиков- просто подложите стопку бумажных салфеток( спасибо комментариям ниже😄)\n",
      "Пришел мой космос, спасибо девочкам кто писал что крюк прикреплен с обратной стороны, все в комплекте, гарантию поставили, пошла пробовать 😊\n",
      "Исполнилось моя мечта)))\n",
      "В пункте выдачи всё проверили. Спасибо коммениаторам: насадку сзади нашли👌\n",
      "\n",
      "Месила тесто на хлеб, готовила пастилу- одно удовольствие!\n",
      "Дождалась и я наконец-то своего миксера) доставка с задержкой и цена за это время стала дешевле на 800 руб. Но покупкой я довольна! Комплектация полная и насадки и лопатка. Печать в пункте поставили. Всё работает! Сразу опробовала. испекла пирог. Работает не бесшумно конечно, но и не громче хорошего миксера. Пока всё нравится. Рекомендую.\n",
      "Спасибо за быструю доставку. Все комплектующие на месте. Визуально претензий нет. В работе не пробовала. \n",
      "Первоначальное впечатление от миксера хорошее( на 4звездочки). Есть с чем сравнивать. \n",
      "Упакован прекрасно. Комплектация полная. Выглядит красиво. Работает не громко. \n",
      "Недостатки: \n",
      "Одно яйцо не взбивает. Желток разбил только на шестой (самой высокой) скорости. \n",
      "Два яйца взбил хорошо, но время взбивания порядка трех минут. Сколько же будем взбивать белок до густой устойчивой пены? \n",
      "По-моему, мощность меньше 1600. Старый миксер при мощности 1200 все делал значительно быстрее. \n",
      "Попробую приготовить запеканку. Потом добавлю отзыв.\n",
      "Покупкой довольна, комплектация полная. Белки взбила за 3 минуты, но чаше все же приходилось поднимать\n",
      "Миксер супер, цвет огонь. Всё насадки присутствуют. Шум в пределах нормы. Печать в гарантийный талон поставили в пункте выдачи. Спасибо Валдберис 😊. Товар Рекомендую!!! 👍👍👍(обидно, что купила на 1т.р.дороже чем сейчас\n",
      "Сегодня получила свой миксер. Сказать, что довольна - это ничего не сказать! Я счастлива! Пришёл в 2 коробках. Коробки обе целые. Крюк для теста с наружней стороны пенопласта. Сам миксер целый без изъянов.  Девушка помогла его распаковать и проверит (включили в розетку) лопаточка тоже была. Вообщем мне все нравится!  \n",
      "В использовании две недели, почти каждый день включаю. Готовила безе, дрожжевое тесто, пельменное несколько раз. Со всем справляется. \n",
      "Крюк на месте, все работает, в гарантийный талон поставили печать. Ищите крюк лучше)\n",
      "Миксер супер! Долго выбирала и сомневалась, но на свой страх и риск приобрела. Ну что сказать, я счастлива, что не прогадала и взяла именно его. Рекомендую. Не сомневайтесь\n",
      "Отличный!качество хорошее никакого запаха пластмассы!порадовало что тихий в работе даже удивил этот факт что на столько тихий,ожидала,что будет шумнее.в подарок лопатка,она конечно с оооочень запахом))в работе еще не испробовала.6адеюсь мы с ним будем дружить долго долго)рекомендую!\n",
      "Все на месте, миксер работает! Красивый, ждала, только на второй раз пришёл! В деле ещё не проверяла. В двух коробках. Там действительно для замешивания теста крюк сбоку в пенопласте, ищите там он есть. Лопатка на дне коробки! Спасибо!\n",
      "Миксер пришёл 22. 11. 20. Доставили его за 60 километров от моего места жительства и указанного мной адреса доставки. Что было очень не удобно, ехать в другой район и получить посылку. Сам аппарат без повреждений, царапин, комплектация вся. На вид классный! Посмотрим как себя поведет в работе.\n",
      "Очень нужная вещь,у меня деткам 4г,3г,1г,так руки свободные стали☺ и дети сами начинают с ним работать.не шумный как многие пишут,обычный миксер в разы шумнее,однозначно покупайте,гарантийник заполнили в магазине.\n",
      "Испекла пока один торт, но за то какой))) Очень довольна. Быстрый, не сильно шумный. Все венчики металлические. Шнур длинный. От производителя даже лопатка есть)\n",
      "Получила свой миксер сегодня. Упаковано в 2-х коробках. Всё целое и на месте.\n",
      "Сказать что я от него в восторге это ничего не сказать. Я о таком чуде просто мечтала. Белки взбил буквально за 2 минуты, минуты за 3 с сахаром. Ещё пара минут + мука и тесто готово. Хорошо, что есть крышка, мука не разлетается. Всё насадки на месте. Втулки у насадок металлические, это значительно надёжнее пластмассы. Моя благодарность производителю. Это именно то, что я хотела.\n",
      "Отличный миксер! Пробовали и взбивать, и тесто замешивать, и картофельное пюре готовить. Со всем справляется отлично! Тугое тесто для лапши вымешивает без труда и запинок. Дизайн красивый, приятный для глаз цвет.\n"
     ]
    }
   ],
   "source": [
    "count=0\n",
    "for i in range(len(clust_labels)):\n",
    "    if clust_labels[i]==2:\n",
    "        print(df['comment'][i])"
   ]
  },
  {
   "cell_type": "code",
   "execution_count": 88,
   "id": "conscious-freight",
   "metadata": {
    "hidden": true
   },
   "outputs": [],
   "source": [
    "import matplotlib.pyplot as plt"
   ]
  },
  {
   "cell_type": "code",
   "execution_count": 89,
   "id": "bearing-backup",
   "metadata": {
    "hidden": true
   },
   "outputs": [
    {
     "data": {
      "image/png": "[encoded data removed]",
      "text/plain": [
       "<Figure size 720x720 with 1 Axes>"
      ]
     },
     "metadata": {
      "needs_background": "light"
     },
     "output_type": "display_data"
    }
   ],
   "source": [
    "plt.figure(figsize=(10,10))\n",
    "for ind, color in zip(clust_indices, colors):\n",
    "    x = clusters[ind][:,0]\n",
    "    y = clusters[ind][:,1]\n",
    "    plt.scatter(x, y, color=color)\n",
    "    \n",
    "    centroid = centroids_embeddings[ind]\n",
    "    plt.scatter(centroid[0],centroid[1], color=color, marker='x', s=100)\n",
    "\n",
    "plt.show()"
   ]
  },
  {
   "cell_type": "markdown",
   "id": "saving-niagara",
   "metadata": {
    "hidden": true
   },
   "source": [
    "## spacy_ru"
   ]
  },
  {
   "cell_type": "code",
   "execution_count": 108,
   "id": "continuous-worse",
   "metadata": {
    "hidden": true
   },
   "outputs": [],
   "source": [
    "#python -m spacy download ru_core_news_sm\n",
    "import spacy\n",
    "nlp = spacy.load(\"ru_core_news_sm\")"
   ]
  },
  {
   "cell_type": "code",
   "execution_count": 110,
   "id": "received-router",
   "metadata": {
    "hidden": true
   },
   "outputs": [
    {
     "data": {
      "text/plain": [
       "Миксер очень хороший Ма ша Аллах1 советую 👍"
      ]
     },
     "execution_count": 110,
     "metadata": {},
     "output_type": "execute_result"
    }
   ],
   "source": [
    "nlp(df['comment'][1])"
   ]
  },
  {
   "cell_type": "markdown",
   "id": "hollywood-retirement",
   "metadata": {},
   "source": [
    "# Word cloud"
   ]
  },
  {
   "cell_type": "code",
   "execution_count": 229,
   "id": "faced-healthcare",
   "metadata": {},
   "outputs": [
    {
     "data": {
      "image/png": "[encoded data removed]",
      "text/plain": [
       "<Figure size 576x576 with 1 Axes>"
      ]
     },
     "metadata": {
      "needs_background": "light"
     },
     "output_type": "display_data"
    }
   ],
   "source": [
    "def plot_wordcloud(preprocessed_comments, mask=None, max_words=5, max_font_size=100, figure_size=(8.0,8.0), \n",
    "                   title = None, title_size=24, image_color=False):\n",
    "    stopwords = {}\n",
    "    wordcloud = WordCloud(background_color='white',\n",
    "                    mask=None,\n",
    "                    stopwords = stopwords,\n",
    "                    max_words = max_words,\n",
    "                    max_font_size = max_font_size, \n",
    "                    random_state = 666,\n",
    "                    contour_width=1,\n",
    "                    contour_color='black',\n",
    "                    width=800, \n",
    "                    height=400,\n",
    "                    )\n",
    "    wordcloud.generate(str(preprocessed_comments))\n",
    "    \n",
    "    plt.figure(figsize=figure_size)\n",
    "    if image_color:\n",
    "        image_colors = ImageColorGenerator(mask);\n",
    "        plt.imshow(wordcloud.recolor(color_func=image_colors), interpolation=\"bilinear\");\n",
    "        plt.title(title, fontdict={'size': title_size,  \n",
    "                                  'verticalalignment': 'bottom'})\n",
    "    else:\n",
    "        plt.imshow(wordcloud);\n",
    "        plt.title(title, fontdict={'size': title_size, 'color': 'black', \n",
    "                                  'verticalalignment': 'bottom'})\n",
    "    plt.axis('off');\n",
    "    plt.tight_layout()  \n",
    "plot_wordcloud(preprocessed_comments, title=\"Word Cloud of comments\")"
   ]
  },
  {
   "cell_type": "code",
   "execution_count": 231,
   "id": "constant-seven",
   "metadata": {},
   "outputs": [
    {
     "data": {
      "text/html": [
       "<div>\n",
       "<style scoped>\n",
       "    .dataframe tbody tr th:only-of-type {\n",
       "        vertical-align: middle;\n",
       "    }\n",
       "\n",
       "    .dataframe tbody tr th {\n",
       "        vertical-align: top;\n",
       "    }\n",
       "\n",
       "    .dataframe thead th {\n",
       "        text-align: right;\n",
       "    }\n",
       "</style>\n",
       "<table border=\"1\" class=\"dataframe\">\n",
       "  <thead>\n",
       "    <tr style=\"text-align: right;\">\n",
       "      <th></th>\n",
       "      <th>comment</th>\n",
       "      <th>date_time</th>\n",
       "      <th>color</th>\n",
       "      <th>size</th>\n",
       "      <th>thumb_up</th>\n",
       "      <th>thumb_down</th>\n",
       "      <th>prod_eval</th>\n",
       "      <th>prod</th>\n",
       "      <th>brand</th>\n",
       "      <th>cleaned_comment</th>\n",
       "      <th>lemma_comment</th>\n",
       "    </tr>\n",
       "  </thead>\n",
       "  <tbody>\n",
       "    <tr>\n",
       "      <th>0</th>\n",
       "      <td>Зверь машина!👌🏻👌🏻очень понравился! Спасибо</td>\n",
       "      <td>2021-05-02T17:40:11Z</td>\n",
       "      <td>фиолетовый</td>\n",
       "      <td>0</td>\n",
       "      <td>1</td>\n",
       "      <td>0</td>\n",
       "      <td>5</td>\n",
       "      <td>Миксер планетарный SPM7167 1600Вт</td>\n",
       "      <td>StarWind</td>\n",
       "      <td>зверь машина очень понравился</td>\n",
       "      <td>зверь машина понравиться</td>\n",
       "    </tr>\n",
       "    <tr>\n",
       "      <th>1</th>\n",
       "      <td>Миксер очень хороший Ма ша Аллах1 советую 👍</td>\n",
       "      <td>2021-05-02T08:26:34Z</td>\n",
       "      <td>фиолетовый</td>\n",
       "      <td>0</td>\n",
       "      <td>1</td>\n",
       "      <td>3</td>\n",
       "      <td>5</td>\n",
       "      <td>Миксер планетарный SPM7167 1600Вт</td>\n",
       "      <td>StarWind</td>\n",
       "      <td>аллах советую</td>\n",
       "      <td>аллах советовать</td>\n",
       "    </tr>\n",
       "    <tr>\n",
       "      <th>2</th>\n",
       "      <td>Пришло все целое. Попробовала в работе. Понрав...</td>\n",
       "      <td>2021-05-01T21:21:00Z</td>\n",
       "      <td>фиолетовый</td>\n",
       "      <td>0</td>\n",
       "      <td>0</td>\n",
       "      <td>1</td>\n",
       "      <td>5</td>\n",
       "      <td>Миксер планетарный SPM7167 1600Вт</td>\n",
       "      <td>StarWind</td>\n",
       "      <td>пришло целое попробовала работе понравился шум...</td>\n",
       "      <td>приходить целое попробовать понравиться шумный...</td>\n",
       "    </tr>\n",
       "    <tr>\n",
       "      <th>3</th>\n",
       "      <td>Очень хотела, долго выбирала и вот наконец куп...</td>\n",
       "      <td>2021-05-01T18:48:08Z</td>\n",
       "      <td>фиолетовый</td>\n",
       "      <td>0</td>\n",
       "      <td>8</td>\n",
       "      <td>0</td>\n",
       "      <td>5</td>\n",
       "      <td>Миксер планетарный SPM7167 1600Вт</td>\n",
       "      <td>StarWind</td>\n",
       "      <td>хотела долго выбирала купила красивый цвет всё...</td>\n",
       "      <td>хотеть долго выбирать купить красивый цвет раб...</td>\n",
       "    </tr>\n",
       "    <tr>\n",
       "      <th>4</th>\n",
       "      <td>Сегодня получила миксер и сразу опробовала в д...</td>\n",
       "      <td>2021-05-01T18:37:37Z</td>\n",
       "      <td>фиолетовый</td>\n",
       "      <td>0</td>\n",
       "      <td>4</td>\n",
       "      <td>0</td>\n",
       "      <td>5</td>\n",
       "      <td>Миксер планетарный SPM7167 1600Вт</td>\n",
       "      <td>StarWind</td>\n",
       "      <td>сегодня получила сразу опробовала деле успела ...</td>\n",
       "      <td>сегодня получать сразу опробовать дело успеват...</td>\n",
       "    </tr>\n",
       "  </tbody>\n",
       "</table>\n",
       "</div>"
      ],
      "text/plain": [
       "                                             comment             date_time  \\\n",
       "0         Зверь машина!👌🏻👌🏻очень понравился! Спасибо  2021-05-02T17:40:11Z   \n",
       "1        Миксер очень хороший Ма ша Аллах1 советую 👍  2021-05-02T08:26:34Z   \n",
       "2  Пришло все целое. Попробовала в работе. Понрав...  2021-05-01T21:21:00Z   \n",
       "3  Очень хотела, долго выбирала и вот наконец куп...  2021-05-01T18:48:08Z   \n",
       "4  Сегодня получила миксер и сразу опробовала в д...  2021-05-01T18:37:37Z   \n",
       "\n",
       "        color size thumb_up thumb_down prod_eval  \\\n",
       "0  фиолетовый    0        1          0         5   \n",
       "1  фиолетовый    0        1          3         5   \n",
       "2  фиолетовый    0        0          1         5   \n",
       "3  фиолетовый    0        8          0         5   \n",
       "4  фиолетовый    0        4          0         5   \n",
       "\n",
       "                                prod     brand  \\\n",
       "0  Миксер планетарный SPM7167 1600Вт  StarWind   \n",
       "1  Миксер планетарный SPM7167 1600Вт  StarWind   \n",
       "2  Миксер планетарный SPM7167 1600Вт  StarWind   \n",
       "3  Миксер планетарный SPM7167 1600Вт  StarWind   \n",
       "4  Миксер планетарный SPM7167 1600Вт  StarWind   \n",
       "\n",
       "                                     cleaned_comment  \\\n",
       "0                      зверь машина очень понравился   \n",
       "1                                      аллах советую   \n",
       "2  пришло целое попробовала работе понравился шум...   \n",
       "3  хотела долго выбирала купила красивый цвет всё...   \n",
       "4  сегодня получила сразу опробовала деле успела ...   \n",
       "\n",
       "                                       lemma_comment  \n",
       "0                           зверь машина понравиться  \n",
       "1                                   аллах советовать  \n",
       "2  приходить целое попробовать понравиться шумный...  \n",
       "3  хотеть долго выбирать купить красивый цвет раб...  \n",
       "4  сегодня получать сразу опробовать дело успеват...  "
      ]
     },
     "execution_count": 231,
     "metadata": {},
     "output_type": "execute_result"
    }
   ],
   "source": [
    "df.head()"
   ]
  },
  {
   "cell_type": "markdown",
   "id": "wound-forge",
   "metadata": {},
   "source": [
    "# tf-idf"
   ]
  },
  {
   "cell_type": "code",
   "execution_count": 232,
   "id": "addressed-numbers",
   "metadata": {},
   "outputs": [],
   "source": [
    "vectorizer = TfidfVectorizer(min_df=10, ngram_range=(1, 2))"
   ]
  },
  {
   "cell_type": "code",
   "execution_count": 233,
   "id": "italic-shore",
   "metadata": {},
   "outputs": [],
   "source": [
    "vectorized_comments = vectorizer.fit_transform(preprocessed_comments)"
   ]
  },
  {
   "cell_type": "code",
   "execution_count": 234,
   "id": "expected-joyce",
   "metadata": {},
   "outputs": [],
   "source": [
    "#  creating a dictionary mapping the tokens to their tfidf values\n",
    "tfidf = dict(zip(vectorizer.get_feature_names(), vectorizer.idf_))\n",
    "tfidf = pd.DataFrame(columns=['tfidf']).from_dict(\n",
    "                    dict(tfidf), orient='index')\n",
    "tfidf.columns = ['tfidf']"
   ]
  },
  {
   "cell_type": "code",
   "execution_count": 235,
   "id": "hungarian-beauty",
   "metadata": {},
   "outputs": [
    {
     "data": {
      "text/html": [
       "<div>\n",
       "<style scoped>\n",
       "    .dataframe tbody tr th:only-of-type {\n",
       "        vertical-align: middle;\n",
       "    }\n",
       "\n",
       "    .dataframe tbody tr th {\n",
       "        vertical-align: top;\n",
       "    }\n",
       "\n",
       "    .dataframe thead th {\n",
       "        text-align: right;\n",
       "    }\n",
       "</style>\n",
       "<table border=\"1\" class=\"dataframe\">\n",
       "  <thead>\n",
       "    <tr style=\"text-align: right;\">\n",
       "      <th></th>\n",
       "      <th>tfidf</th>\n",
       "    </tr>\n",
       "  </thead>\n",
       "  <tbody>\n",
       "    <tr>\n",
       "      <th>приходить</th>\n",
       "      <td>2.476278</td>\n",
       "    </tr>\n",
       "    <tr>\n",
       "      <th>работать</th>\n",
       "      <td>2.578756</td>\n",
       "    </tr>\n",
       "    <tr>\n",
       "      <th>тесто</th>\n",
       "      <td>2.630428</td>\n",
       "    </tr>\n",
       "    <tr>\n",
       "      <th>довольный</th>\n",
       "      <td>2.653418</td>\n",
       "    </tr>\n",
       "    <tr>\n",
       "      <th>взбивать</th>\n",
       "      <td>2.785842</td>\n",
       "    </tr>\n",
       "  </tbody>\n",
       "</table>\n",
       "</div>"
      ],
      "text/plain": [
       "              tfidf\n",
       "приходить  2.476278\n",
       "работать   2.578756\n",
       "тесто      2.630428\n",
       "довольный  2.653418\n",
       "взбивать   2.785842"
      ]
     },
     "execution_count": 235,
     "metadata": {},
     "output_type": "execute_result"
    }
   ],
   "source": [
    "tfidf.sort_values(by=['tfidf'], ascending=True).head(5)"
   ]
  },
  {
   "cell_type": "code",
   "execution_count": 236,
   "id": "spectacular-maximum",
   "metadata": {},
   "outputs": [
    {
     "data": {
      "text/html": [
       "<div>\n",
       "<style scoped>\n",
       "    .dataframe tbody tr th:only-of-type {\n",
       "        vertical-align: middle;\n",
       "    }\n",
       "\n",
       "    .dataframe tbody tr th {\n",
       "        vertical-align: top;\n",
       "    }\n",
       "\n",
       "    .dataframe thead th {\n",
       "        text-align: right;\n",
       "    }\n",
       "</style>\n",
       "<table border=\"1\" class=\"dataframe\">\n",
       "  <thead>\n",
       "    <tr style=\"text-align: right;\">\n",
       "      <th></th>\n",
       "      <th>tfidf</th>\n",
       "    </tr>\n",
       "  </thead>\n",
       "  <tbody>\n",
       "    <tr>\n",
       "      <th>приходить</th>\n",
       "      <td>2.476278</td>\n",
       "    </tr>\n",
       "    <tr>\n",
       "      <th>работать</th>\n",
       "      <td>2.578756</td>\n",
       "    </tr>\n",
       "    <tr>\n",
       "      <th>тесто</th>\n",
       "      <td>2.630428</td>\n",
       "    </tr>\n",
       "    <tr>\n",
       "      <th>довольный</th>\n",
       "      <td>2.653418</td>\n",
       "    </tr>\n",
       "    <tr>\n",
       "      <th>взбивать</th>\n",
       "      <td>2.785842</td>\n",
       "    </tr>\n",
       "  </tbody>\n",
       "</table>\n",
       "</div>"
      ],
      "text/plain": [
       "              tfidf\n",
       "приходить  2.476278\n",
       "работать   2.578756\n",
       "тесто      2.630428\n",
       "довольный  2.653418\n",
       "взбивать   2.785842"
      ]
     },
     "execution_count": 236,
     "metadata": {},
     "output_type": "execute_result"
    }
   ],
   "source": [
    "vectorizer = TfidfVectorizer(min_df=10, ngram_range=(1, 2))\n",
    "\n",
    "vectorized_comments = vectorizer.fit_transform(preprocessed_comments)\n",
    "\n",
    "#  creating a dictionary mapping the tokens to their tfidf values\n",
    "tfidf = dict(zip(vectorizer.get_feature_names(), vectorizer.idf_))\n",
    "tfidf = pd.DataFrame(columns=['tfidf']).from_dict(\n",
    "                    dict(tfidf), orient='index')\n",
    "tfidf.columns = ['tfidf']\n",
    "\n",
    "tfidf.sort_values(by=['tfidf'], ascending=True).head(5)"
   ]
  },
  {
   "cell_type": "markdown",
   "id": "caroline-engineer",
   "metadata": {},
   "source": [
    "# Looking for most similar comments for each word"
   ]
  },
  {
   "cell_type": "code",
   "execution_count": 237,
   "id": "endless-polish",
   "metadata": {},
   "outputs": [],
   "source": [
    "nlp = spacy.load('ru_core_news_lg')"
   ]
  },
  {
   "cell_type": "code",
   "execution_count": 238,
   "id": "distinguished-component",
   "metadata": {},
   "outputs": [
    {
     "data": {
      "text/plain": [
       "'приходить'"
      ]
     },
     "execution_count": 238,
     "metadata": {},
     "output_type": "execute_result"
    }
   ],
   "source": [
    "tfidf.sort_values(by=['tfidf'], ascending=True).index[0]"
   ]
  },
  {
   "cell_type": "code",
   "execution_count": 180,
   "id": "designed-restaurant",
   "metadata": {},
   "outputs": [],
   "source": []
  },
  {
   "cell_type": "code",
   "execution_count": 239,
   "id": "sealed-settlement",
   "metadata": {},
   "outputs": [
    {
     "data": {
      "text/html": [
       "<div>\n",
       "<style scoped>\n",
       "    .dataframe tbody tr th:only-of-type {\n",
       "        vertical-align: middle;\n",
       "    }\n",
       "\n",
       "    .dataframe tbody tr th {\n",
       "        vertical-align: top;\n",
       "    }\n",
       "\n",
       "    .dataframe thead th {\n",
       "        text-align: right;\n",
       "    }\n",
       "</style>\n",
       "<table border=\"1\" class=\"dataframe\">\n",
       "  <thead>\n",
       "    <tr style=\"text-align: right;\">\n",
       "      <th></th>\n",
       "      <th>comment</th>\n",
       "      <th>date_time</th>\n",
       "      <th>color</th>\n",
       "      <th>size</th>\n",
       "      <th>thumb_up</th>\n",
       "      <th>thumb_down</th>\n",
       "      <th>prod_eval</th>\n",
       "      <th>prod</th>\n",
       "      <th>brand</th>\n",
       "      <th>cleaned_comment</th>\n",
       "      <th>lemma_comment</th>\n",
       "    </tr>\n",
       "  </thead>\n",
       "  <tbody>\n",
       "    <tr>\n",
       "      <th>0</th>\n",
       "      <td>Зверь машина!👌🏻👌🏻очень понравился! Спасибо</td>\n",
       "      <td>2021-05-02T17:40:11Z</td>\n",
       "      <td>фиолетовый</td>\n",
       "      <td>0</td>\n",
       "      <td>1</td>\n",
       "      <td>0</td>\n",
       "      <td>5</td>\n",
       "      <td>Миксер планетарный SPM7167 1600Вт</td>\n",
       "      <td>StarWind</td>\n",
       "      <td>зверь машина очень понравился</td>\n",
       "      <td>зверь машина понравиться</td>\n",
       "    </tr>\n",
       "    <tr>\n",
       "      <th>1</th>\n",
       "      <td>Миксер очень хороший Ма ша Аллах1 советую 👍</td>\n",
       "      <td>2021-05-02T08:26:34Z</td>\n",
       "      <td>фиолетовый</td>\n",
       "      <td>0</td>\n",
       "      <td>1</td>\n",
       "      <td>3</td>\n",
       "      <td>5</td>\n",
       "      <td>Миксер планетарный SPM7167 1600Вт</td>\n",
       "      <td>StarWind</td>\n",
       "      <td>аллах советую</td>\n",
       "      <td>аллах советовать</td>\n",
       "    </tr>\n",
       "    <tr>\n",
       "      <th>2</th>\n",
       "      <td>Пришло все целое. Попробовала в работе. Понрав...</td>\n",
       "      <td>2021-05-01T21:21:00Z</td>\n",
       "      <td>фиолетовый</td>\n",
       "      <td>0</td>\n",
       "      <td>0</td>\n",
       "      <td>1</td>\n",
       "      <td>5</td>\n",
       "      <td>Миксер планетарный SPM7167 1600Вт</td>\n",
       "      <td>StarWind</td>\n",
       "      <td>пришло целое попробовала работе понравился шум...</td>\n",
       "      <td>приходить целое попробовать понравиться шумный...</td>\n",
       "    </tr>\n",
       "    <tr>\n",
       "      <th>3</th>\n",
       "      <td>Очень хотела, долго выбирала и вот наконец куп...</td>\n",
       "      <td>2021-05-01T18:48:08Z</td>\n",
       "      <td>фиолетовый</td>\n",
       "      <td>0</td>\n",
       "      <td>8</td>\n",
       "      <td>0</td>\n",
       "      <td>5</td>\n",
       "      <td>Миксер планетарный SPM7167 1600Вт</td>\n",
       "      <td>StarWind</td>\n",
       "      <td>хотела долго выбирала купила красивый цвет всё...</td>\n",
       "      <td>хотеть долго выбирать купить красивый цвет раб...</td>\n",
       "    </tr>\n",
       "    <tr>\n",
       "      <th>4</th>\n",
       "      <td>Сегодня получила миксер и сразу опробовала в д...</td>\n",
       "      <td>2021-05-01T18:37:37Z</td>\n",
       "      <td>фиолетовый</td>\n",
       "      <td>0</td>\n",
       "      <td>4</td>\n",
       "      <td>0</td>\n",
       "      <td>5</td>\n",
       "      <td>Миксер планетарный SPM7167 1600Вт</td>\n",
       "      <td>StarWind</td>\n",
       "      <td>сегодня получила сразу опробовала деле успела ...</td>\n",
       "      <td>сегодня получать сразу опробовать дело успеват...</td>\n",
       "    </tr>\n",
       "  </tbody>\n",
       "</table>\n",
       "</div>"
      ],
      "text/plain": [
       "                                             comment             date_time  \\\n",
       "0         Зверь машина!👌🏻👌🏻очень понравился! Спасибо  2021-05-02T17:40:11Z   \n",
       "1        Миксер очень хороший Ма ша Аллах1 советую 👍  2021-05-02T08:26:34Z   \n",
       "2  Пришло все целое. Попробовала в работе. Понрав...  2021-05-01T21:21:00Z   \n",
       "3  Очень хотела, долго выбирала и вот наконец куп...  2021-05-01T18:48:08Z   \n",
       "4  Сегодня получила миксер и сразу опробовала в д...  2021-05-01T18:37:37Z   \n",
       "\n",
       "        color size thumb_up thumb_down prod_eval  \\\n",
       "0  фиолетовый    0        1          0         5   \n",
       "1  фиолетовый    0        1          3         5   \n",
       "2  фиолетовый    0        0          1         5   \n",
       "3  фиолетовый    0        8          0         5   \n",
       "4  фиолетовый    0        4          0         5   \n",
       "\n",
       "                                prod     brand  \\\n",
       "0  Миксер планетарный SPM7167 1600Вт  StarWind   \n",
       "1  Миксер планетарный SPM7167 1600Вт  StarWind   \n",
       "2  Миксер планетарный SPM7167 1600Вт  StarWind   \n",
       "3  Миксер планетарный SPM7167 1600Вт  StarWind   \n",
       "4  Миксер планетарный SPM7167 1600Вт  StarWind   \n",
       "\n",
       "                                     cleaned_comment  \\\n",
       "0                      зверь машина очень понравился   \n",
       "1                                      аллах советую   \n",
       "2  пришло целое попробовала работе понравился шум...   \n",
       "3  хотела долго выбирала купила красивый цвет всё...   \n",
       "4  сегодня получила сразу опробовала деле успела ...   \n",
       "\n",
       "                                       lemma_comment  \n",
       "0                           зверь машина понравиться  \n",
       "1                                   аллах советовать  \n",
       "2  приходить целое попробовать понравиться шумный...  \n",
       "3  хотеть долго выбирать купить красивый цвет раб...  \n",
       "4  сегодня получать сразу опробовать дело успеват...  "
      ]
     },
     "execution_count": 239,
     "metadata": {},
     "output_type": "execute_result"
    }
   ],
   "source": [
    "df.head()"
   ]
  },
  {
   "cell_type": "code",
   "execution_count": 280,
   "id": "chicken-digest",
   "metadata": {},
   "outputs": [],
   "source": [
    "def top_10_similar(word_for_checking, dataframe):\n",
    "    word_for_checking = nlp(word_for_checking)\n",
    "    similarities = []\n",
    "    for i in range(len(dataframe['lemma_comment'])):\n",
    "        similarities.append(nlp(dataframe['lemma_comment'][i]).similarity(word_for_checking))\n",
    "    \n",
    "    df_temp = dataframe.copy()\n",
    "    \n",
    "    df_temp[f'similarity_to_{word_for_checking}'] = similarities\n",
    "    return df_temp.sort_values(by = f'similarity_to_{word_for_checking}', ascending = False).head(10)[['comment', f'similarity_to_{word_for_checking}']]"
   ]
  },
  {
   "cell_type": "code",
   "execution_count": 279,
   "id": "demonstrated-shopper",
   "metadata": {},
   "outputs": [
    {
     "name": "stderr",
     "output_type": "stream",
     "text": [
      "/opt/anaconda3/lib/python3.7/site-packages/ipykernel_launcher.py:5: UserWarning: [W008] Evaluating Doc.similarity based on empty vectors.\n",
      "  \"\"\"\n"
     ]
    },
    {
     "data": {
      "text/plain": [
       "['Зверь машина!👌🏻👌🏻очень понравился! Спасибо',\n",
       " 'Брал за 4000р. Сейчас под 6000р. 4000- адекватная цена. За 6000р. Не рекомендую.',\n",
       " 'Миксер 🔥🔥🔥. Долго выбирала. Остановилась на этом и не жалею  сегодня же сделала зефир, не идет ни в какое сравнение ручным миксером.',\n",
       " 'Очень красивый и большой!\\r\\nПока только проверила, без приготовления. Чаша не крутится.\\r\\nПришел очень хорошо упакованный в две коробки.\\r\\nНо, почему то не заполнен гарантийный талон.',\n",
       " 'Все замечательно! Сегодня опробован на пирожках из кефирного теста.\\nТестомес пришел упакованный в две коробки. Ничего не помялось.\\nК столу крепится присосками. Ничего при работе не прыгало.\\nЗащитную крышку пока ге поняла. Окошко маленькое и засыпать через него не удобно.\\nОдно яйцо не взбивается.',\n",
       " 'Все просто супер, не шумный. За такую цену грех жаловаться, долгой службы ему. Гарантия конечто пустая(доставка курьером) упаковано круто!\\nЕдинственное что необосновано поднимается цена с карточки товара  в карзину, при оплате она увеличивается. Вопрос остался неотвечен!',\n",
       " 'Сегодня получила миксер. Упакован в две коробки. И видно, что не распечатывали до меня. Красивый цвет, проверили все скорости, очень мощный и  девушка на выдаче сама, без напоминаний, оформила гарантию. Молодец! Всё в наличии. Пишут некоторые, что нет крючка - ну читайте отзывы, постоянно пишут же, что он с обратной стороны пенопласта прикреплён. Так и есть. В работе ещё не пробовала, надеюсь впечатления не испортятся. Пока ооочень довольна.',\n",
       " 'Дополню отзыв. Попробовала в работе. Миксер супер. Все взбивается очень быстро. Зефир получился сразу. Очень довольна. Советую к покупке. Я не нарадуюсь. Надеюсь будет работать очень долго.',\n",
       " 'Миксер пришел в двойной коробке , новенький, красивый, полная комплектация, все работает. Я очень довольна, буду пробовать в работе!',\n",
       " 'Всё хорошо получил все красиво и хорошо']"
      ]
     },
     "execution_count": 279,
     "metadata": {},
     "output_type": "execute_result"
    }
   ],
   "source": [
    "list(top_10_similar('белок', df))"
   ]
  },
  {
   "cell_type": "code",
   "execution_count": 284,
   "id": "colored-robert",
   "metadata": {},
   "outputs": [
    {
     "name": "stderr",
     "output_type": "stream",
     "text": [
      "/opt/anaconda3/lib/python3.7/site-packages/ipykernel_launcher.py:5: UserWarning: [W008] Evaluating Doc.similarity based on empty vectors.\n",
      "  \"\"\"\n"
     ]
    },
    {
     "data": {
      "text/html": [
       "<div>\n",
       "<style scoped>\n",
       "    .dataframe tbody tr th:only-of-type {\n",
       "        vertical-align: middle;\n",
       "    }\n",
       "\n",
       "    .dataframe tbody tr th {\n",
       "        vertical-align: top;\n",
       "    }\n",
       "\n",
       "    .dataframe thead th {\n",
       "        text-align: right;\n",
       "    }\n",
       "</style>\n",
       "<table border=\"1\" class=\"dataframe\">\n",
       "  <thead>\n",
       "    <tr style=\"text-align: right;\">\n",
       "      <th></th>\n",
       "      <th>comment</th>\n",
       "      <th>similarity_to_бог</th>\n",
       "    </tr>\n",
       "  </thead>\n",
       "  <tbody>\n",
       "    <tr>\n",
       "      <th>1</th>\n",
       "      <td>Миксер очень хороший Ма ша Аллах1 советую 👍</td>\n",
       "      <td>0.441208</td>\n",
       "    </tr>\n",
       "    <tr>\n",
       "      <th>585</th>\n",
       "      <td>Советую. Попробовала меня порадовала. Спасибоч...</td>\n",
       "      <td>0.419345</td>\n",
       "    </tr>\n",
       "    <tr>\n",
       "      <th>651</th>\n",
       "      <td>Приехал наконец то мой красавец, я его появлен...</td>\n",
       "      <td>0.390592</td>\n",
       "    </tr>\n",
       "    <tr>\n",
       "      <th>411</th>\n",
       "      <td>А мечты, оказывается, сбываются ☺️\\n10 лет меч...</td>\n",
       "      <td>0.379921</td>\n",
       "    </tr>\n",
       "    <tr>\n",
       "      <th>73</th>\n",
       "      <td>Муж подарил мне на день рождения этот прекрасн...</td>\n",
       "      <td>0.376761</td>\n",
       "    </tr>\n",
       "    <tr>\n",
       "      <th>646</th>\n",
       "      <td>Миксер хороший, но буду перезаказывать, не до ...</td>\n",
       "      <td>0.376693</td>\n",
       "    </tr>\n",
       "    <tr>\n",
       "      <th>595</th>\n",
       "      <td>Моя любовь!</td>\n",
       "      <td>0.368429</td>\n",
       "    </tr>\n",
       "    <tr>\n",
       "      <th>127</th>\n",
       "      <td>Сегодня испекла хлеб. Замесила тесто  в миксер...</td>\n",
       "      <td>0.368337</td>\n",
       "    </tr>\n",
       "    <tr>\n",
       "      <th>125</th>\n",
       "      <td>Брала за 6716₽ не капли не пожалела пользовала...</td>\n",
       "      <td>0.362049</td>\n",
       "    </tr>\n",
       "    <tr>\n",
       "      <th>459</th>\n",
       "      <td>Миксер супер! Долго выбирала и сомневалась, но...</td>\n",
       "      <td>0.358433</td>\n",
       "    </tr>\n",
       "  </tbody>\n",
       "</table>\n",
       "</div>"
      ],
      "text/plain": [
       "                                               comment  similarity_to_бог\n",
       "1          Миксер очень хороший Ма ша Аллах1 советую 👍           0.441208\n",
       "585  Советую. Попробовала меня порадовала. Спасибоч...           0.419345\n",
       "651  Приехал наконец то мой красавец, я его появлен...           0.390592\n",
       "411  А мечты, оказывается, сбываются ☺️\\n10 лет меч...           0.379921\n",
       "73   Муж подарил мне на день рождения этот прекрасн...           0.376761\n",
       "646  Миксер хороший, но буду перезаказывать, не до ...           0.376693\n",
       "595                                        Моя любовь!           0.368429\n",
       "127  Сегодня испекла хлеб. Замесила тесто  в миксер...           0.368337\n",
       "125  Брала за 6716₽ не капли не пожалела пользовала...           0.362049\n",
       "459  Миксер супер! Долго выбирала и сомневалась, но...           0.358433"
      ]
     },
     "execution_count": 284,
     "metadata": {},
     "output_type": "execute_result"
    }
   ],
   "source": [
    "top_10_similar('бог', df)"
   ]
  },
  {
   "cell_type": "code",
   "execution_count": 19,
   "id": "limiting-norman",
   "metadata": {},
   "outputs": [],
   "source": [
    "# пока не работает с неизвестными словами, например, \"маломерит\"\n",
    "# если пишешь плохое качество, то выдача вроде та же, что и на хорошее\n",
    "# вся работа у меня заняла 30 секунд"
   ]
  },
  {
   "cell_type": "code",
   "execution_count": null,
   "id": "present-preliminary",
   "metadata": {},
   "outputs": [],
   "source": []
  },
  {
   "cell_type": "code",
   "execution_count": null,
   "id": "delayed-idaho",
   "metadata": {},
   "outputs": [],
   "source": []
  }
 ],
 "metadata": {
  "kernelspec": {
   "display_name": "Python 3",
   "language": "python",
   "name": "python3"
  },
  "language_info": {
   "codemirror_mode": {
    "name": "ipython",
    "version": 3
   },
   "file_extension": ".py",
   "mimetype": "text/x-python",
   "name": "python",
   "nbconvert_exporter": "python",
   "pygments_lexer": "ipython3",
   "version": "3.7.4"
  }
 },
 "nbformat": 4,
 "nbformat_minor": 5
}
