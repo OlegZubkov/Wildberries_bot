{
 "cells": [
  {
   "cell_type": "code",
   "execution_count": 1,
   "id": "beautiful-penalty",
   "metadata": {},
   "outputs": [],
   "source": [
    "import pandas as pd\n",
    "import os\n",
    "import matplotlib.pyplot as plt\n",
    "import numpy as np\n",
    "import re\n",
    "\n",
    "import spacy\n",
    "from pymystem3 import Mystem\n",
    "from nltk.corpus import stopwords\n",
    "from wordcloud import WordCloud\n",
    "from sklearn.feature_extraction.text import TfidfVectorizer\n",
    "\n",
    "import string\n",
    "import time"
   ]
  },
  {
   "cell_type": "code",
   "execution_count": 2,
   "id": "drawn-ceremony",
   "metadata": {},
   "outputs": [
    {
     "data": {
      "text/html": [
       "<div>\n",
       "<style scoped>\n",
       "    .dataframe tbody tr th:only-of-type {\n",
       "        vertical-align: middle;\n",
       "    }\n",
       "\n",
       "    .dataframe tbody tr th {\n",
       "        vertical-align: top;\n",
       "    }\n",
       "\n",
       "    .dataframe thead th {\n",
       "        text-align: right;\n",
       "    }\n",
       "</style>\n",
       "<table border=\"1\" class=\"dataframe\">\n",
       "  <thead>\n",
       "    <tr style=\"text-align: right;\">\n",
       "      <th></th>\n",
       "      <th>file_name</th>\n",
       "    </tr>\n",
       "  </thead>\n",
       "  <tbody>\n",
       "    <tr>\n",
       "      <th>0</th>\n",
       "      <td>14773455.jl</td>\n",
       "    </tr>\n",
       "    <tr>\n",
       "      <th>1</th>\n",
       "      <td>file_7321705_455951711_124.jl</td>\n",
       "    </tr>\n",
       "    <tr>\n",
       "      <th>2</th>\n",
       "      <td>file_11834040_455951711_112.jl</td>\n",
       "    </tr>\n",
       "    <tr>\n",
       "      <th>3</th>\n",
       "      <td>w2.jl</td>\n",
       "    </tr>\n",
       "    <tr>\n",
       "      <th>4</th>\n",
       "      <td>file_10094987_455951711_145.jl</td>\n",
       "    </tr>\n",
       "    <tr>\n",
       "      <th>5</th>\n",
       "      <td>w3.jl</td>\n",
       "    </tr>\n",
       "    <tr>\n",
       "      <th>6</th>\n",
       "      <td>17597852.jl</td>\n",
       "    </tr>\n",
       "    <tr>\n",
       "      <th>7</th>\n",
       "      <td>5044562.jl</td>\n",
       "    </tr>\n",
       "    <tr>\n",
       "      <th>8</th>\n",
       "      <td>file_7961412_455951711_109.jl</td>\n",
       "    </tr>\n",
       "    <tr>\n",
       "      <th>9</th>\n",
       "      <td>file_6170053_455951711_115.jl</td>\n",
       "    </tr>\n",
       "    <tr>\n",
       "      <th>10</th>\n",
       "      <td>file_9434638_455951711_142.jl</td>\n",
       "    </tr>\n",
       "    <tr>\n",
       "      <th>11</th>\n",
       "      <td>file_15855376_455951711_149.jl</td>\n",
       "    </tr>\n",
       "    <tr>\n",
       "      <th>12</th>\n",
       "      <td>file_7601411_455951711_121.jl</td>\n",
       "    </tr>\n",
       "    <tr>\n",
       "      <th>13</th>\n",
       "      <td>file_9092550_455951711_130.jl</td>\n",
       "    </tr>\n",
       "    <tr>\n",
       "      <th>14</th>\n",
       "      <td>13228115.jl</td>\n",
       "    </tr>\n",
       "    <tr>\n",
       "      <th>15</th>\n",
       "      <td>file_8042925_455951711_127.jl</td>\n",
       "    </tr>\n",
       "    <tr>\n",
       "      <th>16</th>\n",
       "      <td>13227933.jl</td>\n",
       "    </tr>\n",
       "    <tr>\n",
       "      <th>17</th>\n",
       "      <td>file_9315375_455951711_148.jl</td>\n",
       "    </tr>\n",
       "    <tr>\n",
       "      <th>18</th>\n",
       "      <td>file_3101555_455951711_136.jl</td>\n",
       "    </tr>\n",
       "    <tr>\n",
       "      <th>19</th>\n",
       "      <td>14773503.jl</td>\n",
       "    </tr>\n",
       "    <tr>\n",
       "      <th>20</th>\n",
       "      <td>17597851.jl</td>\n",
       "    </tr>\n",
       "    <tr>\n",
       "      <th>21</th>\n",
       "      <td>file_20991166_455951711_118.jl</td>\n",
       "    </tr>\n",
       "    <tr>\n",
       "      <th>22</th>\n",
       "      <td>w1.jl</td>\n",
       "    </tr>\n",
       "    <tr>\n",
       "      <th>23</th>\n",
       "      <td>file_2147717_455951711_133.jl</td>\n",
       "    </tr>\n",
       "    <tr>\n",
       "      <th>24</th>\n",
       "      <td>file_7569265_455951711_139.jl</td>\n",
       "    </tr>\n",
       "    <tr>\n",
       "      <th>25</th>\n",
       "      <td>w5.jl</td>\n",
       "    </tr>\n",
       "  </tbody>\n",
       "</table>\n",
       "</div>"
      ],
      "text/plain": [
       "                         file_name\n",
       "0                      14773455.jl\n",
       "1    file_7321705_455951711_124.jl\n",
       "2   file_11834040_455951711_112.jl\n",
       "3                            w2.jl\n",
       "4   file_10094987_455951711_145.jl\n",
       "5                            w3.jl\n",
       "6                      17597852.jl\n",
       "7                       5044562.jl\n",
       "8    file_7961412_455951711_109.jl\n",
       "9    file_6170053_455951711_115.jl\n",
       "10   file_9434638_455951711_142.jl\n",
       "11  file_15855376_455951711_149.jl\n",
       "12   file_7601411_455951711_121.jl\n",
       "13   file_9092550_455951711_130.jl\n",
       "14                     13228115.jl\n",
       "15   file_8042925_455951711_127.jl\n",
       "16                     13227933.jl\n",
       "17   file_9315375_455951711_148.jl\n",
       "18   file_3101555_455951711_136.jl\n",
       "19                     14773503.jl\n",
       "20                     17597851.jl\n",
       "21  file_20991166_455951711_118.jl\n",
       "22                           w1.jl\n",
       "23   file_2147717_455951711_133.jl\n",
       "24   file_7569265_455951711_139.jl\n",
       "25                           w5.jl"
      ]
     },
     "execution_count": 2,
     "metadata": {},
     "output_type": "execute_result"
    }
   ],
   "source": [
    "arr = os.listdir('./input/')\n",
    "arr_df = pd.DataFrame(arr, columns = ['file_name'])\n",
    "arr_df"
   ]
  },
  {
   "cell_type": "code",
   "execution_count": 63,
   "id": "unsigned-correspondence",
   "metadata": {},
   "outputs": [],
   "source": [
    "file_index = 23\n",
    "path = f'./input/{arr_df[\"file_name\"][file_index]}'"
   ]
  },
  {
   "cell_type": "code",
   "execution_count": 64,
   "id": "consistent-infrastructure",
   "metadata": {},
   "outputs": [
    {
     "data": {
      "text/html": [
       "<div>\n",
       "<style scoped>\n",
       "    .dataframe tbody tr th:only-of-type {\n",
       "        vertical-align: middle;\n",
       "    }\n",
       "\n",
       "    .dataframe tbody tr th {\n",
       "        vertical-align: top;\n",
       "    }\n",
       "\n",
       "    .dataframe thead th {\n",
       "        text-align: right;\n",
       "    }\n",
       "</style>\n",
       "<table border=\"1\" class=\"dataframe\">\n",
       "  <thead>\n",
       "    <tr style=\"text-align: right;\">\n",
       "      <th></th>\n",
       "      <th>comment</th>\n",
       "      <th>date_time</th>\n",
       "      <th>color</th>\n",
       "      <th>size</th>\n",
       "      <th>thumb_up</th>\n",
       "      <th>thumb_down</th>\n",
       "      <th>prod_eval</th>\n",
       "      <th>prod</th>\n",
       "      <th>brand</th>\n",
       "    </tr>\n",
       "  </thead>\n",
       "  <tbody>\n",
       "    <tr>\n",
       "      <th>0</th>\n",
       "      <td>Лезвия очень тупые! На упаковке одно, а внутри...</td>\n",
       "      <td>2021-05-02T20:36:11Z</td>\n",
       "      <td></td>\n",
       "      <td>0</td>\n",
       "      <td>1</td>\n",
       "      <td>0</td>\n",
       "      <td>1</td>\n",
       "      <td>Сменные кассеты для бритья FUSION, 2 шт.</td>\n",
       "      <td>GILLETTE</td>\n",
       "    </tr>\n",
       "    <tr>\n",
       "      <th>1</th>\n",
       "      <td>Лезвия тупые. Не рекомендую.</td>\n",
       "      <td>2021-05-02T16:18:13Z</td>\n",
       "      <td></td>\n",
       "      <td>0</td>\n",
       "      <td>2</td>\n",
       "      <td>0</td>\n",
       "      <td>3</td>\n",
       "      <td>Сменные кассеты для бритья FUSION, 2 шт.</td>\n",
       "      <td>GILLETTE</td>\n",
       "    </tr>\n",
       "    <tr>\n",
       "      <th>2</th>\n",
       "      <td>Отвратительные станки, лезвие тупые, не бреют....</td>\n",
       "      <td>2021-04-27T13:53:37Z</td>\n",
       "      <td></td>\n",
       "      <td>0</td>\n",
       "      <td>1</td>\n",
       "      <td>1</td>\n",
       "      <td>1</td>\n",
       "      <td>Сменные кассеты для бритья FUSION, 2 шт.</td>\n",
       "      <td>GILLETTE</td>\n",
       "    </tr>\n",
       "    <tr>\n",
       "      <th>3</th>\n",
       "      <td>Лезвия оригинальные,произведено в Колумбии.Все...</td>\n",
       "      <td>2021-04-27T11:06:13Z</td>\n",
       "      <td></td>\n",
       "      <td>0</td>\n",
       "      <td>1</td>\n",
       "      <td>0</td>\n",
       "      <td>5</td>\n",
       "      <td>Сменные кассеты для бритья FUSION, 2 шт.</td>\n",
       "      <td>GILLETTE</td>\n",
       "    </tr>\n",
       "    <tr>\n",
       "      <th>4</th>\n",
       "      <td>Сменные кассеты для бритья мужу понравились, б...</td>\n",
       "      <td>2021-04-27T09:41:42Z</td>\n",
       "      <td></td>\n",
       "      <td>0</td>\n",
       "      <td>1</td>\n",
       "      <td>0</td>\n",
       "      <td>5</td>\n",
       "      <td>Сменные кассеты для бритья FUSION, 2 шт.</td>\n",
       "      <td>GILLETTE</td>\n",
       "    </tr>\n",
       "  </tbody>\n",
       "</table>\n",
       "</div>"
      ],
      "text/plain": [
       "                                             comment             date_time  \\\n",
       "0  Лезвия очень тупые! На упаковке одно, а внутри...  2021-05-02T20:36:11Z   \n",
       "1                       Лезвия тупые. Не рекомендую.  2021-05-02T16:18:13Z   \n",
       "2  Отвратительные станки, лезвие тупые, не бреют....  2021-04-27T13:53:37Z   \n",
       "3  Лезвия оригинальные,произведено в Колумбии.Все...  2021-04-27T11:06:13Z   \n",
       "4  Сменные кассеты для бритья мужу понравились, б...  2021-04-27T09:41:42Z   \n",
       "\n",
       "  color size thumb_up thumb_down prod_eval  \\\n",
       "0          0        1          0         1   \n",
       "1          0        2          0         3   \n",
       "2          0        1          1         1   \n",
       "3          0        1          0         5   \n",
       "4          0        1          0         5   \n",
       "\n",
       "                                       prod     brand  \n",
       "0  Сменные кассеты для бритья FUSION, 2 шт.  GILLETTE  \n",
       "1  Сменные кассеты для бритья FUSION, 2 шт.  GILLETTE  \n",
       "2  Сменные кассеты для бритья FUSION, 2 шт.  GILLETTE  \n",
       "3  Сменные кассеты для бритья FUSION, 2 шт.  GILLETTE  \n",
       "4  Сменные кассеты для бритья FUSION, 2 шт.  GILLETTE  "
      ]
     },
     "execution_count": 64,
     "metadata": {},
     "output_type": "execute_result"
    }
   ],
   "source": [
    "columns = ['comment', 'date_time', 'color','size', 'thumb_up', 'thumb_down', 'prod_eval', 'prod', 'brand']\n",
    "\n",
    "df = pd.read_json(path).transpose().reset_index().drop('index', axis=1)\n",
    "df = df.set_axis(columns, axis = 'columns')\n",
    "\n",
    "df.head(5)"
   ]
  },
  {
   "cell_type": "markdown",
   "id": "marine-retro",
   "metadata": {},
   "source": [
    "# Функции: Clean_text, Stopwords_del"
   ]
  },
  {
   "cell_type": "code",
   "execution_count": 65,
   "id": "whole-tunnel",
   "metadata": {},
   "outputs": [],
   "source": [
    "def delete_non_letters(words):\n",
    "    new_words = []\n",
    "    words = words.split()\n",
    "    \n",
    "    for word in words:\n",
    "        new_word = \"\".join(c if c.isalpha() else \" \" for c in word )\n",
    "        \n",
    "        if new_word != '':\n",
    "            new_words.append(new_word)\n",
    "    text = ' '.join(c for c in new_words)\n",
    "        \n",
    "    return text"
   ]
  },
  {
   "cell_type": "code",
   "execution_count": 66,
   "id": "functioning-glucose",
   "metadata": {},
   "outputs": [],
   "source": [
    "### Text Normalizing function. Part of the following function was taken from this link. \n",
    "def clean_text(text):\n",
    "    \n",
    "    emoji_pattern = re.compile(\"[\"\n",
    "        u\"\\U0001F600-\\U0001F64F\"  # emoticons\n",
    "        u\"\\U0001F300-\\U0001F5FF\"  # symbols & pictographs\n",
    "        u\"\\U0001F680-\\U0001F6FF\"  # transport & map symbols\n",
    "        u\"\\U0001F1E0-\\U0001F1FF\"  # flags (iOS)\n",
    "        u\"\\U0001F1F2-\\U0001F1F4\"  # Macau flag\n",
    "        u\"\\U0001F1E6-\\U0001F1FF\"  # flags\n",
    "        u\"\\U0001F600-\\U0001F64F\"\n",
    "        u\"\\U00002702-\\U000027B0\"\n",
    "        u\"\\U000024C2-\\U0001F251\"\n",
    "        u\"\\U0001f926-\\U0001f937\"\n",
    "        u\"\\U0001F1F2\"\n",
    "        u\"\\U0001F1F4\"\n",
    "        u\"\\U0001F620\"\n",
    "        u\"\\u200d\"\n",
    "        u\"\\u2640-\\u2642\"\n",
    "        \"]+\", flags=re.UNICODE)\n",
    "\n",
    "    #удаляет пунктуацию\n",
    "    #translation_table = str.maketrans(\"\", \"\", string.punctuation)\n",
    "    #text = text.translate(translation_table)   \n",
    "    \n",
    "    text = text.lower()\n",
    "    ## Clean the text\n",
    "    text = re.sub(r\"[,_»«\\*!.\\/'+-=)(]\", \" \", text)\n",
    "    text = re.sub(r\"\\'s\", \" \", text)\n",
    "    text = re.sub(r\",\", \" \", text)\n",
    "    text = re.sub(r\"\\.\", \" \", text)\n",
    "    text = re.sub(r\"!\", \" ! \", text)\n",
    "    text = re.sub(r\"\\/\", \" \", text)\n",
    "    text = re.sub(r\"\\^\", \" ^ \", text)\n",
    "    text = re.sub(r\"\\+\", \" + \", text)\n",
    "    text = re.sub(r\"\\%\", \" \", text)\n",
    "    text = re.sub(r\"\\-\", \" - \", text)\n",
    "    text = re.sub(r\"\\=\", \" = \", text)\n",
    "    text = re.sub(r\"\\|\", \" \", text)\n",
    "    text = re.sub(r\"'\", \" \", text)\n",
    "    text = re.sub(r'\"', \" \", text)\n",
    "    text = re.sub(r'«', \" \", text)\n",
    "    text = re.sub(r'\\*', \" \", text)\n",
    "    text = re.sub(r'\\?', \" \", text)\n",
    "    text = re.sub(r'»', \" \", text)\n",
    "    text = re.sub(r\"(\\d+)(k)\", r\"\\g<1>000\", text)\n",
    "    text = re.sub(r\":\", \" : \", text)\n",
    "    text = re.sub(r\"\\s{2,}\", \" \", text)\n",
    "    text = emoji_pattern.sub(r'', text)\n",
    "    #text = \" \".join(text.split())\n",
    "    \n",
    "    text = delete_non_letters(text)\n",
    "    \n",
    "    return text\n"
   ]
  },
  {
   "cell_type": "code",
   "execution_count": 67,
   "id": "fitting-estonia",
   "metadata": {},
   "outputs": [],
   "source": [
    "def delete_stopwords(text): \n",
    "    text = text.split()\n",
    "    text = [w for w in text if not w in russian_stopwords and len(w) >= 3]\n",
    "    text = \" \".join(text)\n",
    "    \n",
    "    return text"
   ]
  },
  {
   "cell_type": "code",
   "execution_count": 68,
   "id": "appropriate-poster",
   "metadata": {},
   "outputs": [
    {
     "data": {
      "text/html": [
       "<div>\n",
       "<style scoped>\n",
       "    .dataframe tbody tr th:only-of-type {\n",
       "        vertical-align: middle;\n",
       "    }\n",
       "\n",
       "    .dataframe tbody tr th {\n",
       "        vertical-align: top;\n",
       "    }\n",
       "\n",
       "    .dataframe thead th {\n",
       "        text-align: right;\n",
       "    }\n",
       "</style>\n",
       "<table border=\"1\" class=\"dataframe\">\n",
       "  <thead>\n",
       "    <tr style=\"text-align: right;\">\n",
       "      <th></th>\n",
       "      <th>comment</th>\n",
       "      <th>date_time</th>\n",
       "      <th>color</th>\n",
       "      <th>size</th>\n",
       "      <th>thumb_up</th>\n",
       "      <th>thumb_down</th>\n",
       "      <th>prod_eval</th>\n",
       "      <th>prod</th>\n",
       "      <th>brand</th>\n",
       "    </tr>\n",
       "  </thead>\n",
       "  <tbody>\n",
       "    <tr>\n",
       "      <th>0</th>\n",
       "      <td>Лезвия очень тупые! На упаковке одно, а внутри...</td>\n",
       "      <td>2021-05-02T20:36:11Z</td>\n",
       "      <td></td>\n",
       "      <td>0</td>\n",
       "      <td>1</td>\n",
       "      <td>0</td>\n",
       "      <td>1</td>\n",
       "      <td>Сменные кассеты для бритья FUSION, 2 шт.</td>\n",
       "      <td>GILLETTE</td>\n",
       "    </tr>\n",
       "    <tr>\n",
       "      <th>1</th>\n",
       "      <td>Лезвия тупые. Не рекомендую.</td>\n",
       "      <td>2021-05-02T16:18:13Z</td>\n",
       "      <td></td>\n",
       "      <td>0</td>\n",
       "      <td>2</td>\n",
       "      <td>0</td>\n",
       "      <td>3</td>\n",
       "      <td>Сменные кассеты для бритья FUSION, 2 шт.</td>\n",
       "      <td>GILLETTE</td>\n",
       "    </tr>\n",
       "    <tr>\n",
       "      <th>2</th>\n",
       "      <td>Отвратительные станки, лезвие тупые, не бреют....</td>\n",
       "      <td>2021-04-27T13:53:37Z</td>\n",
       "      <td></td>\n",
       "      <td>0</td>\n",
       "      <td>1</td>\n",
       "      <td>1</td>\n",
       "      <td>1</td>\n",
       "      <td>Сменные кассеты для бритья FUSION, 2 шт.</td>\n",
       "      <td>GILLETTE</td>\n",
       "    </tr>\n",
       "    <tr>\n",
       "      <th>3</th>\n",
       "      <td>Лезвия оригинальные,произведено в Колумбии.Все...</td>\n",
       "      <td>2021-04-27T11:06:13Z</td>\n",
       "      <td></td>\n",
       "      <td>0</td>\n",
       "      <td>1</td>\n",
       "      <td>0</td>\n",
       "      <td>5</td>\n",
       "      <td>Сменные кассеты для бритья FUSION, 2 шт.</td>\n",
       "      <td>GILLETTE</td>\n",
       "    </tr>\n",
       "    <tr>\n",
       "      <th>4</th>\n",
       "      <td>Сменные кассеты для бритья мужу понравились, б...</td>\n",
       "      <td>2021-04-27T09:41:42Z</td>\n",
       "      <td></td>\n",
       "      <td>0</td>\n",
       "      <td>1</td>\n",
       "      <td>0</td>\n",
       "      <td>5</td>\n",
       "      <td>Сменные кассеты для бритья FUSION, 2 шт.</td>\n",
       "      <td>GILLETTE</td>\n",
       "    </tr>\n",
       "  </tbody>\n",
       "</table>\n",
       "</div>"
      ],
      "text/plain": [
       "                                             comment             date_time  \\\n",
       "0  Лезвия очень тупые! На упаковке одно, а внутри...  2021-05-02T20:36:11Z   \n",
       "1                       Лезвия тупые. Не рекомендую.  2021-05-02T16:18:13Z   \n",
       "2  Отвратительные станки, лезвие тупые, не бреют....  2021-04-27T13:53:37Z   \n",
       "3  Лезвия оригинальные,произведено в Колумбии.Все...  2021-04-27T11:06:13Z   \n",
       "4  Сменные кассеты для бритья мужу понравились, б...  2021-04-27T09:41:42Z   \n",
       "\n",
       "  color size thumb_up thumb_down prod_eval  \\\n",
       "0          0        1          0         1   \n",
       "1          0        2          0         3   \n",
       "2          0        1          1         1   \n",
       "3          0        1          0         5   \n",
       "4          0        1          0         5   \n",
       "\n",
       "                                       prod     brand  \n",
       "0  Сменные кассеты для бритья FUSION, 2 шт.  GILLETTE  \n",
       "1  Сменные кассеты для бритья FUSION, 2 шт.  GILLETTE  \n",
       "2  Сменные кассеты для бритья FUSION, 2 шт.  GILLETTE  \n",
       "3  Сменные кассеты для бритья FUSION, 2 шт.  GILLETTE  \n",
       "4  Сменные кассеты для бритья FUSION, 2 шт.  GILLETTE  "
      ]
     },
     "execution_count": 68,
     "metadata": {},
     "output_type": "execute_result"
    }
   ],
   "source": [
    "df.head()"
   ]
  },
  {
   "cell_type": "markdown",
   "id": "contrary-wallpaper",
   "metadata": {},
   "source": [
    "# Stopwords extension"
   ]
  },
  {
   "cell_type": "code",
   "execution_count": 69,
   "id": "green-brake",
   "metadata": {},
   "outputs": [],
   "source": [
    "file_name = 'StopWords_extension.csv'\n",
    "path = f'./{file_name}'\n",
    "SW = pd.read_csv(path, index_col = 'Index')\n",
    "SW_list = SW['Word'].tolist()"
   ]
  },
  {
   "cell_type": "code",
   "execution_count": 70,
   "id": "modular-employer",
   "metadata": {},
   "outputs": [],
   "source": [
    "prod_text = clean_text(df['prod'][0])\n",
    "brand_text = clean_text(df['brand'][0])"
   ]
  },
  {
   "cell_type": "code",
   "execution_count": 71,
   "id": "upset-container",
   "metadata": {},
   "outputs": [
    {
     "data": {
      "text/plain": [
       "['gillette', 'сменные', 'кассеты', 'для', 'бритья', 'fusion', 'шт']"
      ]
     },
     "execution_count": 71,
     "metadata": {},
     "output_type": "execute_result"
    }
   ],
   "source": [
    "stopwords_add_by_hand = ['цена','пломба','классный','доставка','очень','довольный', 'быстрый','быстро', 'хороший','отлично','все','прийти', 'класс','отличный', 'свой', 'отзыв', 'приходить', 'супер','это', 'спасибо', 'работа']\n",
    "stopwords_add_by_category = [i for i in brand_text.split()]+[i for i in prod_text.split()]\n",
    "stopwords_add_by_category"
   ]
  },
  {
   "cell_type": "code",
   "execution_count": 72,
   "id": "criminal-selection",
   "metadata": {},
   "outputs": [],
   "source": [
    "russian_stopwords = stopwords.words(\"russian\")\n",
    "russian_stopwords.extend(stopwords_add_by_hand+stopwords_add_by_category+SW_list)"
   ]
  },
  {
   "cell_type": "markdown",
   "id": "sunrise-welsh",
   "metadata": {},
   "source": [
    "# Clean comments before lemmatization"
   ]
  },
  {
   "cell_type": "code",
   "execution_count": 73,
   "id": "super-writing",
   "metadata": {},
   "outputs": [
    {
     "name": "stdout",
     "output_type": "stream",
     "text": [
      "CPU times: user 4 µs, sys: 1 µs, total: 5 µs\n",
      "Wall time: 24.1 µs\n"
     ]
    }
   ],
   "source": [
    "%time\n",
    "df['cleaned_comment'] = df['comment'].map(lambda x: clean_text(x))"
   ]
  },
  {
   "cell_type": "code",
   "execution_count": 74,
   "id": "loving-fiber",
   "metadata": {},
   "outputs": [],
   "source": [
    "#df['lemma_comment'] = df['cleaned_comment'].map(lambda x: delete_stopwords(x))"
   ]
  },
  {
   "cell_type": "code",
   "execution_count": 75,
   "id": "discrete-hierarchy",
   "metadata": {},
   "outputs": [
    {
     "data": {
      "text/html": [
       "<div>\n",
       "<style scoped>\n",
       "    .dataframe tbody tr th:only-of-type {\n",
       "        vertical-align: middle;\n",
       "    }\n",
       "\n",
       "    .dataframe tbody tr th {\n",
       "        vertical-align: top;\n",
       "    }\n",
       "\n",
       "    .dataframe thead th {\n",
       "        text-align: right;\n",
       "    }\n",
       "</style>\n",
       "<table border=\"1\" class=\"dataframe\">\n",
       "  <thead>\n",
       "    <tr style=\"text-align: right;\">\n",
       "      <th></th>\n",
       "      <th>comment</th>\n",
       "      <th>date_time</th>\n",
       "      <th>color</th>\n",
       "      <th>size</th>\n",
       "      <th>thumb_up</th>\n",
       "      <th>thumb_down</th>\n",
       "      <th>prod_eval</th>\n",
       "      <th>prod</th>\n",
       "      <th>brand</th>\n",
       "      <th>cleaned_comment</th>\n",
       "    </tr>\n",
       "  </thead>\n",
       "  <tbody>\n",
       "    <tr>\n",
       "      <th>0</th>\n",
       "      <td>Лезвия очень тупые! На упаковке одно, а внутри...</td>\n",
       "      <td>2021-05-02T20:36:11Z</td>\n",
       "      <td></td>\n",
       "      <td>0</td>\n",
       "      <td>1</td>\n",
       "      <td>0</td>\n",
       "      <td>1</td>\n",
       "      <td>Сменные кассеты для бритья FUSION, 2 шт.</td>\n",
       "      <td>GILLETTE</td>\n",
       "      <td>лезвия очень тупые на упаковке одно а внутри с...</td>\n",
       "    </tr>\n",
       "    <tr>\n",
       "      <th>1</th>\n",
       "      <td>Лезвия тупые. Не рекомендую.</td>\n",
       "      <td>2021-05-02T16:18:13Z</td>\n",
       "      <td></td>\n",
       "      <td>0</td>\n",
       "      <td>2</td>\n",
       "      <td>0</td>\n",
       "      <td>3</td>\n",
       "      <td>Сменные кассеты для бритья FUSION, 2 шт.</td>\n",
       "      <td>GILLETTE</td>\n",
       "      <td>лезвия тупые не рекомендую</td>\n",
       "    </tr>\n",
       "    <tr>\n",
       "      <th>2</th>\n",
       "      <td>Отвратительные станки, лезвие тупые, не бреют....</td>\n",
       "      <td>2021-04-27T13:53:37Z</td>\n",
       "      <td></td>\n",
       "      <td>0</td>\n",
       "      <td>1</td>\n",
       "      <td>1</td>\n",
       "      <td>1</td>\n",
       "      <td>Сменные кассеты для бритья FUSION, 2 шт.</td>\n",
       "      <td>GILLETTE</td>\n",
       "      <td>отвратительные станки лезвие тупые не бреют не...</td>\n",
       "    </tr>\n",
       "    <tr>\n",
       "      <th>3</th>\n",
       "      <td>Лезвия оригинальные,произведено в Колумбии.Все...</td>\n",
       "      <td>2021-04-27T11:06:13Z</td>\n",
       "      <td></td>\n",
       "      <td>0</td>\n",
       "      <td>1</td>\n",
       "      <td>0</td>\n",
       "      <td>5</td>\n",
       "      <td>Сменные кассеты для бритья FUSION, 2 шт.</td>\n",
       "      <td>GILLETTE</td>\n",
       "      <td>лезвия оригинальные произведено в колумбии все...</td>\n",
       "    </tr>\n",
       "    <tr>\n",
       "      <th>4</th>\n",
       "      <td>Сменные кассеты для бритья мужу понравились, б...</td>\n",
       "      <td>2021-04-27T09:41:42Z</td>\n",
       "      <td></td>\n",
       "      <td>0</td>\n",
       "      <td>1</td>\n",
       "      <td>0</td>\n",
       "      <td>5</td>\n",
       "      <td>Сменные кассеты для бритья FUSION, 2 шт.</td>\n",
       "      <td>GILLETTE</td>\n",
       "      <td>сменные кассеты для бритья мужу понравились бу...</td>\n",
       "    </tr>\n",
       "  </tbody>\n",
       "</table>\n",
       "</div>"
      ],
      "text/plain": [
       "                                             comment             date_time  \\\n",
       "0  Лезвия очень тупые! На упаковке одно, а внутри...  2021-05-02T20:36:11Z   \n",
       "1                       Лезвия тупые. Не рекомендую.  2021-05-02T16:18:13Z   \n",
       "2  Отвратительные станки, лезвие тупые, не бреют....  2021-04-27T13:53:37Z   \n",
       "3  Лезвия оригинальные,произведено в Колумбии.Все...  2021-04-27T11:06:13Z   \n",
       "4  Сменные кассеты для бритья мужу понравились, б...  2021-04-27T09:41:42Z   \n",
       "\n",
       "  color size thumb_up thumb_down prod_eval  \\\n",
       "0          0        1          0         1   \n",
       "1          0        2          0         3   \n",
       "2          0        1          1         1   \n",
       "3          0        1          0         5   \n",
       "4          0        1          0         5   \n",
       "\n",
       "                                       prod     brand  \\\n",
       "0  Сменные кассеты для бритья FUSION, 2 шт.  GILLETTE   \n",
       "1  Сменные кассеты для бритья FUSION, 2 шт.  GILLETTE   \n",
       "2  Сменные кассеты для бритья FUSION, 2 шт.  GILLETTE   \n",
       "3  Сменные кассеты для бритья FUSION, 2 шт.  GILLETTE   \n",
       "4  Сменные кассеты для бритья FUSION, 2 шт.  GILLETTE   \n",
       "\n",
       "                                     cleaned_comment  \n",
       "0  лезвия очень тупые на упаковке одно а внутри с...  \n",
       "1                         лезвия тупые не рекомендую  \n",
       "2  отвратительные станки лезвие тупые не бреют не...  \n",
       "3  лезвия оригинальные произведено в колумбии все...  \n",
       "4  сменные кассеты для бритья мужу понравились бу...  "
      ]
     },
     "execution_count": 75,
     "metadata": {},
     "output_type": "execute_result"
    }
   ],
   "source": [
    "df.head(5)"
   ]
  },
  {
   "cell_type": "markdown",
   "id": "mighty-wonder",
   "metadata": {},
   "source": [
    "# Mystem lemmatization and drop empty comments"
   ]
  },
  {
   "cell_type": "code",
   "execution_count": 76,
   "id": "boring-collapse",
   "metadata": {},
   "outputs": [
    {
     "data": {
      "text/plain": [
       "(1186, 10)"
      ]
     },
     "execution_count": 76,
     "metadata": {},
     "output_type": "execute_result"
    }
   ],
   "source": [
    "df.shape"
   ]
  },
  {
   "cell_type": "code",
   "execution_count": 77,
   "id": "backed-tracy",
   "metadata": {},
   "outputs": [],
   "source": [
    "df = df.drop(df[df['cleaned_comment']==''].index).reset_index(drop = True)"
   ]
  },
  {
   "cell_type": "code",
   "execution_count": 78,
   "id": "stunning-scholar",
   "metadata": {},
   "outputs": [],
   "source": [
    "def lemmatize(text): \n",
    "    text =  [i for i in text]\n",
    "    m = Mystem()\n",
    "    merged_text = \"|\".join(text)\n",
    "\n",
    "    doc = []\n",
    "    res = []\n",
    "    count = 0\n",
    "    lemma = m.lemmatize(merged_text)\n",
    "    for t in lemma:\n",
    "        \n",
    "        if '|' not in t and count+1<len(lemma):\n",
    "            doc.append(t)\n",
    "            count+=1\n",
    "          \n",
    "        else:\n",
    "            doc = ''.join(i for i in doc)\n",
    "            res.append(doc)\n",
    "            count+=1\n",
    "            doc = []\n",
    "    return res"
   ]
  },
  {
   "cell_type": "code",
   "execution_count": 79,
   "id": "mathematical-snapshot",
   "metadata": {},
   "outputs": [
    {
     "name": "stdout",
     "output_type": "stream",
     "text": [
      "CPU times: user 3 µs, sys: 1 µs, total: 4 µs\n",
      "Wall time: 7.15 µs\n"
     ]
    }
   ],
   "source": [
    "%time\n",
    "res = lemmatize(df['cleaned_comment'])"
   ]
  },
  {
   "cell_type": "code",
   "execution_count": 80,
   "id": "thermal-wrist",
   "metadata": {},
   "outputs": [],
   "source": [
    "df['lemma_comment'] = res"
   ]
  },
  {
   "cell_type": "markdown",
   "id": "sharp-embassy",
   "metadata": {},
   "source": [
    "# Delete StopWords"
   ]
  },
  {
   "cell_type": "code",
   "execution_count": 81,
   "id": "amazing-member",
   "metadata": {},
   "outputs": [
    {
     "name": "stdout",
     "output_type": "stream",
     "text": [
      "CPU times: user 2 µs, sys: 1 µs, total: 3 µs\n",
      "Wall time: 4.77 µs\n"
     ]
    }
   ],
   "source": [
    "%time\n",
    "df['lemma_comment'] = df['lemma_comment'].map(lambda x: delete_stopwords(x))\n",
    "df = df.drop(df[df['lemma_comment']==''].index)"
   ]
  },
  {
   "cell_type": "code",
   "execution_count": 82,
   "id": "neutral-convergence",
   "metadata": {},
   "outputs": [
    {
     "data": {
      "text/html": [
       "<div>\n",
       "<style scoped>\n",
       "    .dataframe tbody tr th:only-of-type {\n",
       "        vertical-align: middle;\n",
       "    }\n",
       "\n",
       "    .dataframe tbody tr th {\n",
       "        vertical-align: top;\n",
       "    }\n",
       "\n",
       "    .dataframe thead th {\n",
       "        text-align: right;\n",
       "    }\n",
       "</style>\n",
       "<table border=\"1\" class=\"dataframe\">\n",
       "  <thead>\n",
       "    <tr style=\"text-align: right;\">\n",
       "      <th></th>\n",
       "      <th>comment</th>\n",
       "      <th>date_time</th>\n",
       "      <th>color</th>\n",
       "      <th>size</th>\n",
       "      <th>thumb_up</th>\n",
       "      <th>thumb_down</th>\n",
       "      <th>prod_eval</th>\n",
       "      <th>prod</th>\n",
       "      <th>brand</th>\n",
       "      <th>cleaned_comment</th>\n",
       "      <th>lemma_comment</th>\n",
       "    </tr>\n",
       "  </thead>\n",
       "  <tbody>\n",
       "    <tr>\n",
       "      <th>0</th>\n",
       "      <td>Лезвия очень тупые! На упаковке одно, а внутри...</td>\n",
       "      <td>2021-05-02T20:36:11Z</td>\n",
       "      <td></td>\n",
       "      <td>0</td>\n",
       "      <td>1</td>\n",
       "      <td>0</td>\n",
       "      <td>1</td>\n",
       "      <td>Сменные кассеты для бритья FUSION, 2 шт.</td>\n",
       "      <td>GILLETTE</td>\n",
       "      <td>лезвия очень тупые на упаковке одно а внутри с...</td>\n",
       "      <td>лезвие тупой упаковка внутри насадка рекомендо...</td>\n",
       "    </tr>\n",
       "    <tr>\n",
       "      <th>1</th>\n",
       "      <td>Лезвия тупые. Не рекомендую.</td>\n",
       "      <td>2021-05-02T16:18:13Z</td>\n",
       "      <td></td>\n",
       "      <td>0</td>\n",
       "      <td>2</td>\n",
       "      <td>0</td>\n",
       "      <td>3</td>\n",
       "      <td>Сменные кассеты для бритья FUSION, 2 шт.</td>\n",
       "      <td>GILLETTE</td>\n",
       "      <td>лезвия тупые не рекомендую</td>\n",
       "      <td>лезвие тупой рекомендовать</td>\n",
       "    </tr>\n",
       "    <tr>\n",
       "      <th>2</th>\n",
       "      <td>Отвратительные станки, лезвие тупые, не бреют....</td>\n",
       "      <td>2021-04-27T13:53:37Z</td>\n",
       "      <td></td>\n",
       "      <td>0</td>\n",
       "      <td>1</td>\n",
       "      <td>1</td>\n",
       "      <td>1</td>\n",
       "      <td>Сменные кассеты для бритья FUSION, 2 шт.</td>\n",
       "      <td>GILLETTE</td>\n",
       "      <td>отвратительные станки лезвие тупые не бреют не...</td>\n",
       "      <td>отвратительный станок лезвие тупой брить реком...</td>\n",
       "    </tr>\n",
       "    <tr>\n",
       "      <th>3</th>\n",
       "      <td>Лезвия оригинальные,произведено в Колумбии.Все...</td>\n",
       "      <td>2021-04-27T11:06:13Z</td>\n",
       "      <td></td>\n",
       "      <td>0</td>\n",
       "      <td>1</td>\n",
       "      <td>0</td>\n",
       "      <td>5</td>\n",
       "      <td>Сменные кассеты для бритья FUSION, 2 шт.</td>\n",
       "      <td>GILLETTE</td>\n",
       "      <td>лезвия оригинальные произведено в колумбии все...</td>\n",
       "      <td>лезвие оригинальный производить колумбия призн...</td>\n",
       "    </tr>\n",
       "    <tr>\n",
       "      <th>4</th>\n",
       "      <td>Сменные кассеты для бритья мужу понравились, б...</td>\n",
       "      <td>2021-04-27T09:41:42Z</td>\n",
       "      <td></td>\n",
       "      <td>0</td>\n",
       "      <td>1</td>\n",
       "      <td>0</td>\n",
       "      <td>5</td>\n",
       "      <td>Сменные кассеты для бритья FUSION, 2 шт.</td>\n",
       "      <td>GILLETTE</td>\n",
       "      <td>сменные кассеты для бритья мужу понравились бу...</td>\n",
       "      <td>сменный кассета бритье муж понравиться заказыв...</td>\n",
       "    </tr>\n",
       "  </tbody>\n",
       "</table>\n",
       "</div>"
      ],
      "text/plain": [
       "                                             comment             date_time  \\\n",
       "0  Лезвия очень тупые! На упаковке одно, а внутри...  2021-05-02T20:36:11Z   \n",
       "1                       Лезвия тупые. Не рекомендую.  2021-05-02T16:18:13Z   \n",
       "2  Отвратительные станки, лезвие тупые, не бреют....  2021-04-27T13:53:37Z   \n",
       "3  Лезвия оригинальные,произведено в Колумбии.Все...  2021-04-27T11:06:13Z   \n",
       "4  Сменные кассеты для бритья мужу понравились, б...  2021-04-27T09:41:42Z   \n",
       "\n",
       "  color size thumb_up thumb_down prod_eval  \\\n",
       "0          0        1          0         1   \n",
       "1          0        2          0         3   \n",
       "2          0        1          1         1   \n",
       "3          0        1          0         5   \n",
       "4          0        1          0         5   \n",
       "\n",
       "                                       prod     brand  \\\n",
       "0  Сменные кассеты для бритья FUSION, 2 шт.  GILLETTE   \n",
       "1  Сменные кассеты для бритья FUSION, 2 шт.  GILLETTE   \n",
       "2  Сменные кассеты для бритья FUSION, 2 шт.  GILLETTE   \n",
       "3  Сменные кассеты для бритья FUSION, 2 шт.  GILLETTE   \n",
       "4  Сменные кассеты для бритья FUSION, 2 шт.  GILLETTE   \n",
       "\n",
       "                                     cleaned_comment  \\\n",
       "0  лезвия очень тупые на упаковке одно а внутри с...   \n",
       "1                         лезвия тупые не рекомендую   \n",
       "2  отвратительные станки лезвие тупые не бреют не...   \n",
       "3  лезвия оригинальные произведено в колумбии все...   \n",
       "4  сменные кассеты для бритья мужу понравились бу...   \n",
       "\n",
       "                                       lemma_comment  \n",
       "0  лезвие тупой упаковка внутри насадка рекомендо...  \n",
       "1                         лезвие тупой рекомендовать  \n",
       "2  отвратительный станок лезвие тупой брить реком...  \n",
       "3  лезвие оригинальный производить колумбия призн...  \n",
       "4  сменный кассета бритье муж понравиться заказыв...  "
      ]
     },
     "execution_count": 82,
     "metadata": {},
     "output_type": "execute_result"
    }
   ],
   "source": [
    "df.head(5)"
   ]
  },
  {
   "cell_type": "code",
   "execution_count": 83,
   "id": "moving-coast",
   "metadata": {},
   "outputs": [],
   "source": [
    "df = df.reset_index(drop = True)"
   ]
  },
  {
   "cell_type": "code",
   "execution_count": 84,
   "id": "peaceful-indonesia",
   "metadata": {},
   "outputs": [],
   "source": [
    "preprocessed_comments = df['lemma_comment']"
   ]
  },
  {
   "cell_type": "markdown",
   "id": "considerable-affiliation",
   "metadata": {},
   "source": [
    "# tf-idf"
   ]
  },
  {
   "cell_type": "code",
   "execution_count": 85,
   "id": "official-heather",
   "metadata": {},
   "outputs": [],
   "source": [
    "vectorizer = TfidfVectorizer(min_df=2, ngram_range=(1, 2))"
   ]
  },
  {
   "cell_type": "code",
   "execution_count": 86,
   "id": "genuine-spank",
   "metadata": {},
   "outputs": [],
   "source": [
    "vectorized_comments = vectorizer.fit_transform(preprocessed_comments)"
   ]
  },
  {
   "cell_type": "code",
   "execution_count": 87,
   "id": "interracial-romantic",
   "metadata": {},
   "outputs": [],
   "source": [
    "#  creating a dictionary mapping the tokens to their tfidf values\n",
    "tfidf = dict(zip(vectorizer.get_feature_names(), vectorizer.idf_))\n",
    "tfidf = pd.DataFrame(columns=['tfidf']).from_dict(\n",
    "                    dict(tfidf), orient='index')\n",
    "tfidf.columns = ['tfidf']"
   ]
  },
  {
   "cell_type": "code",
   "execution_count": 88,
   "id": "pleasant-romance",
   "metadata": {},
   "outputs": [
    {
     "data": {
      "text/html": [
       "<div>\n",
       "<style scoped>\n",
       "    .dataframe tbody tr th:only-of-type {\n",
       "        vertical-align: middle;\n",
       "    }\n",
       "\n",
       "    .dataframe tbody tr th {\n",
       "        vertical-align: top;\n",
       "    }\n",
       "\n",
       "    .dataframe thead th {\n",
       "        text-align: right;\n",
       "    }\n",
       "</style>\n",
       "<table border=\"1\" class=\"dataframe\">\n",
       "  <thead>\n",
       "    <tr style=\"text-align: right;\">\n",
       "      <th></th>\n",
       "      <th>tfidf</th>\n",
       "    </tr>\n",
       "  </thead>\n",
       "  <tbody>\n",
       "    <tr>\n",
       "      <th>лезвие</th>\n",
       "      <td>2.402526</td>\n",
       "    </tr>\n",
       "    <tr>\n",
       "      <th>муж</th>\n",
       "      <td>2.746297</td>\n",
       "    </tr>\n",
       "    <tr>\n",
       "      <th>кассета</th>\n",
       "      <td>2.761801</td>\n",
       "    </tr>\n",
       "    <tr>\n",
       "      <th>магазин</th>\n",
       "      <td>2.837513</td>\n",
       "    </tr>\n",
       "    <tr>\n",
       "      <th>брить</th>\n",
       "      <td>3.070537</td>\n",
       "    </tr>\n",
       "  </tbody>\n",
       "</table>\n",
       "</div>"
      ],
      "text/plain": [
       "            tfidf\n",
       "лезвие   2.402526\n",
       "муж      2.746297\n",
       "кассета  2.761801\n",
       "магазин  2.837513\n",
       "брить    3.070537"
      ]
     },
     "execution_count": 88,
     "metadata": {},
     "output_type": "execute_result"
    }
   ],
   "source": [
    "#Эти слова показываем пользователю, он вводит то, по чему хочет почитать подробнее, или свое слово\n",
    "tfidf.sort_values(by=['tfidf'], ascending=True).head(5)"
   ]
  },
  {
   "cell_type": "code",
   "execution_count": 89,
   "id": "fifteen-waste",
   "metadata": {},
   "outputs": [
    {
     "data": {
      "text/plain": [
       "venus                6.633002\n",
       "venus возврат        6.920684\n",
       "wildberries          5.822072\n",
       "абсолютно            6.920684\n",
       "абсолютно кассета    6.920684\n",
       "                       ...   \n",
       "щетина жесткий       6.409859\n",
       "экономия             6.920684\n",
       "явно                 6.227537\n",
       "явно подделка        6.920684\n",
       "явный                6.920684\n",
       "Name: tfidf, Length: 892, dtype: float64"
      ]
     },
     "execution_count": 89,
     "metadata": {},
     "output_type": "execute_result"
    }
   ],
   "source": [
    "tfidf['tfidf']"
   ]
  },
  {
   "cell_type": "markdown",
   "id": "clear-walter",
   "metadata": {},
   "source": [
    "# Looking for most similar comments for each word"
   ]
  },
  {
   "cell_type": "code",
   "execution_count": 90,
   "id": "leading-secret",
   "metadata": {},
   "outputs": [],
   "source": [
    "nlp = spacy.load('ru_core_news_lg')"
   ]
  },
  {
   "cell_type": "code",
   "execution_count": 91,
   "id": "about-antigua",
   "metadata": {},
   "outputs": [],
   "source": [
    "def top_10_similar(word_for_checking, dataframe):\n",
    "    critical_similarity_value = 0.44\n",
    "    \n",
    "    word_for_checking = nlp(word_for_checking)\n",
    "    similarities = []\n",
    "    for i in range(len(dataframe['lemma_comment'])):\n",
    "        similarities.append(nlp(dataframe['lemma_comment'][i]).similarity(word_for_checking))\n",
    "    \n",
    "    df_temp = dataframe.copy()\n",
    "    \n",
    "    df_temp[f'similarity_to_{word_for_checking}'] = similarities\n",
    "    #сортировка по убыванию similarities, фильтрация в соответствии с critical_similarity_value\n",
    "    df_temp = df_temp.sort_values(by = f'similarity_to_{word_for_checking}', ascending = False).head(10)\n",
    "    res = df_temp[df_temp[f'similarity_to_{word_for_checking}'] > critical_similarity_value][['comment', f'similarity_to_{word_for_checking}']]\n",
    "    res = list(res['comment'])\n",
    "    \n",
    "    if len(res)>0:\n",
    "        return res\n",
    "    else: \n",
    "        return \"По вашему запросу совпадений не найдено\""
   ]
  },
  {
   "cell_type": "code",
   "execution_count": 92,
   "id": "negative-wages",
   "metadata": {},
   "outputs": [
    {
     "name": "stderr",
     "output_type": "stream",
     "text": [
      "/opt/anaconda3/lib/python3.7/site-packages/ipykernel_launcher.py:7: UserWarning: [W008] Evaluating Doc.similarity based on empty vectors.\n",
      "  import sys\n"
     ]
    },
    {
     "data": {
      "text/plain": [
       "['Хорошего качества. Покупкой доволен',\n",
       " 'Отличный товар за 452 руб. 👍',\n",
       " 'Взял и не пожалел, оригинал в магазине со скидкой стоили дороже.',\n",
       " 'Упаковка целая. Со скидкой вышло 573 рубля. Покупкой довольны.',\n",
       " 'Ну про Джилетт можно и ни чего и не писать качество продукции говорит само за себя, за 407 рублей два лезвия это супер 👍 у нас в городе они стоят 480-490 рублей,упаковку не сохранил но она пришла целая без повреждений! Спасибо большое производителям и Вайлдберриз!!!',\n",
       " 'Переживала, что качество будет не очень, но муж остался доволен. А если учесть, что цена со скидкой почти даром, относительно стоимости в магазинах Минска, то это просто бомба)))',\n",
       " 'Кассеты хорошие совершенно не отличаются от купленных ранее в магазине за стоимость намного выше, посмотрим насколько хватет.Кассеты подошли для станка с движующей головкой. \\nЕдинственный минус дата выпуска 2017 год!',\n",
       " 'Товар получил все норма',\n",
       " 'Вот такая фигня после первого использования. Лучше потратить на 100 руб больше, но купить нормальные.',\n",
       " 'Все просто замечательно. Пришло две коробки по две кассеты за 407 рублей, производства Германии, качество на высоте. Итог 4 кассеты для бритья. Магазин просто супер!']"
      ]
     },
     "execution_count": 92,
     "metadata": {},
     "output_type": "execute_result"
    }
   ],
   "source": [
    "#%time\n",
    "#start_time = time.time()\n",
    "top_10_similar('цена', df)\n",
    "#print(\"--- %s seconds ---\" % (time.time() - start_time))"
   ]
  },
  {
   "cell_type": "code",
   "execution_count": null,
   "id": "dying-mineral",
   "metadata": {},
   "outputs": [],
   "source": []
  },
  {
   "cell_type": "code",
   "execution_count": null,
   "id": "pediatric-fifth",
   "metadata": {},
   "outputs": [],
   "source": []
  },
  {
   "cell_type": "code",
   "execution_count": null,
   "id": "particular-frank",
   "metadata": {},
   "outputs": [],
   "source": []
  }
 ],
 "metadata": {
  "kernelspec": {
   "display_name": "Python 3",
   "language": "python",
   "name": "python3"
  },
  "language_info": {
   "codemirror_mode": {
    "name": "ipython",
    "version": 3
   },
   "file_extension": ".py",
   "mimetype": "text/x-python",
   "name": "python",
   "nbconvert_exporter": "python",
   "pygments_lexer": "ipython3",
   "version": "3.7.4"
  }
 },
 "nbformat": 4,
 "nbformat_minor": 5
}
