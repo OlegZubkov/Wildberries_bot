{
 "cells": [
  {
   "cell_type": "code",
   "execution_count": 29,
   "metadata": {},
   "outputs": [
    {
     "name": "stdout",
     "output_type": "stream",
     "text": [
      "Requirement already satisfied: spacy in /home/sv/anaconda3/lib/python3.8/site-packages (3.0.6)\n",
      "Requirement already satisfied: wasabi<1.1.0,>=0.8.1 in /home/sv/anaconda3/lib/python3.8/site-packages (from spacy) (0.8.2)\n",
      "Requirement already satisfied: thinc<8.1.0,>=8.0.3 in /home/sv/anaconda3/lib/python3.8/site-packages (from spacy) (8.0.3)\n",
      "Requirement already satisfied: pathy>=0.3.5 in /home/sv/anaconda3/lib/python3.8/site-packages (from spacy) (0.5.2)\n",
      "Requirement already satisfied: requests<3.0.0,>=2.13.0 in /home/sv/anaconda3/lib/python3.8/site-packages (from spacy) (2.25.1)\n",
      "Requirement already satisfied: cymem<2.1.0,>=2.0.2 in /home/sv/anaconda3/lib/python3.8/site-packages (from spacy) (2.0.5)\n",
      "Requirement already satisfied: pydantic<1.8.0,>=1.7.1 in /home/sv/anaconda3/lib/python3.8/site-packages (from spacy) (1.7.3)\n",
      "Requirement already satisfied: srsly<3.0.0,>=2.4.1 in /home/sv/anaconda3/lib/python3.8/site-packages (from spacy) (2.4.1)\n",
      "Requirement already satisfied: catalogue<2.1.0,>=2.0.3 in /home/sv/anaconda3/lib/python3.8/site-packages (from spacy) (2.0.4)\n",
      "Requirement already satisfied: preshed<3.1.0,>=3.0.2 in /home/sv/anaconda3/lib/python3.8/site-packages (from spacy) (3.0.5)\n",
      "Requirement already satisfied: murmurhash<1.1.0,>=0.28.0 in /home/sv/anaconda3/lib/python3.8/site-packages (from spacy) (1.0.5)\n",
      "Requirement already satisfied: spacy-legacy<3.1.0,>=3.0.4 in /home/sv/anaconda3/lib/python3.8/site-packages (from spacy) (3.0.5)\n",
      "Requirement already satisfied: numpy>=1.15.0 in /home/sv/anaconda3/lib/python3.8/site-packages (from spacy) (1.20.2)\n",
      "Requirement already satisfied: jinja2 in /home/sv/anaconda3/lib/python3.8/site-packages (from spacy) (2.11.2)\n",
      "Requirement already satisfied: blis<0.8.0,>=0.4.0 in /home/sv/anaconda3/lib/python3.8/site-packages (from spacy) (0.7.4)\n",
      "Requirement already satisfied: setuptools in /home/sv/anaconda3/lib/python3.8/site-packages (from spacy) (51.0.0.post20201207)\n",
      "Requirement already satisfied: typer<0.4.0,>=0.3.0 in /home/sv/anaconda3/lib/python3.8/site-packages (from spacy) (0.3.2)\n",
      "Requirement already satisfied: packaging>=20.0 in /home/sv/anaconda3/lib/python3.8/site-packages (from spacy) (20.8)\n",
      "Requirement already satisfied: tqdm<5.0.0,>=4.38.0 in /home/sv/anaconda3/lib/python3.8/site-packages (from spacy) (4.54.1)\n",
      "Requirement already satisfied: pyparsing>=2.0.2 in /home/sv/anaconda3/lib/python3.8/site-packages (from packaging>=20.0->spacy) (2.4.7)\n",
      "Requirement already satisfied: smart-open<4.0.0,>=2.2.0 in /home/sv/anaconda3/lib/python3.8/site-packages (from pathy>=0.3.5->spacy) (3.0.0)\n",
      "Requirement already satisfied: certifi>=2017.4.17 in /home/sv/anaconda3/lib/python3.8/site-packages (from requests<3.0.0,>=2.13.0->spacy) (2020.12.5)\n",
      "Requirement already satisfied: idna<3,>=2.5 in /home/sv/anaconda3/lib/python3.8/site-packages (from requests<3.0.0,>=2.13.0->spacy) (2.10)\n",
      "Requirement already satisfied: urllib3<1.27,>=1.21.1 in /home/sv/anaconda3/lib/python3.8/site-packages (from requests<3.0.0,>=2.13.0->spacy) (1.26.2)\n",
      "Requirement already satisfied: chardet<5,>=3.0.2 in /home/sv/anaconda3/lib/python3.8/site-packages (from requests<3.0.0,>=2.13.0->spacy) (4.0.0)\n",
      "Requirement already satisfied: click<7.2.0,>=7.1.1 in /home/sv/anaconda3/lib/python3.8/site-packages (from typer<0.4.0,>=0.3.0->spacy) (7.1.2)\n",
      "Requirement already satisfied: MarkupSafe>=0.23 in /home/sv/anaconda3/lib/python3.8/site-packages (from jinja2->spacy) (1.1.1)\n",
      "2021-05-05 16:01:06.408212: W tensorflow/stream_executor/platform/default/dso_loader.cc:60] Could not load dynamic library 'libcudart.so.11.0'; dlerror: libcudart.so.11.0: cannot open shared object file: No such file or directory\n",
      "2021-05-05 16:01:06.408239: I tensorflow/stream_executor/cuda/cudart_stub.cc:29] Ignore above cudart dlerror if you do not have a GPU set up on your machine.\n",
      "Collecting ru-core-news-lg==3.0.0\n",
      "  Downloading https://github.com/explosion/spacy-models/releases/download/ru_core_news_lg-3.0.0/ru_core_news_lg-3.0.0-py3-none-any.whl (515.3 MB)\n",
      "\u001b[K     |████████████████████████████████| 515.3 MB 7.1 kB/s eta 0:00:01    |█▏                              | 18.9 MB 4.8 MB/s eta 0:01:45     |██████████▎                     | 164.9 MB 2.1 MB/s eta 0:02:44     |████████████▋                   | 203.6 MB 1.6 MB/s eta 0:03:15\n",
      "\u001b[?25hRequirement already satisfied: spacy<3.1.0,>=3.0.0 in /home/sv/anaconda3/lib/python3.8/site-packages (from ru-core-news-lg==3.0.0) (3.0.6)\n",
      "Requirement already satisfied: pymorphy2>=0.9 in /home/sv/anaconda3/lib/python3.8/site-packages (from ru-core-news-lg==3.0.0) (0.9.1)\n",
      "Requirement already satisfied: pymorphy2-dicts-ru<3.0,>=2.4 in /home/sv/anaconda3/lib/python3.8/site-packages (from pymorphy2>=0.9->ru-core-news-lg==3.0.0) (2.4.417127.4579844)\n",
      "Requirement already satisfied: dawg-python>=0.7.1 in /home/sv/anaconda3/lib/python3.8/site-packages (from pymorphy2>=0.9->ru-core-news-lg==3.0.0) (0.7.2)\n",
      "Requirement already satisfied: docopt>=0.6 in /home/sv/anaconda3/lib/python3.8/site-packages (from pymorphy2>=0.9->ru-core-news-lg==3.0.0) (0.6.2)\n",
      "Requirement already satisfied: blis<0.8.0,>=0.4.0 in /home/sv/anaconda3/lib/python3.8/site-packages (from spacy<3.1.0,>=3.0.0->ru-core-news-lg==3.0.0) (0.7.4)\n",
      "Requirement already satisfied: typer<0.4.0,>=0.3.0 in /home/sv/anaconda3/lib/python3.8/site-packages (from spacy<3.1.0,>=3.0.0->ru-core-news-lg==3.0.0) (0.3.2)\n",
      "Requirement already satisfied: pathy>=0.3.5 in /home/sv/anaconda3/lib/python3.8/site-packages (from spacy<3.1.0,>=3.0.0->ru-core-news-lg==3.0.0) (0.5.2)\n",
      "Requirement already satisfied: tqdm<5.0.0,>=4.38.0 in /home/sv/anaconda3/lib/python3.8/site-packages (from spacy<3.1.0,>=3.0.0->ru-core-news-lg==3.0.0) (4.54.1)\n",
      "Requirement already satisfied: spacy-legacy<3.1.0,>=3.0.4 in /home/sv/anaconda3/lib/python3.8/site-packages (from spacy<3.1.0,>=3.0.0->ru-core-news-lg==3.0.0) (3.0.5)\n",
      "Requirement already satisfied: jinja2 in /home/sv/anaconda3/lib/python3.8/site-packages (from spacy<3.1.0,>=3.0.0->ru-core-news-lg==3.0.0) (2.11.2)\n",
      "Requirement already satisfied: catalogue<2.1.0,>=2.0.3 in /home/sv/anaconda3/lib/python3.8/site-packages (from spacy<3.1.0,>=3.0.0->ru-core-news-lg==3.0.0) (2.0.4)\n",
      "Requirement already satisfied: setuptools in /home/sv/anaconda3/lib/python3.8/site-packages (from spacy<3.1.0,>=3.0.0->ru-core-news-lg==3.0.0) (51.0.0.post20201207)\n",
      "Requirement already satisfied: cymem<2.1.0,>=2.0.2 in /home/sv/anaconda3/lib/python3.8/site-packages (from spacy<3.1.0,>=3.0.0->ru-core-news-lg==3.0.0) (2.0.5)\n",
      "Requirement already satisfied: thinc<8.1.0,>=8.0.3 in /home/sv/anaconda3/lib/python3.8/site-packages (from spacy<3.1.0,>=3.0.0->ru-core-news-lg==3.0.0) (8.0.3)\n",
      "Requirement already satisfied: murmurhash<1.1.0,>=0.28.0 in /home/sv/anaconda3/lib/python3.8/site-packages (from spacy<3.1.0,>=3.0.0->ru-core-news-lg==3.0.0) (1.0.5)\n",
      "Requirement already satisfied: preshed<3.1.0,>=3.0.2 in /home/sv/anaconda3/lib/python3.8/site-packages (from spacy<3.1.0,>=3.0.0->ru-core-news-lg==3.0.0) (3.0.5)\n",
      "Requirement already satisfied: srsly<3.0.0,>=2.4.1 in /home/sv/anaconda3/lib/python3.8/site-packages (from spacy<3.1.0,>=3.0.0->ru-core-news-lg==3.0.0) (2.4.1)\n",
      "Requirement already satisfied: packaging>=20.0 in /home/sv/anaconda3/lib/python3.8/site-packages (from spacy<3.1.0,>=3.0.0->ru-core-news-lg==3.0.0) (20.8)\n",
      "Requirement already satisfied: numpy>=1.15.0 in /home/sv/anaconda3/lib/python3.8/site-packages (from spacy<3.1.0,>=3.0.0->ru-core-news-lg==3.0.0) (1.20.2)\n",
      "Requirement already satisfied: requests<3.0.0,>=2.13.0 in /home/sv/anaconda3/lib/python3.8/site-packages (from spacy<3.1.0,>=3.0.0->ru-core-news-lg==3.0.0) (2.25.1)\n",
      "Requirement already satisfied: pydantic<1.8.0,>=1.7.1 in /home/sv/anaconda3/lib/python3.8/site-packages (from spacy<3.1.0,>=3.0.0->ru-core-news-lg==3.0.0) (1.7.3)\n",
      "Requirement already satisfied: wasabi<1.1.0,>=0.8.1 in /home/sv/anaconda3/lib/python3.8/site-packages (from spacy<3.1.0,>=3.0.0->ru-core-news-lg==3.0.0) (0.8.2)\n",
      "Requirement already satisfied: pyparsing>=2.0.2 in /home/sv/anaconda3/lib/python3.8/site-packages (from packaging>=20.0->spacy<3.1.0,>=3.0.0->ru-core-news-lg==3.0.0) (2.4.7)\n",
      "Requirement already satisfied: smart-open<4.0.0,>=2.2.0 in /home/sv/anaconda3/lib/python3.8/site-packages (from pathy>=0.3.5->spacy<3.1.0,>=3.0.0->ru-core-news-lg==3.0.0) (3.0.0)\n"
     ]
    },
    {
     "name": "stdout",
     "output_type": "stream",
     "text": [
      "Requirement already satisfied: chardet<5,>=3.0.2 in /home/sv/anaconda3/lib/python3.8/site-packages (from requests<3.0.0,>=2.13.0->spacy<3.1.0,>=3.0.0->ru-core-news-lg==3.0.0) (4.0.0)\n",
      "Requirement already satisfied: certifi>=2017.4.17 in /home/sv/anaconda3/lib/python3.8/site-packages (from requests<3.0.0,>=2.13.0->spacy<3.1.0,>=3.0.0->ru-core-news-lg==3.0.0) (2020.12.5)\n",
      "Requirement already satisfied: idna<3,>=2.5 in /home/sv/anaconda3/lib/python3.8/site-packages (from requests<3.0.0,>=2.13.0->spacy<3.1.0,>=3.0.0->ru-core-news-lg==3.0.0) (2.10)\n",
      "Requirement already satisfied: urllib3<1.27,>=1.21.1 in /home/sv/anaconda3/lib/python3.8/site-packages (from requests<3.0.0,>=2.13.0->spacy<3.1.0,>=3.0.0->ru-core-news-lg==3.0.0) (1.26.2)\n",
      "Requirement already satisfied: click<7.2.0,>=7.1.1 in /home/sv/anaconda3/lib/python3.8/site-packages (from typer<0.4.0,>=0.3.0->spacy<3.1.0,>=3.0.0->ru-core-news-lg==3.0.0) (7.1.2)\n",
      "Requirement already satisfied: MarkupSafe>=0.23 in /home/sv/anaconda3/lib/python3.8/site-packages (from jinja2->spacy<3.1.0,>=3.0.0->ru-core-news-lg==3.0.0) (1.1.1)\n",
      "Installing collected packages: ru-core-news-lg\n",
      "Successfully installed ru-core-news-lg-3.0.0\n",
      "\u001b[38;5;2m✔ Download and installation successful\u001b[0m\n",
      "You can now load the package via spacy.load('ru_core_news_lg')\n"
     ]
    }
   ],
   "source": [
    "!pip install spacy\n",
    "!python -m spacy download ru_core_news_lg"
   ]
  },
  {
   "cell_type": "code",
   "execution_count": 27,
   "metadata": {},
   "outputs": [],
   "source": [
    "import pandas as pd\n",
    "import matplotlib.pyplot as plt\n",
    "import numpy as np\n",
    "import re\n",
    "\n",
    "import spacy\n",
    "from pymystem3 import Mystem\n",
    "from nltk.corpus import stopwords\n",
    "from wordcloud import WordCloud\n",
    "from sklearn.feature_extraction.text import TfidfVectorizer\n",
    "\n",
    "import string\n",
    "import time\n",
    "\n",
    "#import emoji"
   ]
  },
  {
   "cell_type": "code",
   "execution_count": 29,
   "metadata": {},
   "outputs": [
    {
     "data": {
      "text/html": [
       "<div>\n",
       "<style scoped>\n",
       "    .dataframe tbody tr th:only-of-type {\n",
       "        vertical-align: middle;\n",
       "    }\n",
       "\n",
       "    .dataframe tbody tr th {\n",
       "        vertical-align: top;\n",
       "    }\n",
       "\n",
       "    .dataframe thead th {\n",
       "        text-align: right;\n",
       "    }\n",
       "</style>\n",
       "<table border=\"1\" class=\"dataframe\">\n",
       "  <thead>\n",
       "    <tr style=\"text-align: right;\">\n",
       "      <th></th>\n",
       "      <th>comment</th>\n",
       "      <th>date_time</th>\n",
       "      <th>color</th>\n",
       "      <th>size</th>\n",
       "      <th>thumb_up</th>\n",
       "      <th>thumb_down</th>\n",
       "      <th>prod_eval</th>\n",
       "      <th>prod</th>\n",
       "      <th>brand</th>\n",
       "    </tr>\n",
       "  </thead>\n",
       "  <tbody>\n",
       "    <tr>\n",
       "      <th>0</th>\n",
       "      <td>Сарафан шикарен, сел идеально. Такой лёгкий, с...</td>\n",
       "      <td>2020-07-24T16:52:19.166628728Z</td>\n",
       "      <td>черный, белый</td>\n",
       "      <td>44</td>\n",
       "      <td>1</td>\n",
       "      <td>0</td>\n",
       "      <td>5</td>\n",
       "      <td>Сарафан</td>\n",
       "      <td>shovSvaro</td>\n",
       "    </tr>\n",
       "    <tr>\n",
       "      <th>1</th>\n",
       "      <td>Отличный сарафан, стал одним из любимых. Очень...</td>\n",
       "      <td>2019-11-22T11:37:12.282151796Z</td>\n",
       "      <td>синий, белый</td>\n",
       "      <td>48</td>\n",
       "      <td>1</td>\n",
       "      <td>0</td>\n",
       "      <td>5</td>\n",
       "      <td>Сарафан</td>\n",
       "      <td>shovSvaro</td>\n",
       "    </tr>\n",
       "    <tr>\n",
       "      <th>2</th>\n",
       "      <td>Сарафан хорошо сшит, но для меня много синтети...</td>\n",
       "      <td>2019-11-11T10:04:38.841881311Z</td>\n",
       "      <td>пастельно-розовый, белый</td>\n",
       "      <td>48</td>\n",
       "      <td>1</td>\n",
       "      <td>0</td>\n",
       "      <td>4</td>\n",
       "      <td>Сарафан</td>\n",
       "      <td>shovSvaro</td>\n",
       "    </tr>\n",
       "    <tr>\n",
       "      <th>3</th>\n",
       "      <td>Сарафан мне очень понравился. Я просто влюблен...</td>\n",
       "      <td>2019-09-24T16:53:27.302528222Z</td>\n",
       "      <td>пастельно-розовый, белый</td>\n",
       "      <td>48</td>\n",
       "      <td>2</td>\n",
       "      <td>0</td>\n",
       "      <td>5</td>\n",
       "      <td>Сарафан</td>\n",
       "      <td>shovSvaro</td>\n",
       "    </tr>\n",
       "    <tr>\n",
       "      <th>4</th>\n",
       "      <td>Не понравилось как село , на фигуру груша боль...</td>\n",
       "      <td>2019-09-05T10:58:25.577249481Z</td>\n",
       "      <td>пастельно-розовый, белый</td>\n",
       "      <td>46</td>\n",
       "      <td>2</td>\n",
       "      <td>0</td>\n",
       "      <td>5</td>\n",
       "      <td>Сарафан</td>\n",
       "      <td>shovSvaro</td>\n",
       "    </tr>\n",
       "  </tbody>\n",
       "</table>\n",
       "</div>"
      ],
      "text/plain": [
       "                                             comment  \\\n",
       "0  Сарафан шикарен, сел идеально. Такой лёгкий, с...   \n",
       "1  Отличный сарафан, стал одним из любимых. Очень...   \n",
       "2  Сарафан хорошо сшит, но для меня много синтети...   \n",
       "3  Сарафан мне очень понравился. Я просто влюблен...   \n",
       "4  Не понравилось как село , на фигуру груша боль...   \n",
       "\n",
       "                        date_time                     color size thumb_up  \\\n",
       "0  2020-07-24T16:52:19.166628728Z             черный, белый   44        1   \n",
       "1  2019-11-22T11:37:12.282151796Z              синий, белый   48        1   \n",
       "2  2019-11-11T10:04:38.841881311Z  пастельно-розовый, белый   48        1   \n",
       "3  2019-09-24T16:53:27.302528222Z  пастельно-розовый, белый   48        2   \n",
       "4  2019-09-05T10:58:25.577249481Z  пастельно-розовый, белый   46        2   \n",
       "\n",
       "  thumb_down prod_eval     prod      brand  \n",
       "0          0         5  Сарафан  shovSvaro  \n",
       "1          0         5  Сарафан  shovSvaro  \n",
       "2          0         4  Сарафан  shovSvaro  \n",
       "3          0         5  Сарафан  shovSvaro  \n",
       "4          0         5  Сарафан  shovSvaro  "
      ]
     },
     "execution_count": 29,
     "metadata": {},
     "output_type": "execute_result"
    }
   ],
   "source": [
    "columns = ['comment', 'date_time', 'color','size', 'thumb_up', 'thumb_down', 'prod_eval', 'prod', 'brand']\n",
    "\n",
    "df = pd.read_json('./input/file_7961415_946967395_295.jl').transpose().reset_index().drop('index', axis=1)\n",
    "df = df.set_axis(columns, axis = 'columns')\n",
    "\n",
    "df.head(5)"
   ]
  },
  {
   "cell_type": "markdown",
   "metadata": {},
   "source": [
    "# Stopwords extension"
   ]
  },
  {
   "cell_type": "code",
   "execution_count": 30,
   "metadata": {},
   "outputs": [],
   "source": [
    "# нужно обновить стоп-слова, добавив как миниму то, что в облаке. Сейчас использую стоп-слова NLTK, \n",
    "# но стоит сравнить с другими\n",
    "russian_stopwords = stopwords.words(\"russian\")\n",
    "\n",
    "russian_stopwords.extend(['очень', 'хороший', 'отличный', 'свой', 'отзыв', 'миксер', 'супер','это', 'спасибо', 'работа',\n",
    "                          re.sub(r'[.,?!@#~`$%^&*_+-=]', '', df['brand'][0].lower()), \n",
    "                          re.sub(r'[.,?!@#~`$%^&*_+-=]', '', df['prod'][0].lower())])\n",
    "#print(len(russian_stopwords))\n",
    "#print(len(russian_stopwords))"
   ]
  },
  {
   "cell_type": "code",
   "execution_count": 42,
   "metadata": {},
   "outputs": [
    {
     "data": {
      "text/html": [
       "<div>\n",
       "<style scoped>\n",
       "    .dataframe tbody tr th:only-of-type {\n",
       "        vertical-align: middle;\n",
       "    }\n",
       "\n",
       "    .dataframe tbody tr th {\n",
       "        vertical-align: top;\n",
       "    }\n",
       "\n",
       "    .dataframe thead th {\n",
       "        text-align: right;\n",
       "    }\n",
       "</style>\n",
       "<table border=\"1\" class=\"dataframe\">\n",
       "  <thead>\n",
       "    <tr style=\"text-align: right;\">\n",
       "      <th></th>\n",
       "      <th>comment</th>\n",
       "      <th>date_time</th>\n",
       "      <th>color</th>\n",
       "      <th>size</th>\n",
       "      <th>thumb_up</th>\n",
       "      <th>thumb_down</th>\n",
       "      <th>prod_eval</th>\n",
       "      <th>prod</th>\n",
       "      <th>brand</th>\n",
       "      <th>cleaned_comment</th>\n",
       "      <th>lemma_comment</th>\n",
       "    </tr>\n",
       "  </thead>\n",
       "  <tbody>\n",
       "    <tr>\n",
       "      <th>0</th>\n",
       "      <td>Сарафан шикарен, сел идеально. Такой лёгкий, с...</td>\n",
       "      <td>2020-07-24T16:52:19.166628728Z</td>\n",
       "      <td>черный, белый</td>\n",
       "      <td>44</td>\n",
       "      <td>1</td>\n",
       "      <td>0</td>\n",
       "      <td>5</td>\n",
       "      <td>Сарафан</td>\n",
       "      <td>shovSvaro</td>\n",
       "      <td>шикарен сел идеально лёгкий струящийся стройни...</td>\n",
       "      <td>шикарный садиться идеально легкий струиться ст...</td>\n",
       "    </tr>\n",
       "    <tr>\n",
       "      <th>1</th>\n",
       "      <td>Отличный сарафан, стал одним из любимых. Очень...</td>\n",
       "      <td>2019-11-22T11:37:12.282151796Z</td>\n",
       "      <td>синий, белый</td>\n",
       "      <td>48</td>\n",
       "      <td>1</td>\n",
       "      <td>0</td>\n",
       "      <td>5</td>\n",
       "      <td>Сарафан</td>\n",
       "      <td>shovSvaro</td>\n",
       "      <td>сарафан стал одним любимых удобный стройнит пр...</td>\n",
       "      <td>сарафан становиться один любимый удобный строй...</td>\n",
       "    </tr>\n",
       "    <tr>\n",
       "      <th>2</th>\n",
       "      <td>Сарафан хорошо сшит, но для меня много синтети...</td>\n",
       "      <td>2019-11-11T10:04:38.841881311Z</td>\n",
       "      <td>пастельно-розовый, белый</td>\n",
       "      <td>48</td>\n",
       "      <td>1</td>\n",
       "      <td>0</td>\n",
       "      <td>4</td>\n",
       "      <td>Сарафан</td>\n",
       "      <td>shovSvaro</td>\n",
       "      <td>сшит синтетики тянется спинка занижена поэтому...</td>\n",
       "      <td>сшивать синтетика тянуться спинка занижать поэ...</td>\n",
       "    </tr>\n",
       "    <tr>\n",
       "      <th>3</th>\n",
       "      <td>Сарафан мне очень понравился. Я просто влюблен...</td>\n",
       "      <td>2019-09-24T16:53:27.302528222Z</td>\n",
       "      <td>пастельно-розовый, белый</td>\n",
       "      <td>48</td>\n",
       "      <td>2</td>\n",
       "      <td>0</td>\n",
       "      <td>5</td>\n",
       "      <td>Сарафан</td>\n",
       "      <td>shovSvaro</td>\n",
       "      <td>понравился просто влюблена него сшит отлично п...</td>\n",
       "      <td>понравиться просто влюбленный он сшивать отлич...</td>\n",
       "    </tr>\n",
       "    <tr>\n",
       "      <th>4</th>\n",
       "      <td>Не понравилось как село , на фигуру груша боль...</td>\n",
       "      <td>2019-09-05T10:58:25.577249481Z</td>\n",
       "      <td>пастельно-розовый, белый</td>\n",
       "      <td>46</td>\n",
       "      <td>2</td>\n",
       "      <td>0</td>\n",
       "      <td>5</td>\n",
       "      <td>Сарафан</td>\n",
       "      <td>shovSvaro</td>\n",
       "      <td>понравилось село фигуру груша подойдёт рекомен...</td>\n",
       "      <td>понравиться село фигура груша подходить рекоме...</td>\n",
       "    </tr>\n",
       "  </tbody>\n",
       "</table>\n",
       "</div>"
      ],
      "text/plain": [
       "                                             comment  \\\n",
       "0  Сарафан шикарен, сел идеально. Такой лёгкий, с...   \n",
       "1  Отличный сарафан, стал одним из любимых. Очень...   \n",
       "2  Сарафан хорошо сшит, но для меня много синтети...   \n",
       "3  Сарафан мне очень понравился. Я просто влюблен...   \n",
       "4  Не понравилось как село , на фигуру груша боль...   \n",
       "\n",
       "                        date_time                     color size thumb_up  \\\n",
       "0  2020-07-24T16:52:19.166628728Z             черный, белый   44        1   \n",
       "1  2019-11-22T11:37:12.282151796Z              синий, белый   48        1   \n",
       "2  2019-11-11T10:04:38.841881311Z  пастельно-розовый, белый   48        1   \n",
       "3  2019-09-24T16:53:27.302528222Z  пастельно-розовый, белый   48        2   \n",
       "4  2019-09-05T10:58:25.577249481Z  пастельно-розовый, белый   46        2   \n",
       "\n",
       "  thumb_down prod_eval     prod      brand  \\\n",
       "0          0         5  Сарафан  shovSvaro   \n",
       "1          0         5  Сарафан  shovSvaro   \n",
       "2          0         4  Сарафан  shovSvaro   \n",
       "3          0         5  Сарафан  shovSvaro   \n",
       "4          0         5  Сарафан  shovSvaro   \n",
       "\n",
       "                                     cleaned_comment  \\\n",
       "0  шикарен сел идеально лёгкий струящийся стройни...   \n",
       "1  сарафан стал одним любимых удобный стройнит пр...   \n",
       "2  сшит синтетики тянется спинка занижена поэтому...   \n",
       "3  понравился просто влюблена него сшит отлично п...   \n",
       "4  понравилось село фигуру груша подойдёт рекомен...   \n",
       "\n",
       "                                       lemma_comment  \n",
       "0  шикарный садиться идеально легкий струиться ст...  \n",
       "1  сарафан становиться один любимый удобный строй...  \n",
       "2  сшивать синтетика тянуться спинка занижать поэ...  \n",
       "3  понравиться просто влюбленный он сшивать отлич...  \n",
       "4  понравиться село фигура груша подходить рекоме...  "
      ]
     },
     "execution_count": 42,
     "metadata": {},
     "output_type": "execute_result"
    }
   ],
   "source": [
    "df.head(5)"
   ]
  },
  {
   "cell_type": "markdown",
   "metadata": {},
   "source": [
    "# Очистка текста (эмодзи, стоп-слова, символы)"
   ]
  },
  {
   "cell_type": "code",
   "execution_count": 32,
   "metadata": {},
   "outputs": [],
   "source": [
    "### Text Normalizing function. Part of the following function was taken from this link. \n",
    "def clean_text(text):\n",
    "    \n",
    "    emoji_pattern = re.compile(\"[\"\n",
    "        u\"\\U0001F600-\\U0001F64F\"  # emoticons\n",
    "        u\"\\U0001F300-\\U0001F5FF\"  # symbols & pictographs\n",
    "        u\"\\U0001F680-\\U0001F6FF\"  # transport & map symbols\n",
    "        u\"\\U0001F1E0-\\U0001F1FF\"  # flags (iOS)\n",
    "        u\"\\U0001F1F2-\\U0001F1F4\"  # Macau flag\n",
    "        u\"\\U0001F1E6-\\U0001F1FF\"  # flags\n",
    "        u\"\\U0001F600-\\U0001F64F\"\n",
    "        u\"\\U00002702-\\U000027B0\"\n",
    "        u\"\\U000024C2-\\U0001F251\"\n",
    "        u\"\\U0001f926-\\U0001f937\"\n",
    "        u\"\\U0001F1F2\"\n",
    "        u\"\\U0001F1F4\"\n",
    "        u\"\\U0001F620\"\n",
    "        u\"\\u200d\"\n",
    "        u\"\\u2640-\\u2642\"\n",
    "        \"]+\", flags=re.UNICODE)\n",
    "\n",
    "    text = text.translate(string.punctuation)\n",
    "    text = text.lower().split()\n",
    "    text = [w for w in text if not w in russian_stopwords and len(w) >= 3]\n",
    "    text = \" \".join(text)\n",
    "\n",
    "    ## Clean the text\n",
    "    text = re.sub(r\"[,!.\\/'+-=)(]\", \" \", text)\n",
    "    text = re.sub(r\"\\'s\", \" \", text)\n",
    "    text = re.sub(r\",\", \" \", text)\n",
    "    text = re.sub(r\"\\.\", \" \", text)\n",
    "    text = re.sub(r\"!\", \" ! \", text)\n",
    "    text = re.sub(r\"\\/\", \" \", text)\n",
    "    text = re.sub(r\"\\^\", \" ^ \", text)\n",
    "    text = re.sub(r\"\\+\", \" + \", text)\n",
    "    text = re.sub(r\"\\%\", \" \", text)\n",
    "    text = re.sub(r\"\\-\", \" - \", text)\n",
    "    text = re.sub(r\"\\=\", \" = \", text)\n",
    "    text = re.sub(r\"\\|\", \" \", text)\n",
    "    text = re.sub(r\"'\", \" \", text)\n",
    "    text = re.sub(r\"(\\d+)(k)\", r\"\\g<1>000\", text)\n",
    "    text = re.sub(r\":\", \" : \", text)\n",
    "    text = re.sub(r\"\\s{2,}\", \" \", text)\n",
    "    text = emoji_pattern.sub(r'', text)\n",
    "    text = \" \".join(text.split())\n",
    "    \n",
    "\n",
    "    return text\n"
   ]
  },
  {
   "cell_type": "code",
   "execution_count": 33,
   "metadata": {},
   "outputs": [
    {
     "name": "stdout",
     "output_type": "stream",
     "text": [
      "CPU times: user 3 µs, sys: 2 µs, total: 5 µs\n",
      "Wall time: 9.78 µs\n"
     ]
    }
   ],
   "source": [
    "%time\n",
    "df['cleaned_comment'] = df['comment'].map(lambda x: clean_text(x))"
   ]
  },
  {
   "cell_type": "code",
   "execution_count": 34,
   "metadata": {},
   "outputs": [
    {
     "data": {
      "text/html": [
       "<div>\n",
       "<style scoped>\n",
       "    .dataframe tbody tr th:only-of-type {\n",
       "        vertical-align: middle;\n",
       "    }\n",
       "\n",
       "    .dataframe tbody tr th {\n",
       "        vertical-align: top;\n",
       "    }\n",
       "\n",
       "    .dataframe thead th {\n",
       "        text-align: right;\n",
       "    }\n",
       "</style>\n",
       "<table border=\"1\" class=\"dataframe\">\n",
       "  <thead>\n",
       "    <tr style=\"text-align: right;\">\n",
       "      <th></th>\n",
       "      <th>comment</th>\n",
       "      <th>date_time</th>\n",
       "      <th>color</th>\n",
       "      <th>size</th>\n",
       "      <th>thumb_up</th>\n",
       "      <th>thumb_down</th>\n",
       "      <th>prod_eval</th>\n",
       "      <th>prod</th>\n",
       "      <th>brand</th>\n",
       "      <th>cleaned_comment</th>\n",
       "    </tr>\n",
       "  </thead>\n",
       "  <tbody>\n",
       "    <tr>\n",
       "      <th>0</th>\n",
       "      <td>Сарафан шикарен, сел идеально. Такой лёгкий, с...</td>\n",
       "      <td>2020-07-24T16:52:19.166628728Z</td>\n",
       "      <td>черный, белый</td>\n",
       "      <td>44</td>\n",
       "      <td>1</td>\n",
       "      <td>0</td>\n",
       "      <td>5</td>\n",
       "      <td>Сарафан</td>\n",
       "      <td>shovSvaro</td>\n",
       "      <td>шикарен сел идеально лёгкий струящийся стройни...</td>\n",
       "    </tr>\n",
       "    <tr>\n",
       "      <th>1</th>\n",
       "      <td>Отличный сарафан, стал одним из любимых. Очень...</td>\n",
       "      <td>2019-11-22T11:37:12.282151796Z</td>\n",
       "      <td>синий, белый</td>\n",
       "      <td>48</td>\n",
       "      <td>1</td>\n",
       "      <td>0</td>\n",
       "      <td>5</td>\n",
       "      <td>Сарафан</td>\n",
       "      <td>shovSvaro</td>\n",
       "      <td>сарафан стал одним любимых удобный стройнит пр...</td>\n",
       "    </tr>\n",
       "    <tr>\n",
       "      <th>2</th>\n",
       "      <td>Сарафан хорошо сшит, но для меня много синтети...</td>\n",
       "      <td>2019-11-11T10:04:38.841881311Z</td>\n",
       "      <td>пастельно-розовый, белый</td>\n",
       "      <td>48</td>\n",
       "      <td>1</td>\n",
       "      <td>0</td>\n",
       "      <td>4</td>\n",
       "      <td>Сарафан</td>\n",
       "      <td>shovSvaro</td>\n",
       "      <td>сшит синтетики тянется спинка занижена поэтому...</td>\n",
       "    </tr>\n",
       "    <tr>\n",
       "      <th>3</th>\n",
       "      <td>Сарафан мне очень понравился. Я просто влюблен...</td>\n",
       "      <td>2019-09-24T16:53:27.302528222Z</td>\n",
       "      <td>пастельно-розовый, белый</td>\n",
       "      <td>48</td>\n",
       "      <td>2</td>\n",
       "      <td>0</td>\n",
       "      <td>5</td>\n",
       "      <td>Сарафан</td>\n",
       "      <td>shovSvaro</td>\n",
       "      <td>понравился просто влюблена него сшит отлично п...</td>\n",
       "    </tr>\n",
       "    <tr>\n",
       "      <th>4</th>\n",
       "      <td>Не понравилось как село , на фигуру груша боль...</td>\n",
       "      <td>2019-09-05T10:58:25.577249481Z</td>\n",
       "      <td>пастельно-розовый, белый</td>\n",
       "      <td>46</td>\n",
       "      <td>2</td>\n",
       "      <td>0</td>\n",
       "      <td>5</td>\n",
       "      <td>Сарафан</td>\n",
       "      <td>shovSvaro</td>\n",
       "      <td>понравилось село фигуру груша подойдёт рекомен...</td>\n",
       "    </tr>\n",
       "  </tbody>\n",
       "</table>\n",
       "</div>"
      ],
      "text/plain": [
       "                                             comment  \\\n",
       "0  Сарафан шикарен, сел идеально. Такой лёгкий, с...   \n",
       "1  Отличный сарафан, стал одним из любимых. Очень...   \n",
       "2  Сарафан хорошо сшит, но для меня много синтети...   \n",
       "3  Сарафан мне очень понравился. Я просто влюблен...   \n",
       "4  Не понравилось как село , на фигуру груша боль...   \n",
       "\n",
       "                        date_time                     color size thumb_up  \\\n",
       "0  2020-07-24T16:52:19.166628728Z             черный, белый   44        1   \n",
       "1  2019-11-22T11:37:12.282151796Z              синий, белый   48        1   \n",
       "2  2019-11-11T10:04:38.841881311Z  пастельно-розовый, белый   48        1   \n",
       "3  2019-09-24T16:53:27.302528222Z  пастельно-розовый, белый   48        2   \n",
       "4  2019-09-05T10:58:25.577249481Z  пастельно-розовый, белый   46        2   \n",
       "\n",
       "  thumb_down prod_eval     prod      brand  \\\n",
       "0          0         5  Сарафан  shovSvaro   \n",
       "1          0         5  Сарафан  shovSvaro   \n",
       "2          0         4  Сарафан  shovSvaro   \n",
       "3          0         5  Сарафан  shovSvaro   \n",
       "4          0         5  Сарафан  shovSvaro   \n",
       "\n",
       "                                     cleaned_comment  \n",
       "0  шикарен сел идеально лёгкий струящийся стройни...  \n",
       "1  сарафан стал одним любимых удобный стройнит пр...  \n",
       "2  сшит синтетики тянется спинка занижена поэтому...  \n",
       "3  понравился просто влюблена него сшит отлично п...  \n",
       "4  понравилось село фигуру груша подойдёт рекомен...  "
      ]
     },
     "execution_count": 34,
     "metadata": {},
     "output_type": "execute_result"
    }
   ],
   "source": [
    "df.head()"
   ]
  },
  {
   "cell_type": "markdown",
   "metadata": {},
   "source": [
    "# Mystem и удаление опустевших комментов"
   ]
  },
  {
   "cell_type": "code",
   "execution_count": 43,
   "metadata": {},
   "outputs": [
    {
     "data": {
      "text/html": [
       "<div>\n",
       "<style scoped>\n",
       "    .dataframe tbody tr th:only-of-type {\n",
       "        vertical-align: middle;\n",
       "    }\n",
       "\n",
       "    .dataframe tbody tr th {\n",
       "        vertical-align: top;\n",
       "    }\n",
       "\n",
       "    .dataframe thead th {\n",
       "        text-align: right;\n",
       "    }\n",
       "</style>\n",
       "<table border=\"1\" class=\"dataframe\">\n",
       "  <thead>\n",
       "    <tr style=\"text-align: right;\">\n",
       "      <th></th>\n",
       "      <th>comment</th>\n",
       "      <th>date_time</th>\n",
       "      <th>color</th>\n",
       "      <th>size</th>\n",
       "      <th>thumb_up</th>\n",
       "      <th>thumb_down</th>\n",
       "      <th>prod_eval</th>\n",
       "      <th>prod</th>\n",
       "      <th>brand</th>\n",
       "      <th>cleaned_comment</th>\n",
       "      <th>lemma_comment</th>\n",
       "    </tr>\n",
       "  </thead>\n",
       "  <tbody>\n",
       "  </tbody>\n",
       "</table>\n",
       "</div>"
      ],
      "text/plain": [
       "Empty DataFrame\n",
       "Columns: [comment, date_time, color, size, thumb_up, thumb_down, prod_eval, prod, brand, cleaned_comment, lemma_comment]\n",
       "Index: []"
      ]
     },
     "execution_count": 43,
     "metadata": {},
     "output_type": "execute_result"
    }
   ],
   "source": [
    "df[df['cleaned_comment']=='']"
   ]
  },
  {
   "cell_type": "code",
   "execution_count": 44,
   "metadata": {},
   "outputs": [],
   "source": [
    "df = df.drop(df[df['cleaned_comment']==''].index)"
   ]
  },
  {
   "cell_type": "code",
   "execution_count": 45,
   "metadata": {},
   "outputs": [],
   "source": [
    "def lemmatize(text): \n",
    "    text =  [i for i in text]\n",
    "    m = Mystem()\n",
    "    merged_text = \"|\".join(text)\n",
    "\n",
    "    doc = []\n",
    "    res = []\n",
    "    count = 0\n",
    "    lemma = m.lemmatize(merged_text)\n",
    "    for t in lemma:\n",
    "        \n",
    "        if t != '|' and count+1<len(lemma):\n",
    "            doc.append(t)\n",
    "            count+=1\n",
    "          \n",
    "        else:\n",
    "            doc = ''.join(i for i in doc)\n",
    "            res.append(doc)\n",
    "            count+=1\n",
    "            doc = []\n",
    "    return res"
   ]
  },
  {
   "cell_type": "code",
   "execution_count": 46,
   "metadata": {},
   "outputs": [
    {
     "name": "stdout",
     "output_type": "stream",
     "text": [
      "CPU times: user 3 µs, sys: 2 µs, total: 5 µs\n",
      "Wall time: 9.78 µs\n"
     ]
    }
   ],
   "source": [
    "%time\n",
    "res = lemmatize(df['cleaned_comment'])"
   ]
  },
  {
   "cell_type": "code",
   "execution_count": 47,
   "metadata": {},
   "outputs": [],
   "source": [
    "df['lemma_comment'] = res"
   ]
  },
  {
   "cell_type": "code",
   "execution_count": 48,
   "metadata": {},
   "outputs": [
    {
     "name": "stdout",
     "output_type": "stream",
     "text": [
      "CPU times: user 3 µs, sys: 2 µs, total: 5 µs\n",
      "Wall time: 8.34 µs\n"
     ]
    }
   ],
   "source": [
    "%time\n",
    "df['lemma_comment'] = df['lemma_comment'].map(lambda x: clean_text(x))\n",
    "df = df.drop(df[df['lemma_comment']==''].index)"
   ]
  },
  {
   "cell_type": "code",
   "execution_count": 49,
   "metadata": {},
   "outputs": [
    {
     "data": {
      "text/html": [
       "<div>\n",
       "<style scoped>\n",
       "    .dataframe tbody tr th:only-of-type {\n",
       "        vertical-align: middle;\n",
       "    }\n",
       "\n",
       "    .dataframe tbody tr th {\n",
       "        vertical-align: top;\n",
       "    }\n",
       "\n",
       "    .dataframe thead th {\n",
       "        text-align: right;\n",
       "    }\n",
       "</style>\n",
       "<table border=\"1\" class=\"dataframe\">\n",
       "  <thead>\n",
       "    <tr style=\"text-align: right;\">\n",
       "      <th></th>\n",
       "      <th>comment</th>\n",
       "      <th>date_time</th>\n",
       "      <th>color</th>\n",
       "      <th>size</th>\n",
       "      <th>thumb_up</th>\n",
       "      <th>thumb_down</th>\n",
       "      <th>prod_eval</th>\n",
       "      <th>prod</th>\n",
       "      <th>brand</th>\n",
       "      <th>cleaned_comment</th>\n",
       "      <th>lemma_comment</th>\n",
       "    </tr>\n",
       "  </thead>\n",
       "  <tbody>\n",
       "    <tr>\n",
       "      <th>0</th>\n",
       "      <td>Сарафан шикарен, сел идеально. Такой лёгкий, с...</td>\n",
       "      <td>2020-07-24T16:52:19.166628728Z</td>\n",
       "      <td>черный, белый</td>\n",
       "      <td>44</td>\n",
       "      <td>1</td>\n",
       "      <td>0</td>\n",
       "      <td>5</td>\n",
       "      <td>Сарафан</td>\n",
       "      <td>shovSvaro</td>\n",
       "      <td>шикарен сел идеально лёгкий струящийся стройни...</td>\n",
       "      <td>шикарный садиться идеально легкий струиться ст...</td>\n",
       "    </tr>\n",
       "    <tr>\n",
       "      <th>1</th>\n",
       "      <td>Отличный сарафан, стал одним из любимых. Очень...</td>\n",
       "      <td>2019-11-22T11:37:12.282151796Z</td>\n",
       "      <td>синий, белый</td>\n",
       "      <td>48</td>\n",
       "      <td>1</td>\n",
       "      <td>0</td>\n",
       "      <td>5</td>\n",
       "      <td>Сарафан</td>\n",
       "      <td>shovSvaro</td>\n",
       "      <td>сарафан стал одним любимых удобный стройнит пр...</td>\n",
       "      <td>становиться любимый удобный стройнит приятный ...</td>\n",
       "    </tr>\n",
       "    <tr>\n",
       "      <th>2</th>\n",
       "      <td>Сарафан хорошо сшит, но для меня много синтети...</td>\n",
       "      <td>2019-11-11T10:04:38.841881311Z</td>\n",
       "      <td>пастельно-розовый, белый</td>\n",
       "      <td>48</td>\n",
       "      <td>1</td>\n",
       "      <td>0</td>\n",
       "      <td>4</td>\n",
       "      <td>Сарафан</td>\n",
       "      <td>shovSvaro</td>\n",
       "      <td>сшит синтетики тянется спинка занижена поэтому...</td>\n",
       "      <td>сшивать синтетика тянуться спинка занижать поэ...</td>\n",
       "    </tr>\n",
       "    <tr>\n",
       "      <th>3</th>\n",
       "      <td>Сарафан мне очень понравился. Я просто влюблен...</td>\n",
       "      <td>2019-09-24T16:53:27.302528222Z</td>\n",
       "      <td>пастельно-розовый, белый</td>\n",
       "      <td>48</td>\n",
       "      <td>2</td>\n",
       "      <td>0</td>\n",
       "      <td>5</td>\n",
       "      <td>Сарафан</td>\n",
       "      <td>shovSvaro</td>\n",
       "      <td>понравился просто влюблена него сшит отлично п...</td>\n",
       "      <td>понравиться просто влюбленный сшивать отлично ...</td>\n",
       "    </tr>\n",
       "    <tr>\n",
       "      <th>4</th>\n",
       "      <td>Не понравилось как село , на фигуру груша боль...</td>\n",
       "      <td>2019-09-05T10:58:25.577249481Z</td>\n",
       "      <td>пастельно-розовый, белый</td>\n",
       "      <td>46</td>\n",
       "      <td>2</td>\n",
       "      <td>0</td>\n",
       "      <td>5</td>\n",
       "      <td>Сарафан</td>\n",
       "      <td>shovSvaro</td>\n",
       "      <td>понравилось село фигуру груша подойдёт рекомен...</td>\n",
       "      <td>понравиться село фигура груша подходить рекоме...</td>\n",
       "    </tr>\n",
       "  </tbody>\n",
       "</table>\n",
       "</div>"
      ],
      "text/plain": [
       "                                             comment  \\\n",
       "0  Сарафан шикарен, сел идеально. Такой лёгкий, с...   \n",
       "1  Отличный сарафан, стал одним из любимых. Очень...   \n",
       "2  Сарафан хорошо сшит, но для меня много синтети...   \n",
       "3  Сарафан мне очень понравился. Я просто влюблен...   \n",
       "4  Не понравилось как село , на фигуру груша боль...   \n",
       "\n",
       "                        date_time                     color size thumb_up  \\\n",
       "0  2020-07-24T16:52:19.166628728Z             черный, белый   44        1   \n",
       "1  2019-11-22T11:37:12.282151796Z              синий, белый   48        1   \n",
       "2  2019-11-11T10:04:38.841881311Z  пастельно-розовый, белый   48        1   \n",
       "3  2019-09-24T16:53:27.302528222Z  пастельно-розовый, белый   48        2   \n",
       "4  2019-09-05T10:58:25.577249481Z  пастельно-розовый, белый   46        2   \n",
       "\n",
       "  thumb_down prod_eval     prod      brand  \\\n",
       "0          0         5  Сарафан  shovSvaro   \n",
       "1          0         5  Сарафан  shovSvaro   \n",
       "2          0         4  Сарафан  shovSvaro   \n",
       "3          0         5  Сарафан  shovSvaro   \n",
       "4          0         5  Сарафан  shovSvaro   \n",
       "\n",
       "                                     cleaned_comment  \\\n",
       "0  шикарен сел идеально лёгкий струящийся стройни...   \n",
       "1  сарафан стал одним любимых удобный стройнит пр...   \n",
       "2  сшит синтетики тянется спинка занижена поэтому...   \n",
       "3  понравился просто влюблена него сшит отлично п...   \n",
       "4  понравилось село фигуру груша подойдёт рекомен...   \n",
       "\n",
       "                                       lemma_comment  \n",
       "0  шикарный садиться идеально легкий струиться ст...  \n",
       "1  становиться любимый удобный стройнит приятный ...  \n",
       "2  сшивать синтетика тянуться спинка занижать поэ...  \n",
       "3  понравиться просто влюбленный сшивать отлично ...  \n",
       "4  понравиться село фигура груша подходить рекоме...  "
      ]
     },
     "execution_count": 49,
     "metadata": {},
     "output_type": "execute_result"
    }
   ],
   "source": [
    "df.head(5)"
   ]
  },
  {
   "cell_type": "code",
   "execution_count": 50,
   "metadata": {},
   "outputs": [],
   "source": [
    "df = df.reset_index(drop = True)"
   ]
  },
  {
   "cell_type": "code",
   "execution_count": 55,
   "metadata": {},
   "outputs": [
    {
     "data": {
      "text/plain": [
       "0     шикарный садиться идеально легкий струиться ст...\n",
       "1     становиться любимый удобный стройнит приятный ...\n",
       "2     сшивать синтетика тянуться спинка занижать поэ...\n",
       "3     понравиться просто влюбленный сшивать отлично ...\n",
       "4     понравиться село фигура груша подходить рекоме...\n",
       "5     ткань приятный идти фигура шов ровный качестве...\n",
       "6        платье легкий воздушный село фигура советовать\n",
       "7     платье легкий струиться материал подбирать бюс...\n",
       "8     платье красивый нежный одевать влюбляться перв...\n",
       "9     описание указывать хлопок состав факт вискоза ...\n",
       "10    короткий редко носить понравиться фасон цвет н...\n",
       "11                      приятный ткань прекрасно сидеть\n",
       "12    крутой легкий жара ткань приятный сильно мятьс...\n",
       "13    замечательный платье ткань стрейч поэтому одев...\n",
       "14    поддерживать положительный струиться легкий ст...\n",
       "15    красивый ткань легкий струиться размер размер ...\n",
       "16    понравиться маленький оказываться маленький гр...\n",
       "17    легкий тонкий оказываться мало грудь заказыват...\n",
       "18    легкий невесомый вариант жаркое лето либо отды...\n",
       "19    красивый ткань тело приятный весь одежда брэнд...\n",
       "20    красивый размер соответствовать просьба процен...\n",
       "21    симпатичный легкий тонкий материал размер соот...\n",
       "Name: lemma_comment, dtype: object"
      ]
     },
     "execution_count": 55,
     "metadata": {},
     "output_type": "execute_result"
    }
   ],
   "source": [
    "preprocessed_comments = df['lemma_comment']\n",
    "preprocessed_comments"
   ]
  },
  {
   "cell_type": "markdown",
   "metadata": {},
   "source": [
    "# Word cloud"
   ]
  },
  {
   "cell_type": "code",
   "execution_count": 52,
   "metadata": {},
   "outputs": [
    {
     "data": {
      "image/png": "[encoded data removed]",
      "text/plain": [
       "<Figure size 576x576 with 1 Axes>"
      ]
     },
     "metadata": {
      "needs_background": "light"
     },
     "output_type": "display_data"
    }
   ],
   "source": [
    "def plot_wordcloud(preprocessed_comments, mask=None, max_words=15, max_font_size=100, figure_size=(8.0,8.0), \n",
    "                   title = None, title_size=24, image_color=False):\n",
    "    stopwords = {}\n",
    "    wordcloud = WordCloud(background_color='white',\n",
    "                    mask=None,\n",
    "                    stopwords = stopwords,\n",
    "                    max_words = max_words,\n",
    "                    max_font_size = max_font_size, \n",
    "                    random_state = 666,\n",
    "                    contour_width=1,\n",
    "                    contour_color='black',\n",
    "                    width=800, \n",
    "                    height=400,\n",
    "                    )\n",
    "    wordcloud.generate(str(preprocessed_comments))\n",
    "    fig, ax = plt.subplots(figsize=figure_size)\n",
    " #   plt.figure(figsize=figure_size)\n",
    "    if image_color:\n",
    "        image_colors = ImageColorGenerator(mask);\n",
    "        plt.imshow(wordcloud.recolor(color_func=image_colors), interpolation=\"bilinear\");\n",
    "        plt.title(title, fontdict={'size': title_size,  \n",
    "                                  'verticalalignment': 'bottom'})\n",
    "    else:\n",
    "        plt.imshow(wordcloud);\n",
    "        plt.title(title, fontdict={'size': title_size, 'color': 'black', \n",
    "                                  'verticalalignment': 'bottom'})\n",
    "    plt.axis('off');\n",
    "    plt.tight_layout()  \n",
    "    plt.savefig('/home/sv/Dev/Dev_bootcamp/plot.jpg')\n",
    "plot_wordcloud(preprocessed_comments, title=\"Word Cloud of comments\")\n"
   ]
  },
  {
   "cell_type": "code",
   "execution_count": null,
   "metadata": {},
   "outputs": [],
   "source": [
    "\n"
   ]
  },
  {
   "cell_type": "markdown",
   "metadata": {},
   "source": [
    "# tf-idf"
   ]
  },
  {
   "cell_type": "code",
   "execution_count": 60,
   "metadata": {},
   "outputs": [
    {
     "data": {
      "text/plain": [
       "TfidfVectorizer(min_df=5, ngram_range=(1, 2))"
      ]
     },
     "execution_count": 60,
     "metadata": {},
     "output_type": "execute_result"
    }
   ],
   "source": [
    "vectorizer = TfidfVectorizer(min_df=10, ngram_range=(1, 2))\n",
    "vectorizer "
   ]
  },
  {
   "cell_type": "code",
   "execution_count": 61,
   "metadata": {},
   "outputs": [],
   "source": [
    "vectorized_comments = vectorizer.fit_transform(preprocessed_comments)"
   ]
  },
  {
   "cell_type": "code",
   "execution_count": 62,
   "metadata": {},
   "outputs": [],
   "source": [
    "#  creating a dictionary mapping the tokens to their tfidf values\n",
    "tfidf = dict(zip(vectorizer.get_feature_names(), vectorizer.idf_))\n",
    "tfidf = pd.DataFrame(columns=['tfidf']).from_dict(\n",
    "                    dict(tfidf), orient='index')\n",
    "tfidf.columns = ['tfidf']"
   ]
  },
  {
   "cell_type": "code",
   "execution_count": 66,
   "metadata": {},
   "outputs": [],
   "source": [
    "#Эти слова показываем пользователю, он вводит то, по чему хочет почитать подробнее, или свое слово\n",
    "res=pd.DataFrame(tfidf.sort_values(by=['tfidf'], ascending=True).head(5))"
   ]
  },
  {
   "cell_type": "code",
   "execution_count": 81,
   "metadata": {},
   "outputs": [
    {
     "data": {
      "text/plain": [
       "'легкий, ткань, приятный, размер, фигура'"
      ]
     },
     "execution_count": 81,
     "metadata": {},
     "output_type": "execute_result"
    }
   ],
   "source": [
    "', '.join(res.index)"
   ]
  },
  {
   "cell_type": "markdown",
   "metadata": {},
   "source": [
    "# Looking for most similar comments for each word"
   ]
  },
  {
   "cell_type": "code",
   "execution_count": null,
   "metadata": {},
   "outputs": [],
   "source": []
  },
  {
   "cell_type": "code",
   "execution_count": 30,
   "metadata": {},
   "outputs": [],
   "source": [
    "nlp = spacy.load('ru_core_news_lg')"
   ]
  },
  {
   "cell_type": "code",
   "execution_count": 31,
   "metadata": {},
   "outputs": [],
   "source": [
    "def top_10_similar(word_for_checking, dataframe):\n",
    "    critical_similarity_value = 0.47\n",
    "    \n",
    "    word_for_checking = nlp(word_for_checking)\n",
    "    similarities = []\n",
    "    for i in range(len(dataframe['lemma_comment'])):\n",
    "        similarities.append(nlp(dataframe['lemma_comment'][i]).similarity(word_for_checking))\n",
    "    \n",
    "    df_temp = dataframe.copy()\n",
    "    \n",
    "    df_temp[f'similarity_to_{word_for_checking}'] = similarities\n",
    "    #сортировка по убыванию similarities, фильтрация в соответствии с critical_similarity_value\n",
    "    df_temp = df_temp.sort_values(by = f'similarity_to_{word_for_checking}', ascending = False).head(10)\n",
    "    res = df_temp[df_temp[f'similarity_to_{word_for_checking}'] > critical_similarity_value][['comment', f'similarity_to_{word_for_checking}']]\n",
    "    res = list(res['comment'])\n",
    "    \n",
    "    if len(res)>0:\n",
    "        return res\n",
    "    else: \n",
    "        return \"По вашему запросу совпадений не найдено\""
   ]
  },
  {
   "cell_type": "code",
   "execution_count": 40,
   "metadata": {},
   "outputs": [
    {
     "name": "stderr",
     "output_type": "stream",
     "text": [
      "<ipython-input-31-140f86de7d42>:7: UserWarning: [W008] Evaluating Doc.similarity based on empty vectors.\n",
      "  similarities.append(nlp(dataframe['lemma_comment'][i]).similarity(word_for_checking))\n"
     ]
    },
    {
     "data": {
      "text/plain": [
       "['Работает, на max скорости не громче, чем хороший миксер.',\n",
       " 'Суупер. По такой цене мощности хватает. Большая удобная шумит сильно только на последней скорости. Я очень довольна миксером, и магазином.',\n",
       " 'Миксер просто бомба! Пришёл в двойной упаковке, всё в наличии: инструкция, венчики, лопатка. Цвет фиолетовый хамелеон. Для стационарника достаточно тихо работает, скорости переключаются плавно, на 6 скорости начинается вибрация, но это 4000 оборотов в минуту. Взбивает и смешивает на ура.',\n",
       " 'Мнё очень понравился...Но прошло два месяца и он сломался..Переключаю первую скорость,очень быстро крутит пять секунд и встаёт...Другие скорости не включаются..Реверс так же ..Покрутит и встаёт..Очень жаль..Миксер то красивый и мощный😔😔😔Жду одобрения по браку через ЛК..Быстрее купить другой..Без миксера как без рук😥',\n",
       " 'Достаточно мощный аппарат.Качество сборки на высоте.',\n",
       " 'Это моя первая покупка на Вайлдберриз! И я очень ею довольна .  Скорость отличная  . Запаха пластика нет \\nПосмотрим в работе .']"
      ]
     },
     "execution_count": 40,
     "metadata": {},
     "output_type": "execute_result"
    }
   ],
   "source": [
    "top_10_similar('скорость', df)"
   ]
  },
  {
   "cell_type": "code",
   "execution_count": 19,
   "metadata": {},
   "outputs": [],
   "source": [
    "# пока не работает с неизвестными словами, например, \"маломерит\"\n",
    "# если пишешь плохое качество, то выдача вроде та же, что и на хорошее\n",
    "# вся работа у меня заняла 30 секунд"
   ]
  },
  {
   "cell_type": "code",
   "execution_count": null,
   "metadata": {},
   "outputs": [],
   "source": []
  },
  {
   "cell_type": "code",
   "execution_count": null,
   "metadata": {},
   "outputs": [],
   "source": []
  },
  {
   "cell_type": "code",
   "execution_count": null,
   "metadata": {},
   "outputs": [],
   "source": []
  }
 ],
 "metadata": {
  "kernelspec": {
   "display_name": "Python 3",
   "language": "python",
   "name": "python3"
  },
  "language_info": {
   "codemirror_mode": {
    "name": "ipython",
    "version": 3
   },
   "file_extension": ".py",
   "mimetype": "text/x-python",
   "name": "python",
   "nbconvert_exporter": "python",
   "pygments_lexer": "ipython3",
   "version": "3.8.5"
  }
 },
 "nbformat": 4,
 "nbformat_minor": 5
}
