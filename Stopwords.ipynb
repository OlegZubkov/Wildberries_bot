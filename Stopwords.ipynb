{
 "cells": [
  {
   "cell_type": "code",
   "execution_count": 1,
   "id": "lovely-stylus",
   "metadata": {},
   "outputs": [],
   "source": [
    "import pandas as pd\n",
    "import os\n",
    "import matplotlib.pyplot as plt\n",
    "import numpy as np\n",
    "import re\n",
    "\n",
    "import spacy\n",
    "from pymystem3 import Mystem\n",
    "from nltk.corpus import stopwords\n",
    "from wordcloud import WordCloud\n",
    "from sklearn.feature_extraction.text import TfidfVectorizer\n",
    "\n",
    "import string\n",
    "import time"
   ]
  },
  {
   "cell_type": "code",
   "execution_count": 2,
   "id": "ongoing-sellers",
   "metadata": {},
   "outputs": [
    {
     "data": {
      "text/html": [
       "<div>\n",
       "<style scoped>\n",
       "    .dataframe tbody tr th:only-of-type {\n",
       "        vertical-align: middle;\n",
       "    }\n",
       "\n",
       "    .dataframe tbody tr th {\n",
       "        vertical-align: top;\n",
       "    }\n",
       "\n",
       "    .dataframe thead th {\n",
       "        text-align: right;\n",
       "    }\n",
       "</style>\n",
       "<table border=\"1\" class=\"dataframe\">\n",
       "  <thead>\n",
       "    <tr style=\"text-align: right;\">\n",
       "      <th></th>\n",
       "      <th>file_name</th>\n",
       "    </tr>\n",
       "  </thead>\n",
       "  <tbody>\n",
       "    <tr>\n",
       "      <th>0</th>\n",
       "      <td>14773455.jl</td>\n",
       "    </tr>\n",
       "    <tr>\n",
       "      <th>1</th>\n",
       "      <td>file_7321705_455951711_124.jl</td>\n",
       "    </tr>\n",
       "    <tr>\n",
       "      <th>2</th>\n",
       "      <td>file_11834040_455951711_112.jl</td>\n",
       "    </tr>\n",
       "    <tr>\n",
       "      <th>3</th>\n",
       "      <td>w2.jl</td>\n",
       "    </tr>\n",
       "    <tr>\n",
       "      <th>4</th>\n",
       "      <td>file_10094987_455951711_145.jl</td>\n",
       "    </tr>\n",
       "    <tr>\n",
       "      <th>5</th>\n",
       "      <td>w3.jl</td>\n",
       "    </tr>\n",
       "    <tr>\n",
       "      <th>6</th>\n",
       "      <td>17597852.jl</td>\n",
       "    </tr>\n",
       "    <tr>\n",
       "      <th>7</th>\n",
       "      <td>5044562.jl</td>\n",
       "    </tr>\n",
       "    <tr>\n",
       "      <th>8</th>\n",
       "      <td>file_6170053_455951711_115.jl</td>\n",
       "    </tr>\n",
       "    <tr>\n",
       "      <th>9</th>\n",
       "      <td>file_9434638_455951711_142.jl</td>\n",
       "    </tr>\n",
       "    <tr>\n",
       "      <th>10</th>\n",
       "      <td>file_15855376_455951711_149.jl</td>\n",
       "    </tr>\n",
       "    <tr>\n",
       "      <th>11</th>\n",
       "      <td>file_7601411_455951711_121.jl</td>\n",
       "    </tr>\n",
       "    <tr>\n",
       "      <th>12</th>\n",
       "      <td>file_9092550_455951711_130.jl</td>\n",
       "    </tr>\n",
       "    <tr>\n",
       "      <th>13</th>\n",
       "      <td>13228115.jl</td>\n",
       "    </tr>\n",
       "    <tr>\n",
       "      <th>14</th>\n",
       "      <td>file_17214598_455951711_282.jl</td>\n",
       "    </tr>\n",
       "    <tr>\n",
       "      <th>15</th>\n",
       "      <td>file_8042925_455951711_127.jl</td>\n",
       "    </tr>\n",
       "    <tr>\n",
       "      <th>16</th>\n",
       "      <td>13227933.jl</td>\n",
       "    </tr>\n",
       "    <tr>\n",
       "      <th>17</th>\n",
       "      <td>file_9315375_455951711_148.jl</td>\n",
       "    </tr>\n",
       "    <tr>\n",
       "      <th>18</th>\n",
       "      <td>file_10671795_455951711_558.jl</td>\n",
       "    </tr>\n",
       "    <tr>\n",
       "      <th>19</th>\n",
       "      <td>file_3101555_455951711_136.jl</td>\n",
       "    </tr>\n",
       "    <tr>\n",
       "      <th>20</th>\n",
       "      <td>file_5007568_946967395_231.jl</td>\n",
       "    </tr>\n",
       "    <tr>\n",
       "      <th>21</th>\n",
       "      <td>14773503.jl</td>\n",
       "    </tr>\n",
       "    <tr>\n",
       "      <th>22</th>\n",
       "      <td>file_10671795_455951711_567.jl</td>\n",
       "    </tr>\n",
       "    <tr>\n",
       "      <th>23</th>\n",
       "      <td>17597851.jl</td>\n",
       "    </tr>\n",
       "    <tr>\n",
       "      <th>24</th>\n",
       "      <td>file_9260920_946967395_237.jl</td>\n",
       "    </tr>\n",
       "    <tr>\n",
       "      <th>25</th>\n",
       "      <td>file_20991166_455951711_118.jl</td>\n",
       "    </tr>\n",
       "    <tr>\n",
       "      <th>26</th>\n",
       "      <td>w1.jl</td>\n",
       "    </tr>\n",
       "    <tr>\n",
       "      <th>27</th>\n",
       "      <td>file_2147717_455951711_133.jl</td>\n",
       "    </tr>\n",
       "    <tr>\n",
       "      <th>28</th>\n",
       "      <td>file_17214598_455951711_299.jl</td>\n",
       "    </tr>\n",
       "    <tr>\n",
       "      <th>29</th>\n",
       "      <td>file_7569265_455951711_139.jl</td>\n",
       "    </tr>\n",
       "    <tr>\n",
       "      <th>30</th>\n",
       "      <td>w5.jl</td>\n",
       "    </tr>\n",
       "  </tbody>\n",
       "</table>\n",
       "</div>"
      ],
      "text/plain": [
       "                         file_name\n",
       "0                      14773455.jl\n",
       "1    file_7321705_455951711_124.jl\n",
       "2   file_11834040_455951711_112.jl\n",
       "3                            w2.jl\n",
       "4   file_10094987_455951711_145.jl\n",
       "5                            w3.jl\n",
       "6                      17597852.jl\n",
       "7                       5044562.jl\n",
       "8    file_6170053_455951711_115.jl\n",
       "9    file_9434638_455951711_142.jl\n",
       "10  file_15855376_455951711_149.jl\n",
       "11   file_7601411_455951711_121.jl\n",
       "12   file_9092550_455951711_130.jl\n",
       "13                     13228115.jl\n",
       "14  file_17214598_455951711_282.jl\n",
       "15   file_8042925_455951711_127.jl\n",
       "16                     13227933.jl\n",
       "17   file_9315375_455951711_148.jl\n",
       "18  file_10671795_455951711_558.jl\n",
       "19   file_3101555_455951711_136.jl\n",
       "20   file_5007568_946967395_231.jl\n",
       "21                     14773503.jl\n",
       "22  file_10671795_455951711_567.jl\n",
       "23                     17597851.jl\n",
       "24   file_9260920_946967395_237.jl\n",
       "25  file_20991166_455951711_118.jl\n",
       "26                           w1.jl\n",
       "27   file_2147717_455951711_133.jl\n",
       "28  file_17214598_455951711_299.jl\n",
       "29   file_7569265_455951711_139.jl\n",
       "30                           w5.jl"
      ]
     },
     "execution_count": 2,
     "metadata": {},
     "output_type": "execute_result"
    }
   ],
   "source": [
    "arr = os.listdir('./input/')\n",
    "arr_df = pd.DataFrame(arr, columns = ['file_name'])\n",
    "arr_df"
   ]
  },
  {
   "cell_type": "code",
   "execution_count": 105,
   "id": "common-european",
   "metadata": {},
   "outputs": [],
   "source": [
    "file_index = 11\n",
    "path = f'./input/{arr_df[\"file_name\"][file_index]}'"
   ]
  },
  {
   "cell_type": "code",
   "execution_count": 106,
   "id": "consistent-infrastructure",
   "metadata": {},
   "outputs": [
    {
     "data": {
      "text/html": [
       "<div>\n",
       "<style scoped>\n",
       "    .dataframe tbody tr th:only-of-type {\n",
       "        vertical-align: middle;\n",
       "    }\n",
       "\n",
       "    .dataframe tbody tr th {\n",
       "        vertical-align: top;\n",
       "    }\n",
       "\n",
       "    .dataframe thead th {\n",
       "        text-align: right;\n",
       "    }\n",
       "</style>\n",
       "<table border=\"1\" class=\"dataframe\">\n",
       "  <thead>\n",
       "    <tr style=\"text-align: right;\">\n",
       "      <th></th>\n",
       "      <th>comment</th>\n",
       "      <th>date_time</th>\n",
       "      <th>color</th>\n",
       "      <th>size</th>\n",
       "      <th>thumb_up</th>\n",
       "      <th>thumb_down</th>\n",
       "      <th>prod_eval</th>\n",
       "      <th>prod</th>\n",
       "      <th>brand</th>\n",
       "    </tr>\n",
       "  </thead>\n",
       "  <tbody>\n",
       "    <tr>\n",
       "      <th>0</th>\n",
       "      <td>Наушники суперские, качество звука суперское, ...</td>\n",
       "      <td>2021-05-04T14:37:48Z</td>\n",
       "      <td>белый</td>\n",
       "      <td>0</td>\n",
       "      <td>1</td>\n",
       "      <td>0</td>\n",
       "      <td>5</td>\n",
       "      <td>Наушники Airpods (2-го поколения) с зарядным ф...</td>\n",
       "      <td>Apple</td>\n",
       "    </tr>\n",
       "    <tr>\n",
       "      <th>1</th>\n",
       "      <td>Через год перестал работать правый микрофон и ...</td>\n",
       "      <td>2021-05-04T05:57:33Z</td>\n",
       "      <td>белый</td>\n",
       "      <td>0</td>\n",
       "      <td>1</td>\n",
       "      <td>0</td>\n",
       "      <td>2</td>\n",
       "      <td>Наушники Airpods (2-го поколения) с зарядным ф...</td>\n",
       "      <td>Apple</td>\n",
       "    </tr>\n",
       "    <tr>\n",
       "      <th>2</th>\n",
       "      <td>Одним словом: качество! Оригинальные</td>\n",
       "      <td>2021-05-03T10:39:27Z</td>\n",
       "      <td>белый</td>\n",
       "      <td>0</td>\n",
       "      <td>1</td>\n",
       "      <td>0</td>\n",
       "      <td>5</td>\n",
       "      <td>Наушники Airpods (2-го поколения) с зарядным ф...</td>\n",
       "      <td>Apple</td>\n",
       "    </tr>\n",
       "    <tr>\n",
       "      <th>3</th>\n",
       "      <td>пишу отзыв спустя 9 месяцев. Наушники работают...</td>\n",
       "      <td>2021-05-03T03:54:20Z</td>\n",
       "      <td>белый</td>\n",
       "      <td>0</td>\n",
       "      <td>1</td>\n",
       "      <td>0</td>\n",
       "      <td>5</td>\n",
       "      <td>Наушники Airpods (2-го поколения) с зарядным ф...</td>\n",
       "      <td>Apple</td>\n",
       "    </tr>\n",
       "    <tr>\n",
       "      <th>4</th>\n",
       "      <td>Отлично, купила вторые для дочери.</td>\n",
       "      <td>2021-05-02T18:38:42Z</td>\n",
       "      <td>белый</td>\n",
       "      <td>0</td>\n",
       "      <td>2</td>\n",
       "      <td>0</td>\n",
       "      <td>5</td>\n",
       "      <td>Наушники Airpods (2-го поколения) с зарядным ф...</td>\n",
       "      <td>Apple</td>\n",
       "    </tr>\n",
       "  </tbody>\n",
       "</table>\n",
       "</div>"
      ],
      "text/plain": [
       "                                             comment             date_time  \\\n",
       "0  Наушники суперские, качество звука суперское, ...  2021-05-04T14:37:48Z   \n",
       "1  Через год перестал работать правый микрофон и ...  2021-05-04T05:57:33Z   \n",
       "2               Одним словом: качество! Оригинальные  2021-05-03T10:39:27Z   \n",
       "3  пишу отзыв спустя 9 месяцев. Наушники работают...  2021-05-03T03:54:20Z   \n",
       "4                 Отлично, купила вторые для дочери.  2021-05-02T18:38:42Z   \n",
       "\n",
       "   color size thumb_up thumb_down prod_eval  \\\n",
       "0  белый    0        1          0         5   \n",
       "1  белый    0        1          0         2   \n",
       "2  белый    0        1          0         5   \n",
       "3  белый    0        1          0         5   \n",
       "4  белый    0        2          0         5   \n",
       "\n",
       "                                                prod  brand  \n",
       "0  Наушники Airpods (2-го поколения) с зарядным ф...  Apple  \n",
       "1  Наушники Airpods (2-го поколения) с зарядным ф...  Apple  \n",
       "2  Наушники Airpods (2-го поколения) с зарядным ф...  Apple  \n",
       "3  Наушники Airpods (2-го поколения) с зарядным ф...  Apple  \n",
       "4  Наушники Airpods (2-го поколения) с зарядным ф...  Apple  "
      ]
     },
     "execution_count": 106,
     "metadata": {},
     "output_type": "execute_result"
    }
   ],
   "source": [
    "columns = ['comment', 'date_time', 'color','size', 'thumb_up', 'thumb_down', 'prod_eval', 'prod', 'brand']\n",
    "\n",
    "df = pd.read_json(path).transpose().reset_index().drop('index', axis=1)\n",
    "df = df.set_axis(columns, axis = 'columns')\n",
    "\n",
    "df.head(5)"
   ]
  },
  {
   "cell_type": "markdown",
   "id": "marine-retro",
   "metadata": {},
   "source": [
    "# Функции: Clean_text, Stopwords_del"
   ]
  },
  {
   "cell_type": "code",
   "execution_count": 107,
   "id": "exciting-scale",
   "metadata": {},
   "outputs": [],
   "source": [
    "def delete_non_letters(words):\n",
    "    new_words = []\n",
    "    words = words.split()\n",
    "    \n",
    "    for word in words:\n",
    "        new_word = \"\".join(c if c.isalpha() else \" \" for c in word )\n",
    "        \n",
    "        if new_word != '':\n",
    "            new_words.append(new_word)\n",
    "    text = ' '.join(c for c in new_words)\n",
    "        \n",
    "    return text"
   ]
  },
  {
   "cell_type": "code",
   "execution_count": 108,
   "id": "functioning-glucose",
   "metadata": {},
   "outputs": [],
   "source": [
    "### Text Normalizing function. Part of the following function was taken from this link. \n",
    "def clean_text(text):\n",
    "    \n",
    "    emoji_pattern = re.compile(\"[\"\n",
    "        u\"\\U0001F600-\\U0001F64F\"  # emoticons\n",
    "        u\"\\U0001F300-\\U0001F5FF\"  # symbols & pictographs\n",
    "        u\"\\U0001F680-\\U0001F6FF\"  # transport & map symbols\n",
    "        u\"\\U0001F1E0-\\U0001F1FF\"  # flags (iOS)\n",
    "        u\"\\U0001F1F2-\\U0001F1F4\"  # Macau flag\n",
    "        u\"\\U0001F1E6-\\U0001F1FF\"  # flags\n",
    "        u\"\\U0001F600-\\U0001F64F\"\n",
    "        u\"\\U00002702-\\U000027B0\"\n",
    "        u\"\\U000024C2-\\U0001F251\"\n",
    "        u\"\\U0001f926-\\U0001f937\"\n",
    "        u\"\\U0001F1F2\"\n",
    "        u\"\\U0001F1F4\"\n",
    "        u\"\\U0001F620\"\n",
    "        u\"\\u200d\"\n",
    "        u\"\\u2640-\\u2642\"\n",
    "        \"]+\", flags=re.UNICODE)\n",
    "\n",
    "    #удаляет пунктуацию\n",
    "    #translation_table = str.maketrans(\"\", \"\", string.punctuation)\n",
    "    #text = text.translate(translation_table)   \n",
    "    \n",
    "    text = text.lower()\n",
    "    ## Clean the text\n",
    "    text = re.sub(r\"[,_»«\\*!.\\/'+-=)(]\", \" \", text)\n",
    "    text = re.sub(r\"\\'s\", \" \", text)\n",
    "    text = re.sub(r\",\", \" \", text)\n",
    "    text = re.sub(r\"\\.\", \" \", text)\n",
    "    text = re.sub(r\"!\", \" ! \", text)\n",
    "    text = re.sub(r\"\\/\", \" \", text)\n",
    "    text = re.sub(r\"\\^\", \" ^ \", text)\n",
    "    text = re.sub(r\"\\+\", \" + \", text)\n",
    "    text = re.sub(r\"\\%\", \" \", text)\n",
    "    text = re.sub(r\"\\-\", \" - \", text)\n",
    "    text = re.sub(r\"\\=\", \" = \", text)\n",
    "    text = re.sub(r\"\\|\", \" \", text)\n",
    "    text = re.sub(r\"'\", \" \", text)\n",
    "    text = re.sub(r'\"', \" \", text)\n",
    "    text = re.sub(r'«', \" \", text)\n",
    "    text = re.sub(r'\\*', \" \", text)\n",
    "    text = re.sub(r'\\?', \" \", text)\n",
    "    text = re.sub(r'»', \" \", text)\n",
    "    text = re.sub(r\"(\\d+)(k)\", r\"\\g<1>000\", text)\n",
    "    text = re.sub(r\":\", \" : \", text)\n",
    "    text = re.sub(r\"\\s{2,}\", \" \", text)\n",
    "    text = emoji_pattern.sub(r'', text)\n",
    "    #text = \" \".join(text.split())\n",
    "    \n",
    "    text = delete_non_letters(text)\n",
    "    \n",
    "    return text\n"
   ]
  },
  {
   "cell_type": "code",
   "execution_count": 109,
   "id": "endless-eating",
   "metadata": {},
   "outputs": [],
   "source": [
    "def delete_stopwords(text): \n",
    "    text = text.split()\n",
    "    text = [w for w in text if not w in russian_stopwords and len(w) >= 3]\n",
    "    text = \" \".join(text)\n",
    "    \n",
    "    return text"
   ]
  },
  {
   "cell_type": "code",
   "execution_count": 110,
   "id": "appropriate-poster",
   "metadata": {},
   "outputs": [
    {
     "data": {
      "text/html": [
       "<div>\n",
       "<style scoped>\n",
       "    .dataframe tbody tr th:only-of-type {\n",
       "        vertical-align: middle;\n",
       "    }\n",
       "\n",
       "    .dataframe tbody tr th {\n",
       "        vertical-align: top;\n",
       "    }\n",
       "\n",
       "    .dataframe thead th {\n",
       "        text-align: right;\n",
       "    }\n",
       "</style>\n",
       "<table border=\"1\" class=\"dataframe\">\n",
       "  <thead>\n",
       "    <tr style=\"text-align: right;\">\n",
       "      <th></th>\n",
       "      <th>comment</th>\n",
       "      <th>date_time</th>\n",
       "      <th>color</th>\n",
       "      <th>size</th>\n",
       "      <th>thumb_up</th>\n",
       "      <th>thumb_down</th>\n",
       "      <th>prod_eval</th>\n",
       "      <th>prod</th>\n",
       "      <th>brand</th>\n",
       "    </tr>\n",
       "  </thead>\n",
       "  <tbody>\n",
       "    <tr>\n",
       "      <th>0</th>\n",
       "      <td>Наушники суперские, качество звука суперское, ...</td>\n",
       "      <td>2021-05-04T14:37:48Z</td>\n",
       "      <td>белый</td>\n",
       "      <td>0</td>\n",
       "      <td>1</td>\n",
       "      <td>0</td>\n",
       "      <td>5</td>\n",
       "      <td>Наушники Airpods (2-го поколения) с зарядным ф...</td>\n",
       "      <td>Apple</td>\n",
       "    </tr>\n",
       "    <tr>\n",
       "      <th>1</th>\n",
       "      <td>Через год перестал работать правый микрофон и ...</td>\n",
       "      <td>2021-05-04T05:57:33Z</td>\n",
       "      <td>белый</td>\n",
       "      <td>0</td>\n",
       "      <td>1</td>\n",
       "      <td>0</td>\n",
       "      <td>2</td>\n",
       "      <td>Наушники Airpods (2-го поколения) с зарядным ф...</td>\n",
       "      <td>Apple</td>\n",
       "    </tr>\n",
       "    <tr>\n",
       "      <th>2</th>\n",
       "      <td>Одним словом: качество! Оригинальные</td>\n",
       "      <td>2021-05-03T10:39:27Z</td>\n",
       "      <td>белый</td>\n",
       "      <td>0</td>\n",
       "      <td>1</td>\n",
       "      <td>0</td>\n",
       "      <td>5</td>\n",
       "      <td>Наушники Airpods (2-го поколения) с зарядным ф...</td>\n",
       "      <td>Apple</td>\n",
       "    </tr>\n",
       "    <tr>\n",
       "      <th>3</th>\n",
       "      <td>пишу отзыв спустя 9 месяцев. Наушники работают...</td>\n",
       "      <td>2021-05-03T03:54:20Z</td>\n",
       "      <td>белый</td>\n",
       "      <td>0</td>\n",
       "      <td>1</td>\n",
       "      <td>0</td>\n",
       "      <td>5</td>\n",
       "      <td>Наушники Airpods (2-го поколения) с зарядным ф...</td>\n",
       "      <td>Apple</td>\n",
       "    </tr>\n",
       "    <tr>\n",
       "      <th>4</th>\n",
       "      <td>Отлично, купила вторые для дочери.</td>\n",
       "      <td>2021-05-02T18:38:42Z</td>\n",
       "      <td>белый</td>\n",
       "      <td>0</td>\n",
       "      <td>2</td>\n",
       "      <td>0</td>\n",
       "      <td>5</td>\n",
       "      <td>Наушники Airpods (2-го поколения) с зарядным ф...</td>\n",
       "      <td>Apple</td>\n",
       "    </tr>\n",
       "  </tbody>\n",
       "</table>\n",
       "</div>"
      ],
      "text/plain": [
       "                                             comment             date_time  \\\n",
       "0  Наушники суперские, качество звука суперское, ...  2021-05-04T14:37:48Z   \n",
       "1  Через год перестал работать правый микрофон и ...  2021-05-04T05:57:33Z   \n",
       "2               Одним словом: качество! Оригинальные  2021-05-03T10:39:27Z   \n",
       "3  пишу отзыв спустя 9 месяцев. Наушники работают...  2021-05-03T03:54:20Z   \n",
       "4                 Отлично, купила вторые для дочери.  2021-05-02T18:38:42Z   \n",
       "\n",
       "   color size thumb_up thumb_down prod_eval  \\\n",
       "0  белый    0        1          0         5   \n",
       "1  белый    0        1          0         2   \n",
       "2  белый    0        1          0         5   \n",
       "3  белый    0        1          0         5   \n",
       "4  белый    0        2          0         5   \n",
       "\n",
       "                                                prod  brand  \n",
       "0  Наушники Airpods (2-го поколения) с зарядным ф...  Apple  \n",
       "1  Наушники Airpods (2-го поколения) с зарядным ф...  Apple  \n",
       "2  Наушники Airpods (2-го поколения) с зарядным ф...  Apple  \n",
       "3  Наушники Airpods (2-го поколения) с зарядным ф...  Apple  \n",
       "4  Наушники Airpods (2-го поколения) с зарядным ф...  Apple  "
      ]
     },
     "execution_count": 110,
     "metadata": {},
     "output_type": "execute_result"
    }
   ],
   "source": [
    "df.head()"
   ]
  },
  {
   "cell_type": "markdown",
   "id": "excess-greene",
   "metadata": {},
   "source": [
    "# Stopwords extension"
   ]
  },
  {
   "cell_type": "code",
   "execution_count": 111,
   "id": "bright-rebate",
   "metadata": {},
   "outputs": [],
   "source": [
    "file_name = 'StopWords_extension.csv'\n",
    "path = f'./{file_name}'\n",
    "SW = pd.read_csv(path, index_col = 'Index')\n",
    "SW_list = SW['Word'].tolist()"
   ]
  },
  {
   "cell_type": "code",
   "execution_count": 112,
   "id": "specific-target",
   "metadata": {},
   "outputs": [],
   "source": [
    "prod_text = clean_text(df['prod'][0])\n",
    "brand_text = clean_text(df['brand'][0])"
   ]
  },
  {
   "cell_type": "code",
   "execution_count": 113,
   "id": "green-patio",
   "metadata": {},
   "outputs": [
    {
     "data": {
      "text/plain": [
       "['apple',\n",
       " 'наушники',\n",
       " 'airpods',\n",
       " 'го',\n",
       " 'поколения',\n",
       " 'с',\n",
       " 'зарядным',\n",
       " 'футляром']"
      ]
     },
     "execution_count": 113,
     "metadata": {},
     "output_type": "execute_result"
    }
   ],
   "source": [
    "stopwords_add_by_hand = ['брать','понравиться','качество','удобный','покупка', 'купить', 'цена','пломба','классный','доставка','очень','довольный', 'быстрый','быстро', 'хороший','отлично','все','прийти', 'класс','отличный', 'свой', 'отзыв', 'приходить', 'супер','это', 'спасибо', 'работа']\n",
    "stopwords_add_by_category = [i for i in brand_text.split()]+[i for i in prod_text.split()]\n",
    "stopwords_add_by_category"
   ]
  },
  {
   "cell_type": "code",
   "execution_count": 114,
   "id": "criminal-selection",
   "metadata": {},
   "outputs": [],
   "source": [
    "russian_stopwords = stopwords.words(\"russian\")\n",
    "russian_stopwords.extend(stopwords_add_by_hand+stopwords_add_by_category+SW_list)"
   ]
  },
  {
   "cell_type": "markdown",
   "id": "sunrise-welsh",
   "metadata": {},
   "source": [
    "# Clean comments before lemmatization"
   ]
  },
  {
   "cell_type": "code",
   "execution_count": 115,
   "id": "super-writing",
   "metadata": {},
   "outputs": [
    {
     "name": "stdout",
     "output_type": "stream",
     "text": [
      "CPU times: user 5 µs, sys: 1e+03 ns, total: 6 µs\n",
      "Wall time: 47.2 µs\n"
     ]
    }
   ],
   "source": [
    "%time\n",
    "df['cleaned_comment'] = df['comment'].map(lambda x: clean_text(x))"
   ]
  },
  {
   "cell_type": "code",
   "execution_count": 116,
   "id": "cloudy-comparison",
   "metadata": {},
   "outputs": [],
   "source": [
    "#df['lemma_comment'] = df['cleaned_comment'].map(lambda x: delete_stopwords(x))"
   ]
  },
  {
   "cell_type": "code",
   "execution_count": 117,
   "id": "discrete-hierarchy",
   "metadata": {},
   "outputs": [
    {
     "data": {
      "text/html": [
       "<div>\n",
       "<style scoped>\n",
       "    .dataframe tbody tr th:only-of-type {\n",
       "        vertical-align: middle;\n",
       "    }\n",
       "\n",
       "    .dataframe tbody tr th {\n",
       "        vertical-align: top;\n",
       "    }\n",
       "\n",
       "    .dataframe thead th {\n",
       "        text-align: right;\n",
       "    }\n",
       "</style>\n",
       "<table border=\"1\" class=\"dataframe\">\n",
       "  <thead>\n",
       "    <tr style=\"text-align: right;\">\n",
       "      <th></th>\n",
       "      <th>comment</th>\n",
       "      <th>date_time</th>\n",
       "      <th>color</th>\n",
       "      <th>size</th>\n",
       "      <th>thumb_up</th>\n",
       "      <th>thumb_down</th>\n",
       "      <th>prod_eval</th>\n",
       "      <th>prod</th>\n",
       "      <th>brand</th>\n",
       "      <th>cleaned_comment</th>\n",
       "    </tr>\n",
       "  </thead>\n",
       "  <tbody>\n",
       "    <tr>\n",
       "      <th>0</th>\n",
       "      <td>Наушники суперские, качество звука суперское, ...</td>\n",
       "      <td>2021-05-04T14:37:48Z</td>\n",
       "      <td>белый</td>\n",
       "      <td>0</td>\n",
       "      <td>1</td>\n",
       "      <td>0</td>\n",
       "      <td>5</td>\n",
       "      <td>Наушники Airpods (2-го поколения) с зарядным ф...</td>\n",
       "      <td>Apple</td>\n",
       "      <td>наушники суперские качество звука суперское ба...</td>\n",
       "    </tr>\n",
       "    <tr>\n",
       "      <th>1</th>\n",
       "      <td>Через год перестал работать правый микрофон и ...</td>\n",
       "      <td>2021-05-04T05:57:33Z</td>\n",
       "      <td>белый</td>\n",
       "      <td>0</td>\n",
       "      <td>1</td>\n",
       "      <td>0</td>\n",
       "      <td>2</td>\n",
       "      <td>Наушники Airpods (2-го поколения) с зарядным ф...</td>\n",
       "      <td>Apple</td>\n",
       "      <td>через год перестал работать правый микрофон и ...</td>\n",
       "    </tr>\n",
       "    <tr>\n",
       "      <th>2</th>\n",
       "      <td>Одним словом: качество! Оригинальные</td>\n",
       "      <td>2021-05-03T10:39:27Z</td>\n",
       "      <td>белый</td>\n",
       "      <td>0</td>\n",
       "      <td>1</td>\n",
       "      <td>0</td>\n",
       "      <td>5</td>\n",
       "      <td>Наушники Airpods (2-го поколения) с зарядным ф...</td>\n",
       "      <td>Apple</td>\n",
       "      <td>одним словом качество оригинальные</td>\n",
       "    </tr>\n",
       "    <tr>\n",
       "      <th>3</th>\n",
       "      <td>пишу отзыв спустя 9 месяцев. Наушники работают...</td>\n",
       "      <td>2021-05-03T03:54:20Z</td>\n",
       "      <td>белый</td>\n",
       "      <td>0</td>\n",
       "      <td>1</td>\n",
       "      <td>0</td>\n",
       "      <td>5</td>\n",
       "      <td>Наушники Airpods (2-го поколения) с зарядным ф...</td>\n",
       "      <td>Apple</td>\n",
       "      <td>пишу отзыв спустя месяцев наушники работают от...</td>\n",
       "    </tr>\n",
       "    <tr>\n",
       "      <th>4</th>\n",
       "      <td>Отлично, купила вторые для дочери.</td>\n",
       "      <td>2021-05-02T18:38:42Z</td>\n",
       "      <td>белый</td>\n",
       "      <td>0</td>\n",
       "      <td>2</td>\n",
       "      <td>0</td>\n",
       "      <td>5</td>\n",
       "      <td>Наушники Airpods (2-го поколения) с зарядным ф...</td>\n",
       "      <td>Apple</td>\n",
       "      <td>отлично купила вторые для дочери</td>\n",
       "    </tr>\n",
       "  </tbody>\n",
       "</table>\n",
       "</div>"
      ],
      "text/plain": [
       "                                             comment             date_time  \\\n",
       "0  Наушники суперские, качество звука суперское, ...  2021-05-04T14:37:48Z   \n",
       "1  Через год перестал работать правый микрофон и ...  2021-05-04T05:57:33Z   \n",
       "2               Одним словом: качество! Оригинальные  2021-05-03T10:39:27Z   \n",
       "3  пишу отзыв спустя 9 месяцев. Наушники работают...  2021-05-03T03:54:20Z   \n",
       "4                 Отлично, купила вторые для дочери.  2021-05-02T18:38:42Z   \n",
       "\n",
       "   color size thumb_up thumb_down prod_eval  \\\n",
       "0  белый    0        1          0         5   \n",
       "1  белый    0        1          0         2   \n",
       "2  белый    0        1          0         5   \n",
       "3  белый    0        1          0         5   \n",
       "4  белый    0        2          0         5   \n",
       "\n",
       "                                                prod  brand  \\\n",
       "0  Наушники Airpods (2-го поколения) с зарядным ф...  Apple   \n",
       "1  Наушники Airpods (2-го поколения) с зарядным ф...  Apple   \n",
       "2  Наушники Airpods (2-го поколения) с зарядным ф...  Apple   \n",
       "3  Наушники Airpods (2-го поколения) с зарядным ф...  Apple   \n",
       "4  Наушники Airpods (2-го поколения) с зарядным ф...  Apple   \n",
       "\n",
       "                                     cleaned_comment  \n",
       "0  наушники суперские качество звука суперское ба...  \n",
       "1  через год перестал работать правый микрофон и ...  \n",
       "2                 одним словом качество оригинальные  \n",
       "3  пишу отзыв спустя месяцев наушники работают от...  \n",
       "4                   отлично купила вторые для дочери  "
      ]
     },
     "execution_count": 117,
     "metadata": {},
     "output_type": "execute_result"
    }
   ],
   "source": [
    "df.head(5)"
   ]
  },
  {
   "cell_type": "markdown",
   "id": "mighty-wonder",
   "metadata": {},
   "source": [
    "# Mystem lemmatization and drop empty comments"
   ]
  },
  {
   "cell_type": "code",
   "execution_count": 118,
   "id": "injured-programming",
   "metadata": {},
   "outputs": [
    {
     "data": {
      "text/plain": [
       "(1534, 10)"
      ]
     },
     "execution_count": 118,
     "metadata": {},
     "output_type": "execute_result"
    }
   ],
   "source": [
    "df.shape"
   ]
  },
  {
   "cell_type": "code",
   "execution_count": 119,
   "id": "backed-tracy",
   "metadata": {},
   "outputs": [],
   "source": [
    "df = df.drop(df[df['cleaned_comment']==''].index).reset_index(drop = True)"
   ]
  },
  {
   "cell_type": "code",
   "execution_count": 120,
   "id": "stunning-scholar",
   "metadata": {},
   "outputs": [],
   "source": [
    "def lemmatize(text): \n",
    "    text =  [i for i in text]\n",
    "    m = Mystem()\n",
    "    merged_text = \"|\".join(text)\n",
    "\n",
    "    doc = []\n",
    "    res = []\n",
    "    count = 0\n",
    "    lemma = m.lemmatize(merged_text)\n",
    "    for t in lemma:\n",
    "        \n",
    "        if '|' not in t and count+1<len(lemma):\n",
    "            doc.append(t)\n",
    "            count+=1\n",
    "          \n",
    "        else:\n",
    "            doc = ''.join(i for i in doc)\n",
    "            res.append(doc)\n",
    "            count+=1\n",
    "            doc = []\n",
    "    return res"
   ]
  },
  {
   "cell_type": "code",
   "execution_count": 121,
   "id": "mathematical-snapshot",
   "metadata": {},
   "outputs": [
    {
     "name": "stdout",
     "output_type": "stream",
     "text": [
      "CPU times: user 5 µs, sys: 1 µs, total: 6 µs\n",
      "Wall time: 11.2 µs\n"
     ]
    }
   ],
   "source": [
    "%time\n",
    "res = lemmatize(df['cleaned_comment'])"
   ]
  },
  {
   "cell_type": "code",
   "execution_count": 122,
   "id": "continent-wrist",
   "metadata": {},
   "outputs": [],
   "source": [
    "df['lemma_comment'] = res"
   ]
  },
  {
   "cell_type": "markdown",
   "id": "metropolitan-canadian",
   "metadata": {},
   "source": [
    "# Delete StopWords"
   ]
  },
  {
   "cell_type": "code",
   "execution_count": 123,
   "id": "amazing-member",
   "metadata": {},
   "outputs": [
    {
     "name": "stdout",
     "output_type": "stream",
     "text": [
      "CPU times: user 3 µs, sys: 1 µs, total: 4 µs\n",
      "Wall time: 8.82 µs\n"
     ]
    }
   ],
   "source": [
    "%time\n",
    "df['lemma_comment'] = df['lemma_comment'].map(lambda x: delete_stopwords(x))\n",
    "df = df.drop(df[df['lemma_comment']==''].index)"
   ]
  },
  {
   "cell_type": "code",
   "execution_count": 124,
   "id": "neutral-convergence",
   "metadata": {},
   "outputs": [
    {
     "data": {
      "text/html": [
       "<div>\n",
       "<style scoped>\n",
       "    .dataframe tbody tr th:only-of-type {\n",
       "        vertical-align: middle;\n",
       "    }\n",
       "\n",
       "    .dataframe tbody tr th {\n",
       "        vertical-align: top;\n",
       "    }\n",
       "\n",
       "    .dataframe thead th {\n",
       "        text-align: right;\n",
       "    }\n",
       "</style>\n",
       "<table border=\"1\" class=\"dataframe\">\n",
       "  <thead>\n",
       "    <tr style=\"text-align: right;\">\n",
       "      <th></th>\n",
       "      <th>comment</th>\n",
       "      <th>date_time</th>\n",
       "      <th>color</th>\n",
       "      <th>size</th>\n",
       "      <th>thumb_up</th>\n",
       "      <th>thumb_down</th>\n",
       "      <th>prod_eval</th>\n",
       "      <th>prod</th>\n",
       "      <th>brand</th>\n",
       "      <th>cleaned_comment</th>\n",
       "      <th>lemma_comment</th>\n",
       "    </tr>\n",
       "  </thead>\n",
       "  <tbody>\n",
       "    <tr>\n",
       "      <th>0</th>\n",
       "      <td>Наушники суперские, качество звука суперское, ...</td>\n",
       "      <td>2021-05-04T14:37:48Z</td>\n",
       "      <td>белый</td>\n",
       "      <td>0</td>\n",
       "      <td>1</td>\n",
       "      <td>0</td>\n",
       "      <td>5</td>\n",
       "      <td>Наушники Airpods (2-го поколения) с зарядным ф...</td>\n",
       "      <td>Apple</td>\n",
       "      <td>наушники суперские качество звука суперское ба...</td>\n",
       "      <td>наушник суперский звук суперский бас качать ор...</td>\n",
       "    </tr>\n",
       "    <tr>\n",
       "      <th>1</th>\n",
       "      <td>Через год перестал работать правый микрофон и ...</td>\n",
       "      <td>2021-05-04T05:57:33Z</td>\n",
       "      <td>белый</td>\n",
       "      <td>0</td>\n",
       "      <td>1</td>\n",
       "      <td>0</td>\n",
       "      <td>2</td>\n",
       "      <td>Наушники Airpods (2-го поколения) с зарядным ф...</td>\n",
       "      <td>Apple</td>\n",
       "      <td>через год перестал работать правый микрофон и ...</td>\n",
       "      <td>переставать правый микрофон отключаться левый ...</td>\n",
       "    </tr>\n",
       "    <tr>\n",
       "      <th>2</th>\n",
       "      <td>Одним словом: качество! Оригинальные</td>\n",
       "      <td>2021-05-03T10:39:27Z</td>\n",
       "      <td>белый</td>\n",
       "      <td>0</td>\n",
       "      <td>1</td>\n",
       "      <td>0</td>\n",
       "      <td>5</td>\n",
       "      <td>Наушники Airpods (2-го поколения) с зарядным ф...</td>\n",
       "      <td>Apple</td>\n",
       "      <td>одним словом качество оригинальные</td>\n",
       "      <td>оригинальный</td>\n",
       "    </tr>\n",
       "    <tr>\n",
       "      <th>3</th>\n",
       "      <td>пишу отзыв спустя 9 месяцев. Наушники работают...</td>\n",
       "      <td>2021-05-03T03:54:20Z</td>\n",
       "      <td>белый</td>\n",
       "      <td>0</td>\n",
       "      <td>1</td>\n",
       "      <td>0</td>\n",
       "      <td>5</td>\n",
       "      <td>Наушники Airpods (2-го поколения) с зарядным ф...</td>\n",
       "      <td>Apple</td>\n",
       "      <td>пишу отзыв спустя месяцев наушники работают от...</td>\n",
       "      <td>спустя месяц чистить ушной палочка спирт</td>\n",
       "    </tr>\n",
       "    <tr>\n",
       "      <th>4</th>\n",
       "      <td>Отлично, купила вторые для дочери.</td>\n",
       "      <td>2021-05-02T18:38:42Z</td>\n",
       "      <td>белый</td>\n",
       "      <td>0</td>\n",
       "      <td>2</td>\n",
       "      <td>0</td>\n",
       "      <td>5</td>\n",
       "      <td>Наушники Airpods (2-го поколения) с зарядным ф...</td>\n",
       "      <td>Apple</td>\n",
       "      <td>отлично купила вторые для дочери</td>\n",
       "      <td>дочь</td>\n",
       "    </tr>\n",
       "  </tbody>\n",
       "</table>\n",
       "</div>"
      ],
      "text/plain": [
       "                                             comment             date_time  \\\n",
       "0  Наушники суперские, качество звука суперское, ...  2021-05-04T14:37:48Z   \n",
       "1  Через год перестал работать правый микрофон и ...  2021-05-04T05:57:33Z   \n",
       "2               Одним словом: качество! Оригинальные  2021-05-03T10:39:27Z   \n",
       "3  пишу отзыв спустя 9 месяцев. Наушники работают...  2021-05-03T03:54:20Z   \n",
       "4                 Отлично, купила вторые для дочери.  2021-05-02T18:38:42Z   \n",
       "\n",
       "   color size thumb_up thumb_down prod_eval  \\\n",
       "0  белый    0        1          0         5   \n",
       "1  белый    0        1          0         2   \n",
       "2  белый    0        1          0         5   \n",
       "3  белый    0        1          0         5   \n",
       "4  белый    0        2          0         5   \n",
       "\n",
       "                                                prod  brand  \\\n",
       "0  Наушники Airpods (2-го поколения) с зарядным ф...  Apple   \n",
       "1  Наушники Airpods (2-го поколения) с зарядным ф...  Apple   \n",
       "2  Наушники Airpods (2-го поколения) с зарядным ф...  Apple   \n",
       "3  Наушники Airpods (2-го поколения) с зарядным ф...  Apple   \n",
       "4  Наушники Airpods (2-го поколения) с зарядным ф...  Apple   \n",
       "\n",
       "                                     cleaned_comment  \\\n",
       "0  наушники суперские качество звука суперское ба...   \n",
       "1  через год перестал работать правый микрофон и ...   \n",
       "2                 одним словом качество оригинальные   \n",
       "3  пишу отзыв спустя месяцев наушники работают от...   \n",
       "4                   отлично купила вторые для дочери   \n",
       "\n",
       "                                       lemma_comment  \n",
       "0  наушник суперский звук суперский бас качать ор...  \n",
       "1  переставать правый микрофон отключаться левый ...  \n",
       "2                                       оригинальный  \n",
       "3           спустя месяц чистить ушной палочка спирт  \n",
       "4                                               дочь  "
      ]
     },
     "execution_count": 124,
     "metadata": {},
     "output_type": "execute_result"
    }
   ],
   "source": [
    "df.head(5)"
   ]
  },
  {
   "cell_type": "code",
   "execution_count": 125,
   "id": "moving-coast",
   "metadata": {},
   "outputs": [],
   "source": [
    "df = df.reset_index(drop = True)"
   ]
  },
  {
   "cell_type": "code",
   "execution_count": 126,
   "id": "peaceful-indonesia",
   "metadata": {},
   "outputs": [],
   "source": [
    "preprocessed_comments = df['lemma_comment']"
   ]
  },
  {
   "cell_type": "markdown",
   "id": "considerable-affiliation",
   "metadata": {},
   "source": [
    "# tf-idf"
   ]
  },
  {
   "cell_type": "code",
   "execution_count": 127,
   "id": "official-heather",
   "metadata": {},
   "outputs": [],
   "source": [
    "vectorizer = TfidfVectorizer(min_df=2, ngram_range=(1, 2))"
   ]
  },
  {
   "cell_type": "code",
   "execution_count": 128,
   "id": "genuine-spank",
   "metadata": {},
   "outputs": [],
   "source": [
    "vectorized_comments = vectorizer.fit_transform(preprocessed_comments)"
   ]
  },
  {
   "cell_type": "code",
   "execution_count": 129,
   "id": "interracial-romantic",
   "metadata": {},
   "outputs": [],
   "source": [
    "#  creating a dictionary mapping the tokens to their tfidf values\n",
    "tfidf = dict(zip(vectorizer.get_feature_names(), vectorizer.idf_))\n",
    "tfidf = pd.DataFrame(columns=['tfidf']).from_dict(\n",
    "                    dict(tfidf), orient='index')\n",
    "tfidf.columns = ['tfidf']"
   ]
  },
  {
   "cell_type": "code",
   "execution_count": 130,
   "id": "pleasant-romance",
   "metadata": {},
   "outputs": [
    {
     "data": {
      "text/html": [
       "<div>\n",
       "<style scoped>\n",
       "    .dataframe tbody tr th:only-of-type {\n",
       "        vertical-align: middle;\n",
       "    }\n",
       "\n",
       "    .dataframe tbody tr th {\n",
       "        vertical-align: top;\n",
       "    }\n",
       "\n",
       "    .dataframe thead th {\n",
       "        text-align: right;\n",
       "    }\n",
       "</style>\n",
       "<table border=\"1\" class=\"dataframe\">\n",
       "  <thead>\n",
       "    <tr style=\"text-align: right;\">\n",
       "      <th></th>\n",
       "      <th>tfidf</th>\n",
       "    </tr>\n",
       "  </thead>\n",
       "  <tbody>\n",
       "    <tr>\n",
       "      <th>оригинал</th>\n",
       "      <td>2.179854</td>\n",
       "    </tr>\n",
       "    <tr>\n",
       "      <th>наушник</th>\n",
       "      <td>2.331039</td>\n",
       "    </tr>\n",
       "    <tr>\n",
       "      <th>проверять</th>\n",
       "      <td>2.703380</td>\n",
       "    </tr>\n",
       "    <tr>\n",
       "      <th>звук</th>\n",
       "      <td>2.853154</td>\n",
       "    </tr>\n",
       "    <tr>\n",
       "      <th>оригинальный</th>\n",
       "      <td>2.925584</td>\n",
       "    </tr>\n",
       "  </tbody>\n",
       "</table>\n",
       "</div>"
      ],
      "text/plain": [
       "                 tfidf\n",
       "оригинал      2.179854\n",
       "наушник       2.331039\n",
       "проверять     2.703380\n",
       "звук          2.853154\n",
       "оригинальный  2.925584"
      ]
     },
     "execution_count": 130,
     "metadata": {},
     "output_type": "execute_result"
    }
   ],
   "source": [
    "#Эти слова показываем пользователю, он вводит то, по чему хочет почитать подробнее, или свое слово\n",
    "tfidf.sort_values(by=['tfidf'], ascending=True).head(5)"
   ]
  },
  {
   "cell_type": "markdown",
   "id": "clear-walter",
   "metadata": {
    "heading_collapsed": true
   },
   "source": [
    "# Spacy. Looking for most similar comments for each word"
   ]
  },
  {
   "cell_type": "code",
   "execution_count": 131,
   "id": "leading-secret",
   "metadata": {
    "hidden": true
   },
   "outputs": [],
   "source": [
    "nlp = spacy.load('ru_core_news_lg')"
   ]
  },
  {
   "cell_type": "code",
   "execution_count": 132,
   "id": "about-antigua",
   "metadata": {
    "hidden": true
   },
   "outputs": [],
   "source": [
    "def top_10_similar(word_for_checking, dataframe):\n",
    "    critical_similarity_value = 0.44\n",
    "    \n",
    "    word_for_checking = nlp(word_for_checking)\n",
    "    similarities = []\n",
    "    for i in range(len(dataframe['lemma_comment'])):\n",
    "        similarities.append(nlp(dataframe['lemma_comment'][i]).similarity(word_for_checking))\n",
    "    \n",
    "    df_temp = dataframe.copy()\n",
    "    \n",
    "    df_temp[f'similarity_to_{word_for_checking}'] = similarities\n",
    "    #сортировка по убыванию similarities, фильтрация в соответствии с critical_similarity_value\n",
    "    df_temp = df_temp.sort_values(by = f'similarity_to_{word_for_checking}', ascending = False).head(10)\n",
    "    res = df_temp[df_temp[f'similarity_to_{word_for_checking}'] > critical_similarity_value][['comment', f'similarity_to_{word_for_checking}']]\n",
    "    res = list(res['comment'])\n",
    "    \n",
    "    if len(res)>0:\n",
    "        return res\n",
    "    else: \n",
    "        return \"По вашему запросу совпадений не найдено\""
   ]
  },
  {
   "cell_type": "code",
   "execution_count": 133,
   "id": "negative-wages",
   "metadata": {
    "hidden": true
   },
   "outputs": [
    {
     "name": "stderr",
     "output_type": "stream",
     "text": [
      "/opt/anaconda3/lib/python3.7/site-packages/ipykernel_launcher.py:7: UserWarning: [W008] Evaluating Doc.similarity based on empty vectors.\n",
      "  import sys\n"
     ]
    },
    {
     "data": {
      "text/plain": [
       "['Наушники работают. Будем проверять ',\n",
       " 'Пришли,проверили вроле все отлично. Посмотрим через время.',\n",
       " 'Я свои проверила оригинал )))вот так правильно их проверить ',\n",
       " 'Забрала сегодня, проверила сразу. Супер 👏 спасибо ! ',\n",
       " 'Получил наушники , пока доволен качеством, но ещё буду проверять что как работают ,сколько идёт зарядка ,на сколько хватает , проверял по id все ок! Пока ставлю 5* !',\n",
       " 'На подлинность проверены, все отлично.',\n",
       " 'Проверили подлинность, все в порядке',\n",
       " 'Оригинальные, проверила сразу серийник при покупке. Все работает. Спасибо :)',\n",
       " 'Наушники оригинальные, проверили. Все работает отлично',\n",
       " 'Вскрывать до оплаты не разрешили. Оплатили и всё проверили. Все номера совпадают, оригинал однозначно., подключились за пару секунд. Проверить сири не смогли, т.к. у нас не айфон, наушники в подарок, там проверят. Цена порадовала 10926.']"
      ]
     },
     "execution_count": 133,
     "metadata": {},
     "output_type": "execute_result"
    }
   ],
   "source": [
    "#%time\n",
    "#start_time = time.time()\n",
    "top_10_similar('проверять', df)\n",
    "#print(\"--- %s seconds ---\" % (time.time() - start_time))"
   ]
  },
  {
   "cell_type": "markdown",
   "id": "civilian-parts",
   "metadata": {},
   "source": [
    "# Delete Stopwords. TFIDF once again"
   ]
  },
  {
   "cell_type": "code",
   "execution_count": 134,
   "id": "moving-municipality",
   "metadata": {},
   "outputs": [
    {
     "data": {
      "text/plain": [
       "(array([   2.,    3.,   11.,   12.,   29.,   59.,  100.,  178.,  429.,\n",
       "        1247.]),\n",
       " array([2.17985352, 2.68069458, 3.18153564, 3.6823767 , 4.18321776,\n",
       "        4.68405882, 5.18489988, 5.68574094, 6.186582  , 6.68742306,\n",
       "        7.18826412]),\n",
       " <BarContainer object of 10 artists>)"
      ]
     },
     "execution_count": 134,
     "metadata": {},
     "output_type": "execute_result"
    },
    {
     "data": {
      "image/png": "[encoded data removed]",
      "text/plain": [
       "<Figure size 432x288 with 1 Axes>"
      ]
     },
     "metadata": {
      "needs_background": "light"
     },
     "output_type": "display_data"
    }
   ],
   "source": [
    "# df[~(df.gender == 'F') | (df.age > 40)]\n",
    "\n",
    "plt.hist(tfidf.sort_values('tfidf'))\n"
   ]
  },
  {
   "cell_type": "code",
   "execution_count": 135,
   "id": "minute-description",
   "metadata": {},
   "outputs": [],
   "source": [
    "max_lim = 6\n",
    "min_lim = 3"
   ]
  },
  {
   "cell_type": "code",
   "execution_count": 136,
   "id": "crucial-wallace",
   "metadata": {},
   "outputs": [],
   "source": [
    "SW_tfidf = tfidf[(tfidf['tfidf']>max_lim)|(tfidf['tfidf']<min_lim)].reset_index()['index'].tolist()"
   ]
  },
  {
   "cell_type": "code",
   "execution_count": 137,
   "id": "subject-command",
   "metadata": {},
   "outputs": [],
   "source": [
    "russian_stopwords.extend(SW_tfidf)"
   ]
  },
  {
   "cell_type": "code",
   "execution_count": 138,
   "id": "imposed-voice",
   "metadata": {},
   "outputs": [
    {
     "name": "stdout",
     "output_type": "stream",
     "text": [
      "CPU times: user 3 µs, sys: 0 ns, total: 3 µs\n",
      "Wall time: 26.2 µs\n"
     ]
    }
   ],
   "source": [
    "%time\n",
    "df['lemma_comment_2'] = df['lemma_comment'].map(lambda x: delete_stopwords(x))\n",
    "df = df.drop(df[df['lemma_comment']==''].index)"
   ]
  },
  {
   "cell_type": "code",
   "execution_count": 139,
   "id": "coated-buffalo",
   "metadata": {},
   "outputs": [
    {
     "data": {
      "text/html": [
       "<div>\n",
       "<style scoped>\n",
       "    .dataframe tbody tr th:only-of-type {\n",
       "        vertical-align: middle;\n",
       "    }\n",
       "\n",
       "    .dataframe tbody tr th {\n",
       "        vertical-align: top;\n",
       "    }\n",
       "\n",
       "    .dataframe thead th {\n",
       "        text-align: right;\n",
       "    }\n",
       "</style>\n",
       "<table border=\"1\" class=\"dataframe\">\n",
       "  <thead>\n",
       "    <tr style=\"text-align: right;\">\n",
       "      <th></th>\n",
       "      <th>comment</th>\n",
       "      <th>date_time</th>\n",
       "      <th>color</th>\n",
       "      <th>size</th>\n",
       "      <th>thumb_up</th>\n",
       "      <th>thumb_down</th>\n",
       "      <th>prod_eval</th>\n",
       "      <th>prod</th>\n",
       "      <th>brand</th>\n",
       "      <th>cleaned_comment</th>\n",
       "      <th>lemma_comment</th>\n",
       "      <th>lemma_comment_2</th>\n",
       "    </tr>\n",
       "  </thead>\n",
       "  <tbody>\n",
       "    <tr>\n",
       "      <th>0</th>\n",
       "      <td>Наушники суперские, качество звука суперское, ...</td>\n",
       "      <td>2021-05-04T14:37:48Z</td>\n",
       "      <td>белый</td>\n",
       "      <td>0</td>\n",
       "      <td>1</td>\n",
       "      <td>0</td>\n",
       "      <td>5</td>\n",
       "      <td>Наушники Airpods (2-го поколения) с зарядным ф...</td>\n",
       "      <td>Apple</td>\n",
       "      <td>наушники суперские качество звука суперское ба...</td>\n",
       "      <td>наушник суперский звук суперский бас качать ор...</td>\n",
       "      <td>качать подделка номер сайт пробиваться гарантия</td>\n",
       "    </tr>\n",
       "    <tr>\n",
       "      <th>1</th>\n",
       "      <td>Через год перестал работать правый микрофон и ...</td>\n",
       "      <td>2021-05-04T05:57:33Z</td>\n",
       "      <td>белый</td>\n",
       "      <td>0</td>\n",
       "      <td>1</td>\n",
       "      <td>0</td>\n",
       "      <td>2</td>\n",
       "      <td>Наушники Airpods (2-го поколения) с зарядным ф...</td>\n",
       "      <td>Apple</td>\n",
       "      <td>через год перестал работать правый микрофон и ...</td>\n",
       "      <td>переставать правый микрофон отключаться левый ...</td>\n",
       "      <td>переставать правый микрофон левый щелчок</td>\n",
       "    </tr>\n",
       "    <tr>\n",
       "      <th>2</th>\n",
       "      <td>Одним словом: качество! Оригинальные</td>\n",
       "      <td>2021-05-03T10:39:27Z</td>\n",
       "      <td>белый</td>\n",
       "      <td>0</td>\n",
       "      <td>1</td>\n",
       "      <td>0</td>\n",
       "      <td>5</td>\n",
       "      <td>Наушники Airpods (2-го поколения) с зарядным ф...</td>\n",
       "      <td>Apple</td>\n",
       "      <td>одним словом качество оригинальные</td>\n",
       "      <td>оригинальный</td>\n",
       "      <td></td>\n",
       "    </tr>\n",
       "    <tr>\n",
       "      <th>3</th>\n",
       "      <td>пишу отзыв спустя 9 месяцев. Наушники работают...</td>\n",
       "      <td>2021-05-03T03:54:20Z</td>\n",
       "      <td>белый</td>\n",
       "      <td>0</td>\n",
       "      <td>1</td>\n",
       "      <td>0</td>\n",
       "      <td>5</td>\n",
       "      <td>Наушники Airpods (2-го поколения) с зарядным ф...</td>\n",
       "      <td>Apple</td>\n",
       "      <td>пишу отзыв спустя месяцев наушники работают от...</td>\n",
       "      <td>спустя месяц чистить ушной палочка спирт</td>\n",
       "      <td>спустя месяц палочка спирт</td>\n",
       "    </tr>\n",
       "    <tr>\n",
       "      <th>4</th>\n",
       "      <td>Отлично, купила вторые для дочери.</td>\n",
       "      <td>2021-05-02T18:38:42Z</td>\n",
       "      <td>белый</td>\n",
       "      <td>0</td>\n",
       "      <td>2</td>\n",
       "      <td>0</td>\n",
       "      <td>5</td>\n",
       "      <td>Наушники Airpods (2-го поколения) с зарядным ф...</td>\n",
       "      <td>Apple</td>\n",
       "      <td>отлично купила вторые для дочери</td>\n",
       "      <td>дочь</td>\n",
       "      <td>дочь</td>\n",
       "    </tr>\n",
       "  </tbody>\n",
       "</table>\n",
       "</div>"
      ],
      "text/plain": [
       "                                             comment             date_time  \\\n",
       "0  Наушники суперские, качество звука суперское, ...  2021-05-04T14:37:48Z   \n",
       "1  Через год перестал работать правый микрофон и ...  2021-05-04T05:57:33Z   \n",
       "2               Одним словом: качество! Оригинальные  2021-05-03T10:39:27Z   \n",
       "3  пишу отзыв спустя 9 месяцев. Наушники работают...  2021-05-03T03:54:20Z   \n",
       "4                 Отлично, купила вторые для дочери.  2021-05-02T18:38:42Z   \n",
       "\n",
       "   color size thumb_up thumb_down prod_eval  \\\n",
       "0  белый    0        1          0         5   \n",
       "1  белый    0        1          0         2   \n",
       "2  белый    0        1          0         5   \n",
       "3  белый    0        1          0         5   \n",
       "4  белый    0        2          0         5   \n",
       "\n",
       "                                                prod  brand  \\\n",
       "0  Наушники Airpods (2-го поколения) с зарядным ф...  Apple   \n",
       "1  Наушники Airpods (2-го поколения) с зарядным ф...  Apple   \n",
       "2  Наушники Airpods (2-го поколения) с зарядным ф...  Apple   \n",
       "3  Наушники Airpods (2-го поколения) с зарядным ф...  Apple   \n",
       "4  Наушники Airpods (2-го поколения) с зарядным ф...  Apple   \n",
       "\n",
       "                                     cleaned_comment  \\\n",
       "0  наушники суперские качество звука суперское ба...   \n",
       "1  через год перестал работать правый микрофон и ...   \n",
       "2                 одним словом качество оригинальные   \n",
       "3  пишу отзыв спустя месяцев наушники работают от...   \n",
       "4                   отлично купила вторые для дочери   \n",
       "\n",
       "                                       lemma_comment  \\\n",
       "0  наушник суперский звук суперский бас качать ор...   \n",
       "1  переставать правый микрофон отключаться левый ...   \n",
       "2                                       оригинальный   \n",
       "3           спустя месяц чистить ушной палочка спирт   \n",
       "4                                               дочь   \n",
       "\n",
       "                                   lemma_comment_2  \n",
       "0  качать подделка номер сайт пробиваться гарантия  \n",
       "1         переставать правый микрофон левый щелчок  \n",
       "2                                                   \n",
       "3                       спустя месяц палочка спирт  \n",
       "4                                             дочь  "
      ]
     },
     "execution_count": 139,
     "metadata": {},
     "output_type": "execute_result"
    }
   ],
   "source": [
    "df.head(5)"
   ]
  },
  {
   "cell_type": "code",
   "execution_count": 140,
   "id": "recent-portable",
   "metadata": {},
   "outputs": [],
   "source": [
    "df = df.reset_index(drop = True)"
   ]
  },
  {
   "cell_type": "code",
   "execution_count": 141,
   "id": "corporate-intelligence",
   "metadata": {},
   "outputs": [],
   "source": [
    "preprocessed_comments_2 = df['lemma_comment_2']"
   ]
  },
  {
   "cell_type": "code",
   "execution_count": 142,
   "id": "norman-valley",
   "metadata": {},
   "outputs": [],
   "source": [
    "vectorizer2 = TfidfVectorizer(min_df=2, ngram_range=(1, 2))\n",
    "vectorized_comments_2 = vectorizer2.fit_transform(preprocessed_comments_2)"
   ]
  },
  {
   "cell_type": "code",
   "execution_count": 143,
   "id": "irish-interface",
   "metadata": {},
   "outputs": [],
   "source": [
    "#  creating a dictionary mapping the tokens to their tfidf values\n",
    "tfidf2 = dict(zip(vectorizer2.get_feature_names(), vectorizer2.idf_))\n",
    "tfidf2 = pd.DataFrame(columns=['tfidf']).from_dict(\n",
    "                    dict(tfidf2), orient='index')\n",
    "tfidf2.columns = ['tfidf']"
   ]
  },
  {
   "cell_type": "code",
   "execution_count": 144,
   "id": "unlike-extent",
   "metadata": {},
   "outputs": [
    {
     "data": {
      "text/html": [
       "<div>\n",
       "<style scoped>\n",
       "    .dataframe tbody tr th:only-of-type {\n",
       "        vertical-align: middle;\n",
       "    }\n",
       "\n",
       "    .dataframe tbody tr th {\n",
       "        vertical-align: top;\n",
       "    }\n",
       "\n",
       "    .dataframe thead th {\n",
       "        text-align: right;\n",
       "    }\n",
       "</style>\n",
       "<table border=\"1\" class=\"dataframe\">\n",
       "  <thead>\n",
       "    <tr style=\"text-align: right;\">\n",
       "      <th></th>\n",
       "      <th>tfidf</th>\n",
       "    </tr>\n",
       "  </thead>\n",
       "  <tbody>\n",
       "    <tr>\n",
       "      <th>номер</th>\n",
       "      <td>3.289664</td>\n",
       "    </tr>\n",
       "    <tr>\n",
       "      <th>сайт</th>\n",
       "      <td>3.317063</td>\n",
       "    </tr>\n",
       "    <tr>\n",
       "      <th>упаковка</th>\n",
       "      <td>3.389037</td>\n",
       "    </tr>\n",
       "    <tr>\n",
       "      <th>поколение</th>\n",
       "      <td>3.499385</td>\n",
       "    </tr>\n",
       "    <tr>\n",
       "      <th>серийный</th>\n",
       "      <td>3.541944</td>\n",
       "    </tr>\n",
       "  </tbody>\n",
       "</table>\n",
       "</div>"
      ],
      "text/plain": [
       "              tfidf\n",
       "номер      3.289664\n",
       "сайт       3.317063\n",
       "упаковка   3.389037\n",
       "поколение  3.499385\n",
       "серийный   3.541944"
      ]
     },
     "execution_count": 144,
     "metadata": {},
     "output_type": "execute_result"
    }
   ],
   "source": [
    "#Эти слова показываем пользователю, он вводит то, по чему хочет почитать подробнее, или свое слово\n",
    "tfidf2.sort_values(by=['tfidf'], ascending=True).head(5)"
   ]
  },
  {
   "cell_type": "code",
   "execution_count": 145,
   "id": "local-matthew",
   "metadata": {},
   "outputs": [],
   "source": [
    "nlp = spacy.load('ru_core_news_lg')"
   ]
  },
  {
   "cell_type": "code",
   "execution_count": 146,
   "id": "secure-polyester",
   "metadata": {},
   "outputs": [],
   "source": [
    "def top_10_similar2(word_for_checking, dataframe):\n",
    "    critical_similarity_value = 0.44\n",
    "    \n",
    "    word_for_checking = nlp(word_for_checking)\n",
    "    similarities = []\n",
    "    for i in range(len(dataframe['lemma_comment_2'])):\n",
    "        similarities.append(nlp(dataframe['lemma_comment_2'][i]).similarity(word_for_checking))\n",
    "    \n",
    "    df_temp = dataframe.copy()\n",
    "    \n",
    "    df_temp[f'similarity_to_{word_for_checking}'] = similarities\n",
    "    #сортировка по убыванию similarities, фильтрация в соответствии с critical_similarity_value\n",
    "    df_temp = df_temp.sort_values(by = f'similarity_to_{word_for_checking}', ascending = False).head(10)\n",
    "    res = df_temp[df_temp[f'similarity_to_{word_for_checking}'] > critical_similarity_value][['comment', f'similarity_to_{word_for_checking}']]\n",
    "    res = list(res['comment'])\n",
    "    \n",
    "    if len(res)>0:\n",
    "        return res\n",
    "    else: \n",
    "        return \"По вашему запросу совпадений не найдено\""
   ]
  },
  {
   "cell_type": "code",
   "execution_count": 147,
   "id": "julian-pleasure",
   "metadata": {},
   "outputs": [
    {
     "name": "stderr",
     "output_type": "stream",
     "text": [
      "/opt/anaconda3/lib/python3.7/site-packages/ipykernel_launcher.py:7: UserWarning: [W008] Evaluating Doc.similarity based on empty vectors.\n",
      "  import sys\n"
     ]
    },
    {
     "data": {
      "text/plain": [
       "['Использую несколько месяцев,очень довольна👍🏻наушники оригинал',\n",
       " 'Наушниками пользую уже четыре месяца ,все работает ,очень довольна покупкой )',\n",
       " 'Работаю уже 4 месяца, полет нормальный.',\n",
       " 'Всё отлично ,взял две пары себе и дочке . Три месяца всё работает ',\n",
       " 'Пользуюсь уже несколько месяцев, работают замечательно.',\n",
       " 'Оригинальные airpods второго поколения, проверены на сайте apple, но гарантия не полгода, а три месяца, т.к. wildberries пепекупщик',\n",
       " 'Прошло более 3х месяцев всё идеально. Спасибо',\n",
       " 'Пишу спустя месяц использования. Работают отлично. При покупке проверили все номера - оригинал.',\n",
       " 'Оригинал. Работают идеально. Хожу с ними уже месяц. Буду заказывать мужу.👍🏻',\n",
       " 'Отличные наушники. Покупала их тут уже три раза (на подарки). У всех все работает отлично уже несколько месяцев.']"
      ]
     },
     "execution_count": 147,
     "metadata": {},
     "output_type": "execute_result"
    }
   ],
   "source": [
    "top_10_similar2('месяц', df)"
   ]
  },
  {
   "cell_type": "code",
   "execution_count": null,
   "id": "satisfied-briefs",
   "metadata": {},
   "outputs": [],
   "source": []
  },
  {
   "cell_type": "code",
   "execution_count": null,
   "id": "relative-spice",
   "metadata": {},
   "outputs": [],
   "source": []
  },
  {
   "cell_type": "code",
   "execution_count": null,
   "id": "completed-grove",
   "metadata": {},
   "outputs": [],
   "source": []
  }
 ],
 "metadata": {
  "kernelspec": {
   "display_name": "Python 3",
   "language": "python",
   "name": "python3"
  },
  "language_info": {
   "codemirror_mode": {
    "name": "ipython",
    "version": 3
   },
   "file_extension": ".py",
   "mimetype": "text/x-python",
   "name": "python",
   "nbconvert_exporter": "python",
   "pygments_lexer": "ipython3",
   "version": "3.7.4"
  }
 },
 "nbformat": 4,
 "nbformat_minor": 5
}
